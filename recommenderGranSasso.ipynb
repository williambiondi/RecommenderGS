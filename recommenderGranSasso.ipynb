{
  "cells": [
    {
      "cell_type": "markdown",
      "metadata": {
        "id": "view-in-github",
        "colab_type": "text"
      },
      "source": [
        "<a href=\"https://colab.research.google.com/github/williambiondi/RecommenderGS/blob/main/recommenderGranSasso.ipynb\" target=\"_parent\"><img src=\"https://colab.research.google.com/assets/colab-badge.svg\" alt=\"Open In Colab\"/></a>"
      ]
    },
    {
      "cell_type": "markdown",
      "metadata": {
        "id": "B6heL7gtzWdW"
      },
      "source": [
        "Importazione dei dati e librerie\n"
      ]
    },
    {
      "cell_type": "markdown",
      "metadata": {
        "id": "N4NobMnkGApf"
      },
      "source": [
        "#Caricamento dati"
      ]
    },
    {
      "cell_type": "code",
      "execution_count": 1,
      "metadata": {
        "colab": {
          "base_uri": "https://localhost:8080/"
        },
        "id": "PVsrNdGwSfRi",
        "outputId": "eea058fd-fc59-4dc9-b1a3-f0ecc603d204"
      },
      "outputs": [
        {
          "output_type": "stream",
          "name": "stdout",
          "text": [
            "\u001b[2K     \u001b[90m━━━━━━━━━━━━━━━━━━━━━━━━━━━━━━━━━━━━━━━━\u001b[0m \u001b[32m96.2/96.2 kB\u001b[0m \u001b[31m3.3 MB/s\u001b[0m eta \u001b[36m0:00:00\u001b[0m\n",
            "\u001b[2K     \u001b[90m━━━━━━━━━━━━━━━━━━━━━━━━━━━━━━━━━━━━━━━━\u001b[0m \u001b[32m128.9/128.9 kB\u001b[0m \u001b[31m3.9 MB/s\u001b[0m eta \u001b[36m0:00:00\u001b[0m\n",
            "\u001b[?25h"
          ]
        }
      ],
      "source": [
        "!pip install tensorflow -q\n",
        "!pip install transformers -q\n",
        "!pip install tensorflow-recommenders -q\n",
        "!pip install keras-tuner -q"
      ]
    },
    {
      "cell_type": "code",
      "execution_count": 2,
      "metadata": {
        "id": "LtiJjdrgv2fj"
      },
      "outputs": [],
      "source": [
        "import pandas as pd\n",
        "import numpy as np\n",
        "import tensorflow as tf\n",
        "import tensorflow_recommenders as tfrs\n",
        "from transformers import DistilBertTokenizer, TFDistilBertModel\n",
        "from IPython import display\n",
        "from matplotlib import pyplot as plt\n",
        "from sklearn.decomposition import PCA\n",
        "import re\n",
        "from keras_tuner import HyperModel\n",
        "from keras_tuner.tuners import RandomSearch\n",
        "from ast import literal_eval\n",
        "from sklearn.preprocessing import MultiLabelBinarizer\n",
        "from tensorflow.keras.layers.experimental.preprocessing import StringLookup\n",
        "from tensorflow.keras.layers import Input, Concatenate, Embedding, Dense, Dropout, ReLU, Flatten, BatchNormalization\n",
        "from tensorflow.keras.models import Model"
      ]
    },
    {
      "cell_type": "code",
      "execution_count": 3,
      "metadata": {
        "id": "tE84iipwDryv"
      },
      "outputs": [],
      "source": [
        "items = pd.read_csv('https://raw.githubusercontent.com/williambiondi/RecommenderGS/main/ArticoliGransasso.csv')\n",
        "customers = pd.read_csv('https://raw.githubusercontent.com/williambiondi/RecommenderGS/main/ClientiGransasso.csv')\n",
        "purchases = pd.read_csv('https://raw.githubusercontent.com/williambiondi/RecommenderGS/main/OrdiniGransasso.csv')"
      ]
    },
    {
      "cell_type": "code",
      "execution_count": 4,
      "metadata": {
        "id": "Jj6KyMHhcM7E"
      },
      "outputs": [],
      "source": [
        "items.drop(columns=['Unnamed: 0'], inplace=True)\n",
        "customers.drop(columns=['Unnamed: 0'], inplace=True)\n",
        "purchases.drop(columns=['Unnamed: 0'], inplace=True)"
      ]
    },
    {
      "cell_type": "markdown",
      "metadata": {
        "id": "qwtZcPXCrVkf"
      },
      "source": [
        "#Preparazione dati per modello\n"
      ]
    },
    {
      "cell_type": "markdown",
      "metadata": {
        "id": "3lFTfKUuZnbb"
      },
      "source": [
        "Annoto come interazione positiva (1) tutti gli articoli acquistati, come interazione negativa (0) tutti gli articoli rimborsati"
      ]
    },
    {
      "cell_type": "code",
      "execution_count": 5,
      "metadata": {
        "id": "VHXBX0gQ1rCU"
      },
      "outputs": [],
      "source": [
        "interactions = [1 if row['RefundedEUR'] == 0 else 0 for _,row in purchases.iterrows()]\n",
        "purchases[\"Interaction\"] = interactions"
      ]
    },
    {
      "cell_type": "code",
      "execution_count": 6,
      "metadata": {
        "id": "i_9cVDD5vL0_"
      },
      "outputs": [],
      "source": [
        "text_combined = []\n",
        "for idx, row in items.iterrows():\n",
        "  descriptive = row['ItemName'].lower()+\" \"+row['Description']\n",
        "  text_combined.append(descriptive)\n",
        "items['TextInfo'] = text_combined"
      ]
    },
    {
      "cell_type": "code",
      "execution_count": 7,
      "metadata": {
        "colab": {
          "base_uri": "https://localhost:8080/"
        },
        "id": "RFIcfs0AF2Q0",
        "outputId": "a2cc3c33-f496-4f18-f45e-73936951f4bd"
      },
      "outputs": [
        {
          "output_type": "execute_result",
          "data": {
            "text/plain": [
              "190"
            ]
          },
          "metadata": {},
          "execution_count": 7
        }
      ],
      "source": [
        "len_desc = [len(row['TextInfo'].split(\" \")) for _,row in items.iterrows()]\n",
        "max(len_desc)"
      ]
    },
    {
      "cell_type": "markdown",
      "metadata": {
        "id": "OJtRuMA4agYO"
      },
      "source": [
        "Utilizzo DistilBERT per ottenere gli embeddings di tutta l'informazione testuale degli articoli (nome articolo e descrizione) a parte anche gli embeddings delle categorie"
      ]
    },
    {
      "cell_type": "code",
      "execution_count": 8,
      "metadata": {
        "colab": {
          "base_uri": "https://localhost:8080/",
          "height": 0,
          "referenced_widgets": [
            "7353ce5501104cc689a38da56e20365b",
            "7fb87f7006c3495d97f83c6b3821c885",
            "427af81225e8409aa706ad98002169ad",
            "df8112a4ea094f739591b968f65391fc",
            "5ed655003aec4b309497e91d797af229",
            "dd5876bffdf94674b7a090e4e8bdea0d",
            "230f227c468b49dba95299c0095ee3c1",
            "b04e586287c84a0296912da6538f944c",
            "6a1d3175f9674e4db21aa40cf5efdf4f",
            "efcbbcc89dee4e8b9ef18565cc927851",
            "9606a9afe0de406896eaa378b23982c6",
            "4b200003b465487d87b6a72c65e626ab",
            "b48f9d2e94604148a6e797ba38b715f3",
            "24f95478e64942eeb7b6f39d873ab968",
            "df6bb262cb1b46cebd0d9e666abf9f07",
            "117407065e08448994689936a81245c3",
            "7796830c0ae846dda1542d1eef36bc36",
            "08f6991a2c26451d8c2da6c66f9dbd9f",
            "0a01b93100dc415c95d2cb4c9e503d2e",
            "65b92bc239ff4195b4ec23e0eb9ada9f",
            "4e37dfd401634233a85a794377fcb0ed",
            "3a83d003997248269163e5b7c9b645b5",
            "4f7158403645486f97e4543ac0976cc7",
            "1fbc56375c6940279e12ad1cde136669",
            "7118115c11754eb589570b6dd451aac8",
            "b8035c45a498448da6962266fb6e036c",
            "479367dac8924be0af72bd453715eb87",
            "3bf4c9093f3c457687cced2d00ec9ba3",
            "21569e3b606c4e77af4b45eefb620edd",
            "22c6992ec8fa44748cf2138afca9f541",
            "14fc703f0f6240988a69c4ad7fef9f05",
            "25bac0b2721244f7a1322e763a5a5332",
            "101c0570fe7944b9a4ab45e427a7896d",
            "5dedbcb314094f258921dfab13b01e54",
            "c99114508d6e42d882874de141b3d41a",
            "a1e5e168909743a7908e41396d61918d",
            "e6a62182a2a940f39b33379cc795f57a",
            "c2fe0c323ee24026ace2d38037e5f627",
            "08e73abfd7c24b8db9e6e70ffa5b1bd6",
            "1b764721c7d742c9a11d4b371df0e053",
            "23bb96b7aa03445eb8c487e161464295",
            "cab0b4d347f0459eac4b2773c42ba209",
            "893195c833c54f11ae218a53a550ac21",
            "aa8f6ec7b76d49caa31284010a853cdd"
          ]
        },
        "id": "Rc0JmzGrBaoY",
        "outputId": "b94cfab0-21e3-47b8-b544-2c5b2411b64d"
      },
      "outputs": [
        {
          "output_type": "stream",
          "name": "stderr",
          "text": [
            "/usr/local/lib/python3.10/dist-packages/huggingface_hub/utils/_token.py:88: UserWarning: \n",
            "The secret `HF_TOKEN` does not exist in your Colab secrets.\n",
            "To authenticate with the Hugging Face Hub, create a token in your settings tab (https://huggingface.co/settings/tokens), set it as secret in your Google Colab and restart your session.\n",
            "You will be able to reuse this secret in all of your notebooks.\n",
            "Please note that authentication is recommended but still optional to access public models or datasets.\n",
            "  warnings.warn(\n"
          ]
        },
        {
          "output_type": "display_data",
          "data": {
            "text/plain": [
              "tokenizer_config.json:   0%|          | 0.00/28.0 [00:00<?, ?B/s]"
            ],
            "application/vnd.jupyter.widget-view+json": {
              "version_major": 2,
              "version_minor": 0,
              "model_id": "7353ce5501104cc689a38da56e20365b"
            }
          },
          "metadata": {}
        },
        {
          "output_type": "display_data",
          "data": {
            "text/plain": [
              "vocab.txt:   0%|          | 0.00/232k [00:00<?, ?B/s]"
            ],
            "application/vnd.jupyter.widget-view+json": {
              "version_major": 2,
              "version_minor": 0,
              "model_id": "4b200003b465487d87b6a72c65e626ab"
            }
          },
          "metadata": {}
        },
        {
          "output_type": "display_data",
          "data": {
            "text/plain": [
              "tokenizer.json:   0%|          | 0.00/466k [00:00<?, ?B/s]"
            ],
            "application/vnd.jupyter.widget-view+json": {
              "version_major": 2,
              "version_minor": 0,
              "model_id": "4f7158403645486f97e4543ac0976cc7"
            }
          },
          "metadata": {}
        },
        {
          "output_type": "display_data",
          "data": {
            "text/plain": [
              "config.json:   0%|          | 0.00/483 [00:00<?, ?B/s]"
            ],
            "application/vnd.jupyter.widget-view+json": {
              "version_major": 2,
              "version_minor": 0,
              "model_id": "5dedbcb314094f258921dfab13b01e54"
            }
          },
          "metadata": {}
        }
      ],
      "source": [
        "tokenizer = DistilBertTokenizer.from_pretrained('distilbert-base-uncased')\n",
        "enc_input = tokenizer(items['TextInfo'].tolist(),\n",
        "                      padding=True,\n",
        "                      truncation=True,\n",
        "                      max_length=150,\n",
        "                      return_tensors='tf')"
      ]
    },
    {
      "cell_type": "code",
      "execution_count": 9,
      "metadata": {
        "colab": {
          "base_uri": "https://localhost:8080/",
          "height": 0,
          "referenced_widgets": [
            "524f0d9247e44cd4a76b4abe2f93e74f",
            "7638a196844e45b58c52db3a86ebb48c",
            "43d4f32ccbc849e3bc1694f9c5426db3",
            "f863f81555694b0cba4a3c70f8fa3397",
            "c8e6f6deca104ac9acded3d63e4a2523",
            "92f0ccaf9c9848488c866503b18e5e34",
            "6a037ebae3ba4b16b8540e40ea8fa067",
            "122ffdf2049545058d80c17da4a7d53d",
            "38e218320e0d4b8aa71852d35cdf52b8",
            "6b19e18c1f1f4e7cb543b65d89d04581",
            "7dccab00cb5f4881bac828731f50f34b"
          ]
        },
        "id": "G6vrQWiz_Blo",
        "outputId": "b8271425-4da4-4d0f-da99-337c40249c6b"
      },
      "outputs": [
        {
          "output_type": "display_data",
          "data": {
            "text/plain": [
              "model.safetensors:   0%|          | 0.00/268M [00:00<?, ?B/s]"
            ],
            "application/vnd.jupyter.widget-view+json": {
              "version_major": 2,
              "version_minor": 0,
              "model_id": "524f0d9247e44cd4a76b4abe2f93e74f"
            }
          },
          "metadata": {}
        },
        {
          "output_type": "stream",
          "name": "stderr",
          "text": [
            "Some weights of the PyTorch model were not used when initializing the TF 2.0 model TFDistilBertModel: ['vocab_layer_norm.weight', 'vocab_layer_norm.bias', 'vocab_transform.weight', 'vocab_transform.bias', 'vocab_projector.bias']\n",
            "- This IS expected if you are initializing TFDistilBertModel from a PyTorch model trained on another task or with another architecture (e.g. initializing a TFBertForSequenceClassification model from a BertForPreTraining model).\n",
            "- This IS NOT expected if you are initializing TFDistilBertModel from a PyTorch model that you expect to be exactly identical (e.g. initializing a TFBertForSequenceClassification model from a BertForSequenceClassification model).\n",
            "All the weights of TFDistilBertModel were initialized from the PyTorch model.\n",
            "If your task is similar to the task the model of the checkpoint was trained on, you can already use TFDistilBertModel for predictions without further training.\n"
          ]
        }
      ],
      "source": [
        "distilbert_model = TFDistilBertModel.from_pretrained('distilbert-base-uncased')\n"
      ]
    },
    {
      "cell_type": "code",
      "execution_count": null,
      "metadata": {
        "id": "NzK7cEUsCg00"
      },
      "outputs": [],
      "source": [
        "with tf.device('/CPU:0'):\n",
        "  outputs = distilbert_model(enc_input)\n",
        "  embeddings = outputs.last_hidden_state"
      ]
    },
    {
      "cell_type": "code",
      "execution_count": null,
      "metadata": {
        "id": "BT_45T2ZJl05"
      },
      "outputs": [],
      "source": [
        "embeddings_np = embeddings.numpy()\n",
        "summary_embeddings = embeddings_np[:,0,:]\n",
        "df_embeddings = pd.DataFrame(summary_embeddings)\n",
        "df_embeddings.columns = [f'embedding_{i}' for i in range(df_embeddings.shape[1])]"
      ]
    },
    {
      "cell_type": "code",
      "execution_count": null,
      "metadata": {
        "id": "Uxtxe-2ieGm-"
      },
      "outputs": [],
      "source": [
        "items['Category_combined'] = items['Category'].apply(lambda x: ' '.join(x))\n",
        "enc_input = tokenizer(items['Category_combined'].tolist(),\n",
        "                      padding=True,\n",
        "                      truncation=True,\n",
        "                      max_length=20,\n",
        "                      return_tensors='tf')\n",
        "with tf.device('/CPU:0'):\n",
        "  outputs = distilbert_model(enc_input)\n",
        "  category_embeddings = outputs.last_hidden_state\n",
        "category_embeddings_np = category_embeddings.numpy()\n",
        "summary_category_embeddings = category_embeddings_np[:,0,:]\n",
        "df_category_embeddings = pd.DataFrame(summary_category_embeddings)\n",
        "df_category_embeddings.columns = [f'category_embedding_{i}' for i in range(df_category_embeddings.shape[1])]"
      ]
    },
    {
      "cell_type": "code",
      "execution_count": null,
      "metadata": {
        "id": "sHH322jBeHpC"
      },
      "outputs": [],
      "source": [
        "df_category_embeddings.head()"
      ]
    },
    {
      "cell_type": "code",
      "execution_count": null,
      "metadata": {
        "id": "Lc16-8C_MLm2"
      },
      "outputs": [],
      "source": [
        "df_embeddings.head()"
      ]
    },
    {
      "cell_type": "code",
      "source": [],
      "metadata": {
        "id": "9ctDD287q44K"
      },
      "execution_count": null,
      "outputs": []
    },
    {
      "cell_type": "markdown",
      "metadata": {
        "id": "SGAY21ODq5lJ"
      },
      "source": [
        "#Modello senza embeddings\n"
      ]
    },
    {
      "cell_type": "code",
      "execution_count": null,
      "metadata": {
        "id": "eMqBjAO5q5lK"
      },
      "outputs": [],
      "source": [
        "items['Composition'] = items['Composition'].astype(str)\n",
        "gender_lookup = StringLookup()\n",
        "collection_lookup = StringLookup()\n",
        "composition_lookup = StringLookup()\n",
        "\n",
        "gender_lookup.adapt(items['Gender'])\n",
        "collection_lookup.adapt(items['Collection'])\n",
        "composition_lookup.adapt(items['Composition'])\n",
        "\n",
        "items['Gender_encoded'] = gender_lookup(items['Gender'])\n",
        "items['Collection_encoded'] = collection_lookup(items['Collection'])\n",
        "items['Composition_encoded'] = composition_lookup(items['Composition'])\n",
        "\n",
        "df_full = items.merge(purchases, on='ItemId')"
      ]
    },
    {
      "cell_type": "code",
      "execution_count": null,
      "metadata": {
        "id": "5cyhHGWGq5lK"
      },
      "outputs": [],
      "source": [
        "feature_dict = {\n",
        "    \"item_id\": df_full[\"ItemId\"].values,\n",
        "    \"collection\": df_full[\"Collection_encoded\"].values,\n",
        "    \"gender\": df_full[\"Gender_encoded\"].values,\n",
        "    \"composition\": df_full[\"Composition_encoded\"].values,\n",
        "    \"user_id\": df_full['UserId'].values.reshape(-1,1),\n",
        "    \"interaction\" : df_full['Interaction'].values.reshape(-1,1)\n",
        "}\n"
      ]
    },
    {
      "cell_type": "code",
      "execution_count": null,
      "metadata": {
        "id": "OrkSnbFBq5lL"
      },
      "outputs": [],
      "source": [
        "data_tf = tf.data.Dataset.from_tensor_slices(feature_dict)\n",
        "\n",
        "candidates_tf = tf.data.Dataset.from_tensor_slices({\n",
        "    \"item_id\": items['ItemId'].values.reshape(-1,1),\n",
        "    \"collection\": items[\"Collection_encoded\"].values,\n",
        "    \"gender\": items[\"Gender_encoded\"].values,\n",
        "    \"composition\": items[\"Composition_encoded\"].values\n",
        "})\n",
        "candidates_ds = candidates_tf.batch(32)"
      ]
    },
    {
      "cell_type": "code",
      "execution_count": null,
      "metadata": {
        "id": "Q89MyK3Yq5lL"
      },
      "outputs": [],
      "source": [
        "data_tf = data_tf.shuffle(buffer_size=1024, seed=999, reshuffle_each_iteration=True)\n",
        "\n",
        "full_size = len(data_tf)\n",
        "train_size = int(full_size * 0.7)\n",
        "val_size = int(full_size * 0.15)\n",
        "test_size = full_size - train_size - val_size\n",
        "\n",
        "train = data_tf.take(train_size)\n",
        "val = data_tf.skip(train_size).take(val_size)\n",
        "test = data_tf.skip(train_size + val_size)"
      ]
    },
    {
      "cell_type": "code",
      "execution_count": null,
      "metadata": {
        "id": "E5Ex56PSq5lL"
      },
      "outputs": [],
      "source": [
        "batch_size = 32\n",
        "train = train.shuffle(buffer_size=1024, seed = 999).batch(batch_size)\n",
        "test = test.batch(batch_size)\n",
        "val = val.batch(batch_size)"
      ]
    },
    {
      "cell_type": "code",
      "execution_count": null,
      "metadata": {
        "id": "ElalKlaKq5lL"
      },
      "outputs": [],
      "source": [
        "class NoDescRecommender(tfrs.Model):\n",
        "\n",
        "  def __init__(self, user_model, item_model, candidates):\n",
        "    super().__init__()\n",
        "    self.user_model = user_model\n",
        "    self.item_model = item_model\n",
        "    self.retrieval_task = tfrs.tasks.Retrieval(metrics=tfrs.metrics.FactorizedTopK(\n",
        "            candidates = candidates.map(self.item_model)))\n",
        "    self.rank_task = tfrs.tasks.Ranking(loss=tf.keras.losses.BinaryCrossentropy(from_logits=False),\n",
        "            metrics=[tf.keras.metrics.BinaryAccuracy()])\n",
        "\n",
        "  def compute_loss(self, features, training = False):\n",
        "    user_emb = self.user_model({\"user_id\": features['user_id']\n",
        "                                })\n",
        "    item_emb = self.item_model({\n",
        "                                \"gender\":features['gender'],\n",
        "                                \"collection\":features['collection'],\n",
        "                                \"composition\": features[\"composition\"],\n",
        "                                })\n",
        "    retrieval_loss = self.retrieval_task(user_emb, item_emb)\n",
        "    predictions = tf.reduce_sum(user_emb * item_emb, axis=1)\n",
        "    ranking_loss = self.rank_task( labels = features['interaction'], predictions = predictions)\n",
        "    return retrieval_loss + ranking_loss"
      ]
    },
    {
      "cell_type": "code",
      "execution_count": null,
      "metadata": {
        "id": "H4jNDHBTq5lL"
      },
      "outputs": [],
      "source": [
        "unique_user_ids = df_full['UserId'].unique().astype(str)\n",
        "unique_item_ids = df_full['ItemId'].unique().astype(str)\n",
        "embedding_dim = 3"
      ]
    },
    {
      "cell_type": "code",
      "execution_count": null,
      "metadata": {
        "id": "J2LCaI1cq5lL"
      },
      "outputs": [],
      "source": [
        "category_embedding_input = Input(shape=(df_category_embeddings.shape[1]-1,), name='category_embedding')\n",
        "gender_input = Input(shape=(1,), name='gender')\n",
        "collection_input = Input(shape=(1,), name='collection')\n",
        "composition_input = Input(shape=(1,), name='composition')\n",
        "\n",
        "item_inputs =[category_embedding_input, gender_input, collection_input, composition_input]\n",
        "concatenated = Concatenate()(item_inputs)\n",
        "\n",
        "x = Dense(5, activation='relu')(concatenated)\n",
        "x = BatchNormalization()(x)\n",
        "x = Dropout(0.2)(x)\n",
        "\n",
        "item_model = Model(inputs=item_inputs, outputs=x)"
      ]
    },
    {
      "cell_type": "code",
      "execution_count": null,
      "metadata": {
        "id": "ynrvXH6hq5lL"
      },
      "outputs": [],
      "source": [
        "user_id_input = Input(shape=(1,), name=\"user_id\", dtype=tf.int32)\n",
        "user_embedding = Embedding(input_dim=len(unique_user_ids), output_dim=embedding_dim, name=\"user_embedding\")(user_id_input)\n",
        "\n",
        "combined_input = Concatenate()([user_embedding])\n",
        "\n",
        "x = Dense(5, activation='relu')(concatenated)\n",
        "x = BatchNormalization()(x)\n",
        "x = Dropout(0.2)(x)\n",
        "x = Flatten()(x)\n",
        "\n",
        "user_model = Model(inputs=[user_id_input], outputs=x)"
      ]
    },
    {
      "cell_type": "code",
      "execution_count": null,
      "metadata": {
        "id": "xEfWloodq5lL"
      },
      "outputs": [],
      "source": [
        "early_stop = tf.keras.callbacks.EarlyStopping(monitor='val_loss',\n",
        "                                              patience=10,\n",
        "                                              mode='min',\n",
        "                                              start_from_epoch = 25,\n",
        "                                              restore_best_weights=True)"
      ]
    },
    {
      "cell_type": "code",
      "execution_count": null,
      "metadata": {
        "id": "vxBejiheq5lL"
      },
      "outputs": [],
      "source": [
        "initial_learning_rate = 0.001\n",
        "lr_schedule = tf.keras.optimizers.schedules.ExponentialDecay(\n",
        "    initial_learning_rate,\n",
        "    decay_steps=10000,\n",
        "    decay_rate=0.999,\n",
        "    staircase=True)\n",
        "\n",
        "optimizer = tf.keras.optimizers.Adam(learning_rate=lr_schedule)"
      ]
    },
    {
      "cell_type": "code",
      "execution_count": null,
      "metadata": {
        "id": "STeaxmxtq5lL"
      },
      "outputs": [],
      "source": [
        "recommender = NoDescRecommender(user_model, item_model, candidates_ds)\n",
        "recommender.compile(optimizer = optimizer)\n",
        "history = recommender.fit(train,\n",
        "                validation_data = val,\n",
        "                epochs=100, callbacks=[early_stop])"
      ]
    },
    {
      "cell_type": "code",
      "execution_count": null,
      "metadata": {
        "id": "i3NU8IOOq5lM"
      },
      "outputs": [],
      "source": [
        "metrics = history.history\n",
        "# Plot loss\n",
        "plt.plot(metrics['loss'], label='Training Loss')\n",
        "plt.plot(metrics['val_loss'], label='Validation Loss')\n",
        "plt.title('Loss over Epochs')\n",
        "plt.xlabel('Epochs')\n",
        "plt.ylabel('Loss')\n",
        "plt.legend()\n",
        "plt.show()\n",
        "\n",
        "# Plot categorical accuracy\n",
        "plt.plot(metrics['factorized_top_k/top_1_categorical_accuracy'], label='Top_1 Training Accuracy')\n",
        "plt.plot(metrics['val_factorized_top_k/top_1_categorical_accuracy'], label='Top_1 Validation Accuracy')\n",
        "plt.title('Accuracy over Epochs')\n",
        "plt.xlabel('Epochs')\n",
        "plt.ylabel('Categorical Accuracy')\n",
        "plt.legend()\n",
        "plt.show()\n",
        "\n",
        "# Plot binary accuracy\n",
        "plt.plot(metrics['binary_accuracy'], label='Training Accuracy')\n",
        "plt.plot(metrics['val_binary_accuracy'], label='Validation Accuracy')\n",
        "plt.title('Binary Accuracy over Epochs')\n",
        "plt.xlabel('Epochs')\n",
        "plt.ylabel('Binary Accuracy')\n",
        "plt.ylim(0.5,1)\n",
        "plt.legend()\n",
        "plt.show()"
      ]
    },
    {
      "cell_type": "code",
      "execution_count": null,
      "metadata": {
        "id": "NcYdonLBq5lM"
      },
      "outputs": [],
      "source": [
        "test_metrics = recommender.evaluate(test, return_dict=True)\n",
        "print(test_metrics)\n",
        "#recommender.save(\"no_desc_model.keras\")"
      ]
    },
    {
      "cell_type": "markdown",
      "metadata": {
        "id": "KJK_X7L1csH3"
      },
      "source": [
        "#Modello solo Item Description\n"
      ]
    },
    {
      "cell_type": "code",
      "execution_count": null,
      "metadata": {
        "id": "ZrFFo2ws6upV"
      },
      "outputs": [],
      "source": [
        "df_embeddings['ItemId'] = items['ItemId']\n",
        "full_items = items.merge(df_embeddings, on='ItemId')\n",
        "df_full = full_items.merge(purchases, on='ItemId')"
      ]
    },
    {
      "cell_type": "code",
      "execution_count": null,
      "metadata": {
        "id": "v_mDZ8V161ok"
      },
      "outputs": [],
      "source": [
        "data_tf = tf.data.Dataset.from_tensor_slices({\n",
        "    \"user_id\": df_full['UserId'].values.reshape(-1,1),\n",
        "    \"item_id\": df_full['ItemId'].values.reshape(-1,1),\n",
        "    \"item_embedding\" : df_full[[f'embedding_{i}' for i in range(df_embeddings.shape[1]-1)]].values,\n",
        "    \"interaction\" : df_full['Interaction'].values.reshape(-1,1)\n",
        "})\n",
        "candidates_tf = tf.data.Dataset.from_tensor_slices({\n",
        "    \"item_id\": full_items['ItemId'].values.reshape(-1,1),\n",
        "    \"item_embedding\" : full_items[[f'embedding_{i}' for i in range(df_embeddings.shape[1]-1)]].values\n",
        "})\n",
        "candidates_ds = candidates_tf.batch(32)"
      ]
    },
    {
      "cell_type": "code",
      "execution_count": null,
      "metadata": {
        "id": "WW-RODev81XR"
      },
      "outputs": [],
      "source": [
        "data_tf = data_tf.shuffle(buffer_size=1024, seed=999, reshuffle_each_iteration=True)\n",
        "\n",
        "full_size = len(data_tf)\n",
        "train_size = int(full_size * 0.7)\n",
        "val_size = int(full_size * 0.15)\n",
        "test_size = full_size - train_size - val_size\n",
        "\n",
        "train = data_tf.take(train_size)\n",
        "val = data_tf.skip(train_size).take(val_size)\n",
        "test = data_tf.skip(train_size + val_size)"
      ]
    },
    {
      "cell_type": "code",
      "execution_count": null,
      "metadata": {
        "id": "y_AzihO981XT"
      },
      "outputs": [],
      "source": [
        "batch_size = 32\n",
        "train = train.shuffle(buffer_size=1024, seed = 999).batch(batch_size)\n",
        "test = test.batch(batch_size)\n",
        "val = val.batch(batch_size)"
      ]
    },
    {
      "cell_type": "code",
      "execution_count": null,
      "metadata": {
        "id": "GVoDbUHccxP3"
      },
      "outputs": [],
      "source": [
        "class CFRecommender(tfrs.Model):\n",
        "\n",
        "  def __init__(self, user_model, item_model, candidates):\n",
        "    super().__init__()\n",
        "    self.user_model = user_model\n",
        "    self.item_model = item_model\n",
        "    self.retrieval_task = tfrs.tasks.Retrieval(metrics=tfrs.metrics.FactorizedTopK(\n",
        "            candidates = candidates.map(self.item_model)))\n",
        "    self.rank_task = tfrs.tasks.Ranking(loss=tf.keras.losses.BinaryCrossentropy(from_logits=False),\n",
        "            metrics=[tf.keras.metrics.BinaryAccuracy()])\n",
        "\n",
        "  def compute_loss(self, features, training = False):\n",
        "    user_emb = self.user_model(features['user_id'])\n",
        "    item_emb = self.item_model(features['item_embedding'])\n",
        "    retrieval_loss = self.retrieval_task(user_emb, item_emb)\n",
        "    predictions = tf.reduce_sum(user_emb * item_emb, axis=1)\n",
        "    ranking_loss = self.rank_task( labels = features['interaction'], predictions = predictions)\n",
        "    return retrieval_loss + ranking_loss"
      ]
    },
    {
      "cell_type": "code",
      "execution_count": null,
      "metadata": {
        "id": "0KfKSGTy7B97"
      },
      "outputs": [],
      "source": [
        "unique_user_ids = df_full['UserId'].unique().astype(str)\n",
        "unique_item_ids = df_full['ItemId'].unique().astype(str)\n",
        "embedding_dim = df_embeddings.shape[1] - 1\n",
        "user_model = tf.keras.Sequential([\n",
        "                                  tf.keras.layers.Embedding(input_dim = len(unique_user_ids), output_dim = embedding_dim),\n",
        "                                  tf.keras.layers.Dense(128),\n",
        "                                  tf.keras.layers.ReLU(),\n",
        "                                  tf.keras.layers.BatchNormalization(),\n",
        "                                  tf.keras.layers.Dropout(0.2),\n",
        "                                  tf.keras.layers.Dense(64),\n",
        "                                  tf.keras.layers.ReLU(),\n",
        "                                  tf.keras.layers.BatchNormalization(),\n",
        "                                  tf.keras.layers.Dropout(0.2),\n",
        "                                  tf.keras.layers.Flatten()\n",
        "                                  ])\n",
        "\n",
        "item_model = tf.keras.Sequential([tf.keras.Input(shape=(embedding_dim,), dtype=tf.float32, name='item_embedding'),\n",
        "                                  tf.keras.layers.Dense(128),\n",
        "                                  tf.keras.layers.ReLU(),\n",
        "                                  tf.keras.layers.BatchNormalization(),\n",
        "                                  tf.keras.layers.Dropout(0.2),\n",
        "                                  tf.keras.layers.Dense(64),\n",
        "                                  tf.keras.layers.ReLU(),\n",
        "                                  tf.keras.layers.BatchNormalization(),\n",
        "                                  tf.keras.layers.Dropout(0.2)\n",
        "                                ])"
      ]
    },
    {
      "cell_type": "code",
      "execution_count": null,
      "metadata": {
        "id": "DMJLJ0xA7F9z"
      },
      "outputs": [],
      "source": [
        "early_stop = tf.keras.callbacks.EarlyStopping(monitor='val_loss',\n",
        "                                              patience=10,\n",
        "                                              mode='min',\n",
        "                                              start_from_epoch = 20,\n",
        "                                              restore_best_weights=True)"
      ]
    },
    {
      "cell_type": "code",
      "execution_count": null,
      "metadata": {
        "id": "ZMeyJMGh7HHM"
      },
      "outputs": [],
      "source": [
        "initial_learning_rate = 0.01\n",
        "lr_schedule = tf.keras.optimizers.schedules.ExponentialDecay(\n",
        "    initial_learning_rate,\n",
        "    decay_steps=10000,\n",
        "    decay_rate=0.99,\n",
        "    staircase=True)\n",
        "optimizer = tf.keras.optimizers.Adam(learning_rate=lr_schedule)"
      ]
    },
    {
      "cell_type": "code",
      "execution_count": null,
      "metadata": {
        "colab": {
          "background_save": true
        },
        "id": "NDWnigis7KgV"
      },
      "outputs": [],
      "source": [
        "recommender = CFRecommender(user_model, item_model, candidates_ds)\n",
        "recommender.compile(optimizer = optimizer)\n",
        "history = recommender.fit(train,\n",
        "                validation_data = val,\n",
        "                epochs=100, callbacks=[early_stop])"
      ]
    },
    {
      "cell_type": "code",
      "execution_count": null,
      "metadata": {
        "colab": {
          "background_save": true
        },
        "id": "tO_J32XT7TB8"
      },
      "outputs": [],
      "source": [
        "metrics = history.history\n",
        "# Plot loss\n",
        "plt.plot(metrics['loss'], label='Training Loss')\n",
        "plt.plot(metrics['val_loss'], label='Validation Loss')\n",
        "plt.title('Loss over Epochs')\n",
        "plt.xlabel('Epochs')\n",
        "plt.ylabel('Loss')\n",
        "plt.legend()\n",
        "plt.show()\n",
        "\n",
        "# Plot categorical accuracy\n",
        "plt.plot(metrics['factorized_top_k/top_1_categorical_accuracy'], label='Top_1 Training Accuracy')\n",
        "plt.plot(metrics['val_factorized_top_k/top_1_categorical_accuracy'], label='Top_1 Validation Accuracy')\n",
        "plt.title('Accuracy over Epochs')\n",
        "plt.xlabel('Epochs')\n",
        "plt.ylabel('Categorical Accuracy')\n",
        "plt.legend()\n",
        "plt.show()\n",
        "\n",
        "# Plot binary accuracy\n",
        "plt.plot(metrics['binary_accuracy'], label='Training Accuracy')\n",
        "plt.plot(metrics['val_binary_accuracy'], label='Validation Accuracy')\n",
        "plt.title('Binary Accuracy over Epochs')\n",
        "plt.xlabel('Epochs')\n",
        "plt.ylabel('Binary Accuracy')\n",
        "plt.ylim(0.5,1)\n",
        "plt.legend()\n",
        "plt.show()"
      ]
    },
    {
      "cell_type": "code",
      "execution_count": null,
      "metadata": {
        "id": "ew2bYrOu7Ro-"
      },
      "outputs": [],
      "source": [
        "test_metrics = recommender.evaluate(test, return_dict=True)\n",
        "print(test_metrics)\n",
        "#recommender.save(\"desc_model.keras\")"
      ]
    },
    {
      "cell_type": "markdown",
      "metadata": {
        "id": "8nvlrtJYRcWw"
      },
      "source": [
        "#Modello senza Item Description\n"
      ]
    },
    {
      "cell_type": "code",
      "execution_count": null,
      "metadata": {
        "id": "uoodjhpFRilA"
      },
      "outputs": [],
      "source": [
        "items['Composition'] = items['Composition'].astype(str)\n",
        "gender_lookup = StringLookup()\n",
        "collection_lookup = StringLookup()\n",
        "composition_lookup = StringLookup()\n",
        "\n",
        "gender_lookup.adapt(items['Gender'])\n",
        "collection_lookup.adapt(items['Collection'])\n",
        "composition_lookup.adapt(items['Composition'])\n",
        "\n",
        "items['Gender_encoded'] = gender_lookup(items['Gender'])\n",
        "items['Collection_encoded'] = collection_lookup(items['Collection'])\n",
        "items['Composition_encoded'] = composition_lookup(items['Composition'])\n",
        "df_category_embeddings['ItemId'] = items['ItemId']\n",
        "full_items = items.merge(df_category_embeddings, on='ItemId')\n",
        "df_full = full_items.merge(purchases, on='ItemId')"
      ]
    },
    {
      "cell_type": "code",
      "execution_count": null,
      "metadata": {
        "id": "H1WxjiCNR2xn"
      },
      "outputs": [],
      "source": [
        "feature_dict = {\n",
        "    \"item_id\": df_full[\"ItemId\"].values,\n",
        "    \"collection\": df_full[\"Collection_encoded\"].values,\n",
        "    \"gender\": df_full[\"Gender_encoded\"].values,\n",
        "    \"composition\": df_full[\"Composition_encoded\"].values,\n",
        "    \"category_embedding\" : df_full[[f'category_embedding_{i}' for i in range(df_category_embeddings.shape[1]-1)]].values,\n",
        "    \"user_id\": df_full['UserId'].values.reshape(-1,1),\n",
        "    \"interaction\" : df_full['Interaction'].values.reshape(-1,1)\n",
        "}\n"
      ]
    },
    {
      "cell_type": "code",
      "execution_count": null,
      "metadata": {
        "id": "4u8wnzYwR2xq"
      },
      "outputs": [],
      "source": [
        "data_tf = tf.data.Dataset.from_tensor_slices(feature_dict)\n",
        "\n",
        "candidates_tf = tf.data.Dataset.from_tensor_slices({\n",
        "    \"item_id\": full_items['ItemId'].values.reshape(-1,1),\n",
        "    \"category_embedding\" : full_items[[f'category_embedding_{i}' for i in range(df_category_embeddings.shape[1]-1)]].values,\n",
        "    \"collection\": full_items[\"Collection_encoded\"].values,\n",
        "    \"gender\": full_items[\"Gender_encoded\"].values,\n",
        "    \"composition\": full_items[\"Composition_encoded\"].values\n",
        "})\n",
        "candidates_ds = candidates_tf.batch(32)"
      ]
    },
    {
      "cell_type": "code",
      "execution_count": null,
      "metadata": {
        "id": "Ne_6AE5gR2xq"
      },
      "outputs": [],
      "source": [
        "data_tf = data_tf.shuffle(buffer_size=1024, seed=999, reshuffle_each_iteration=True)\n",
        "\n",
        "full_size = len(data_tf)\n",
        "train_size = int(full_size * 0.7)\n",
        "val_size = int(full_size * 0.15)\n",
        "test_size = full_size - train_size - val_size\n",
        "\n",
        "train = data_tf.take(train_size)\n",
        "val = data_tf.skip(train_size).take(val_size)\n",
        "test = data_tf.skip(train_size + val_size)"
      ]
    },
    {
      "cell_type": "code",
      "execution_count": null,
      "metadata": {
        "id": "RxgmXArGR2xq"
      },
      "outputs": [],
      "source": [
        "batch_size = 32\n",
        "train = train.shuffle(buffer_size=1024, seed = 999).batch(batch_size)\n",
        "test = test.batch(batch_size)\n",
        "val = val.batch(batch_size)"
      ]
    },
    {
      "cell_type": "code",
      "execution_count": null,
      "metadata": {
        "id": "QAdP34CaR2xq"
      },
      "outputs": [],
      "source": [
        "class NoDescRecommender(tfrs.Model):\n",
        "\n",
        "  def __init__(self, user_model, item_model, candidates):\n",
        "    super().__init__()\n",
        "    self.user_model = user_model\n",
        "    self.item_model = item_model\n",
        "    self.retrieval_task = tfrs.tasks.Retrieval(metrics=tfrs.metrics.FactorizedTopK(\n",
        "            candidates = candidates.map(self.item_model)))\n",
        "    self.rank_task = tfrs.tasks.Ranking(loss=tf.keras.losses.BinaryCrossentropy(from_logits=False),\n",
        "            metrics=[tf.keras.metrics.BinaryAccuracy()])\n",
        "\n",
        "  def compute_loss(self, features, training = False):\n",
        "    user_emb = self.user_model({\"user_id\": features['user_id']\n",
        "                                })\n",
        "    item_emb = self.item_model({\"category_embedding\":features['category_embedding'],\n",
        "                                \"gender\":features['gender'],\n",
        "                                \"collection\":features['collection'],\n",
        "                                \"composition\": features[\"composition\"],\n",
        "                                })\n",
        "    retrieval_loss = self.retrieval_task(user_emb, item_emb)\n",
        "    predictions = tf.reduce_sum(user_emb * item_emb, axis=1)\n",
        "    ranking_loss = self.rank_task( labels = features['interaction'], predictions = predictions)\n",
        "    return retrieval_loss + ranking_loss"
      ]
    },
    {
      "cell_type": "code",
      "execution_count": null,
      "metadata": {
        "id": "GnHVsTx6R2xq"
      },
      "outputs": [],
      "source": [
        "unique_user_ids = df_full['UserId'].unique().astype(str)\n",
        "unique_item_ids = df_full['ItemId'].unique().astype(str)\n",
        "embedding_dim = df_category_embeddings.shape[1] - 1"
      ]
    },
    {
      "cell_type": "code",
      "execution_count": null,
      "metadata": {
        "id": "ONpl_eA7R2xq"
      },
      "outputs": [],
      "source": [
        "category_embedding_input = Input(shape=(df_category_embeddings.shape[1]-1,), name='category_embedding')\n",
        "gender_input = Input(shape=(1,), name='gender')\n",
        "collection_input = Input(shape=(1,), name='collection')\n",
        "composition_input = Input(shape=(1,), name='composition')\n",
        "\n",
        "item_inputs =[category_embedding_input, gender_input, collection_input, composition_input]\n",
        "concatenated = Concatenate()(item_inputs)\n",
        "\n",
        "x = Dense(256, activation='relu')(concatenated)\n",
        "x = BatchNormalization()(x)\n",
        "x = Dropout(0.2)(x)\n",
        "x = Dense(128, activation='relu')(x)\n",
        "x = BatchNormalization()(x)\n",
        "x = Dropout(0.2)(x)\n",
        "\n",
        "item_model = Model(inputs=item_inputs, outputs=x)"
      ]
    },
    {
      "cell_type": "code",
      "execution_count": null,
      "metadata": {
        "id": "phm4ucJLR2xq"
      },
      "outputs": [],
      "source": [
        "user_id_input = Input(shape=(1,), name=\"user_id\", dtype=tf.int32)\n",
        "user_embedding = Embedding(input_dim=len(unique_user_ids), output_dim=embedding_dim, name=\"user_embedding\")(user_id_input)\n",
        "\n",
        "combined_input = Concatenate()([user_embedding])\n",
        "\n",
        "x = Dense(256, activation=\"relu\")(combined_input)\n",
        "x = BatchNormalization()(x)\n",
        "x = Dropout(0.2)(x)\n",
        "x = Dense(128, activation='relu')(x)\n",
        "x = BatchNormalization()(x)\n",
        "x = Dropout(0.2)(x)\n",
        "x = Flatten()(x)\n",
        "\n",
        "user_model = Model(inputs=[user_id_input], outputs=x)"
      ]
    },
    {
      "cell_type": "code",
      "execution_count": null,
      "metadata": {
        "id": "F3NYq5pnSf4Y"
      },
      "outputs": [],
      "source": [
        "early_stop = tf.keras.callbacks.EarlyStopping(monitor='val_loss',\n",
        "                                              patience=10,\n",
        "                                              mode='min',\n",
        "                                              start_from_epoch = 25,\n",
        "                                              restore_best_weights=True)"
      ]
    },
    {
      "cell_type": "code",
      "execution_count": null,
      "metadata": {
        "id": "FILTXlUESf4j"
      },
      "outputs": [],
      "source": [
        "initial_learning_rate = 0.01\n",
        "lr_schedule = tf.keras.optimizers.schedules.ExponentialDecay(\n",
        "    initial_learning_rate,\n",
        "    decay_steps=10000,\n",
        "    decay_rate=0.99,\n",
        "    staircase=True)\n",
        "\n",
        "optimizer = tf.keras.optimizers.Adam(learning_rate=lr_schedule)"
      ]
    },
    {
      "cell_type": "code",
      "execution_count": null,
      "metadata": {
        "id": "wLoCeQWdSf4j"
      },
      "outputs": [],
      "source": [
        "recommender = NoDescRecommender(user_model, item_model, candidates_ds)\n",
        "recommender.compile(optimizer = optimizer)\n",
        "history = recommender.fit(train,\n",
        "                validation_data = val,\n",
        "                epochs=100, callbacks=[early_stop])"
      ]
    },
    {
      "cell_type": "code",
      "execution_count": null,
      "metadata": {
        "id": "emDZJSSKil2M"
      },
      "outputs": [],
      "source": [
        "metrics = history.history\n",
        "# Plot loss\n",
        "plt.plot(metrics['loss'], label='Training Loss')\n",
        "plt.plot(metrics['val_loss'], label='Validation Loss')\n",
        "plt.title('Loss over Epochs')\n",
        "plt.xlabel('Epochs')\n",
        "plt.ylabel('Loss')\n",
        "plt.legend()\n",
        "plt.show()\n",
        "\n",
        "# Plot categorical accuracy\n",
        "plt.plot(metrics['factorized_top_k/top_1_categorical_accuracy'], label='Top_1 Training Accuracy')\n",
        "plt.plot(metrics['val_factorized_top_k/top_1_categorical_accuracy'], label='Top_1 Validation Accuracy')\n",
        "plt.title('Accuracy over Epochs')\n",
        "plt.xlabel('Epochs')\n",
        "plt.ylabel('Categorical Accuracy')\n",
        "plt.legend()\n",
        "plt.show()\n",
        "\n",
        "# Plot binary accuracy\n",
        "plt.plot(metrics['binary_accuracy'], label='Training Accuracy')\n",
        "plt.plot(metrics['val_binary_accuracy'], label='Validation Accuracy')\n",
        "plt.title('Binary Accuracy over Epochs')\n",
        "plt.xlabel('Epochs')\n",
        "plt.ylabel('Binary Accuracy')\n",
        "plt.ylim(0.5,1)\n",
        "plt.legend()\n",
        "plt.show()"
      ]
    },
    {
      "cell_type": "code",
      "execution_count": null,
      "metadata": {
        "id": "hAb5LWI9ib54"
      },
      "outputs": [],
      "source": [
        "test_metrics = recommender.evaluate(test, return_dict=True)\n",
        "print(test_metrics)\n",
        "#recommender.save(\"no_desc_model.keras\")"
      ]
    },
    {
      "cell_type": "markdown",
      "metadata": {
        "id": "z24P7BFWFan7"
      },
      "source": [
        "#Modello completo"
      ]
    },
    {
      "cell_type": "code",
      "execution_count": null,
      "metadata": {
        "id": "PG7E3hgJ4zFP"
      },
      "outputs": [],
      "source": [
        "items['Composition'] = items['Composition'].astype(str)\n",
        "gender_lookup = StringLookup()\n",
        "collection_lookup = StringLookup()\n",
        "composition_lookup = StringLookup()\n",
        "\n",
        "gender_lookup.adapt(items['Gender'])\n",
        "collection_lookup.adapt(items['Collection'])\n",
        "composition_lookup.adapt(items['Composition'])\n",
        "\n",
        "items['Gender_encoded'] = gender_lookup(items['Gender'])\n",
        "items['Collection_encoded'] = collection_lookup(items['Collection'])\n",
        "items['Composition_encoded'] = composition_lookup(items['Composition'])"
      ]
    },
    {
      "cell_type": "code",
      "execution_count": null,
      "metadata": {
        "id": "sXvcGI3eFj8z"
      },
      "outputs": [],
      "source": [
        "df_embeddings['ItemId'] = items['ItemId']\n",
        "df_category_embeddings['ItemId'] = items['ItemId']\n",
        "full_items = items.merge(df_embeddings, on='ItemId')\n",
        "full_items = full_items.merge(df_category_embeddings, on='ItemId')\n",
        "df_full = full_items.merge(purchases, on='ItemId')"
      ]
    },
    {
      "cell_type": "code",
      "execution_count": null,
      "metadata": {
        "id": "3wzrRWlQt9k_"
      },
      "outputs": [],
      "source": [
        "df_embeddings.head()"
      ]
    },
    {
      "cell_type": "code",
      "execution_count": null,
      "metadata": {
        "id": "mP-_2TuulXUo"
      },
      "outputs": [],
      "source": [
        "df_category_embeddings.head()"
      ]
    },
    {
      "cell_type": "code",
      "execution_count": null,
      "metadata": {
        "id": "0fa0XrABzQUZ"
      },
      "outputs": [],
      "source": [
        "feature_dict = {\n",
        "    \"item_id\": df_full[\"ItemId\"].values,\n",
        "    \"collection\": df_full[\"Collection_encoded\"].values,\n",
        "    \"gender\": df_full[\"Gender_encoded\"].values,\n",
        "    \"composition\": df_full[\"Composition_encoded\"].values,\n",
        "    \"item_embedding\" : df_full[[f'embedding_{i}' for i in range(df_embeddings.shape[1]-1)]].values,\n",
        "    \"category_embedding\" : df_full[[f'category_embedding_{i}' for i in range(df_category_embeddings.shape[1]-1)]].values,\n",
        "    \"user_id\": df_full['UserId'].values.reshape(-1,1),\n",
        "    \"interaction\" : df_full['Interaction'].values.reshape(-1,1)\n",
        "}\n"
      ]
    },
    {
      "cell_type": "code",
      "execution_count": null,
      "metadata": {
        "id": "dF8MxbJ9FqVQ"
      },
      "outputs": [],
      "source": [
        "data_tf = tf.data.Dataset.from_tensor_slices(feature_dict)\n",
        "\n",
        "candidates_tf = tf.data.Dataset.from_tensor_slices({\n",
        "    \"item_id\": full_items['ItemId'].values.reshape(-1,1),\n",
        "    \"item_embedding\" : full_items[[f'embedding_{i}' for i in range(df_embeddings.shape[1]-1)]].values,\n",
        "    \"category_embedding\" : full_items[[f'category_embedding_{i}' for i in range(df_category_embeddings.shape[1]-1)]].values,\n",
        "    \"collection\": full_items[\"Collection_encoded\"].values,\n",
        "    \"gender\": full_items[\"Gender_encoded\"].values,\n",
        "    \"composition\": full_items[\"Composition_encoded\"].values\n",
        "})\n",
        "candidates_ds = candidates_tf.batch(32)"
      ]
    },
    {
      "cell_type": "code",
      "execution_count": null,
      "metadata": {
        "id": "8qTJdvFbF3b5"
      },
      "outputs": [],
      "source": [
        "data_tf = data_tf.shuffle(buffer_size=1024, seed=999, reshuffle_each_iteration=True)\n",
        "\n",
        "full_size = len(data_tf)\n",
        "train_size = int(full_size * 0.7)\n",
        "val_size = int(full_size * 0.15)\n",
        "test_size = full_size - train_size - val_size\n",
        "\n",
        "train = data_tf.take(train_size)\n",
        "val = data_tf.skip(train_size).take(val_size)\n",
        "test = data_tf.skip(train_size + val_size)"
      ]
    },
    {
      "cell_type": "code",
      "execution_count": null,
      "metadata": {
        "id": "q8DXGEZLF3b5"
      },
      "outputs": [],
      "source": [
        "batch_size = 32\n",
        "train = train.shuffle(buffer_size=1024, seed = 999).batch(batch_size)\n",
        "test = test.batch(batch_size)\n",
        "val = val.batch(batch_size)"
      ]
    },
    {
      "cell_type": "code",
      "execution_count": null,
      "metadata": {
        "id": "3jOHnN6pF3b6"
      },
      "outputs": [],
      "source": [
        "class CFRecommender(tfrs.Model):\n",
        "\n",
        "  def __init__(self, user_model, item_model, candidates):\n",
        "    super().__init__()\n",
        "    self.user_model = user_model\n",
        "    self.item_model = item_model\n",
        "    self.retrieval_task = tfrs.tasks.Retrieval(metrics=tfrs.metrics.FactorizedTopK(\n",
        "            candidates = candidates.map(self.item_model)))\n",
        "    self.rank_task = tfrs.tasks.Ranking(loss=tf.keras.losses.BinaryCrossentropy(from_logits=False),\n",
        "            metrics=[tf.keras.metrics.BinaryAccuracy()])\n",
        "\n",
        "  def compute_loss(self, features, training = False):\n",
        "    user_emb = self.user_model({\"user_id\": features['user_id']\n",
        "                                })\n",
        "    item_emb = self.item_model({\"item_embedding\":features['item_embedding'],\n",
        "                                \"category_embedding\":features['category_embedding'],\n",
        "                                \"gender\":features['gender'],\n",
        "                                \"collection\":features['collection'],\n",
        "                                \"composition\": features[\"composition\"],\n",
        "                                })\n",
        "    retrieval_loss = self.retrieval_task(user_emb, item_emb)\n",
        "    predictions = tf.reduce_sum(user_emb * item_emb, axis=1)\n",
        "    ranking_loss = self.rank_task( labels = features['interaction'], predictions = predictions)\n",
        "    return retrieval_loss + ranking_loss"
      ]
    },
    {
      "cell_type": "code",
      "execution_count": null,
      "metadata": {
        "id": "uHc6oxnJ23Hi"
      },
      "outputs": [],
      "source": [
        "unique_user_ids = df_full['UserId'].unique().astype(str)\n",
        "unique_item_ids = df_full['ItemId'].unique().astype(str)\n",
        "embedding_dim = df_embeddings.shape[1] + df_category_embeddings.shape[1] - 2"
      ]
    },
    {
      "cell_type": "code",
      "execution_count": null,
      "metadata": {
        "id": "DORvPvEizt5B"
      },
      "outputs": [],
      "source": [
        "item_embedding_input = Input(shape=(df_embeddings.shape[1]-1,), name='item_embedding')\n",
        "category_embedding_input = Input(shape=(df_category_embeddings.shape[1]-1,), name='category_embedding')\n",
        "gender_input = Input(shape=(1,), name='gender')\n",
        "collection_input = Input(shape=(1,), name='collection')\n",
        "composition_input = Input(shape=(1,), name='composition')\n",
        "\n",
        "item_inputs =[item_embedding_input, category_embedding_input, gender_input, collection_input, composition_input]\n",
        "concatenated = Concatenate()(item_inputs)\n",
        "\n",
        "x = Dense(512, activation='relu')(concatenated)\n",
        "x = BatchNormalization()(x)\n",
        "x = Dropout(0.2)(x)\n",
        "x = Dense(256, activation='relu')(x)\n",
        "x = BatchNormalization()(x)\n",
        "x = Dropout(0.2)(x)\n",
        "x = Dense(128, activation='relu')(x)\n",
        "x = BatchNormalization()(x)\n",
        "x = Dropout(0.2)(x)\n",
        "\n",
        "\n",
        "item_model = Model(inputs=item_inputs, outputs=x)"
      ]
    },
    {
      "cell_type": "code",
      "execution_count": null,
      "metadata": {
        "id": "4fDl6VQZvbtA"
      },
      "outputs": [],
      "source": [
        "user_id_input = Input(shape=(1,), name=\"user_id\", dtype=tf.int32)\n",
        "user_embedding = Embedding(input_dim=len(unique_user_ids), output_dim=embedding_dim, name=\"user_embedding\")(user_id_input)\n",
        "\n",
        "combined_input = Concatenate()([user_embedding])\n",
        "\n",
        "x = Dense(512, activation=\"relu\")(combined_input)\n",
        "x = BatchNormalization()(x)\n",
        "x = Dropout(0.2)(x)\n",
        "x = Dense(256, activation=\"relu\")(x)\n",
        "x = BatchNormalization()(x)\n",
        "x = Dropout(0.2)(x)\n",
        "x = Dense(128, activation='relu')(x)\n",
        "x = BatchNormalization()(x)\n",
        "x = Dropout(0.2)(x)\n",
        "x = Flatten()(x)\n",
        "\n",
        "user_model = Model(inputs=[user_id_input], outputs=x)"
      ]
    },
    {
      "cell_type": "code",
      "execution_count": null,
      "metadata": {
        "id": "rMO1nekRGdde"
      },
      "outputs": [],
      "source": [
        "early_stop = tf.keras.callbacks.EarlyStopping(monitor='val_factorized_top_k/top_5_categorical_accuracy',\n",
        "                                              patience=10,\n",
        "                                              mode='max',\n",
        "                                              start_from_epoch = 20,\n",
        "                                              restore_best_weights=True)"
      ]
    },
    {
      "cell_type": "code",
      "execution_count": null,
      "metadata": {
        "id": "mrcQU_62Gddf"
      },
      "outputs": [],
      "source": [
        "initial_learning_rate = 0.01\n",
        "lr_schedule = tf.keras.optimizers.schedules.ExponentialDecay(\n",
        "    initial_learning_rate,\n",
        "    decay_steps=10000,\n",
        "    decay_rate=0.99,\n",
        "    staircase=True)\n",
        "\n",
        "optimizer = tf.keras.optimizers.Adam(learning_rate=lr_schedule)"
      ]
    },
    {
      "cell_type": "code",
      "execution_count": null,
      "metadata": {
        "id": "WLQ9EzCmGddf"
      },
      "outputs": [],
      "source": [
        "recommender = CFRecommender(user_model, item_model, candidates_ds)\n",
        "recommender.compile(optimizer = optimizer)\n",
        "history = recommender.fit(train,\n",
        "                validation_data = val,\n",
        "                epochs=100, callbacks=[early_stop])"
      ]
    },
    {
      "cell_type": "code",
      "execution_count": null,
      "metadata": {
        "id": "DBkO4X6jI_hx"
      },
      "outputs": [],
      "source": [
        "metrics = history.history\n",
        "# Plot loss\n",
        "plt.plot(metrics['loss'], label='Training Loss')\n",
        "plt.plot(metrics['val_loss'], label='Validation Loss')\n",
        "plt.title('Loss over Epochs')\n",
        "plt.xlabel('Epochs')\n",
        "plt.ylabel('Loss')\n",
        "plt.legend()\n",
        "plt.show()\n",
        "\n",
        "# Plot categorical accuracy\n",
        "plt.plot(metrics['factorized_top_k/top_1_categorical_accuracy'], label='Top_1 Training Accuracy')\n",
        "plt.plot(metrics['val_factorized_top_k/top_1_categorical_accuracy'], label='Top_1 Validation Accuracy')\n",
        "plt.title('Accuracy over Epochs')\n",
        "plt.xlabel('Epochs')\n",
        "plt.ylabel('Categorical Accuracy')\n",
        "plt.legend()\n",
        "plt.show()\n",
        "\n",
        "# Plot binary accuracy\n",
        "plt.plot(metrics['binary_accuracy'], label='Training Accuracy')\n",
        "plt.plot(metrics['val_binary_accuracy'], label='Validation Accuracy')\n",
        "plt.title('Binary Accuracy over Epochs')\n",
        "plt.xlabel('Epochs')\n",
        "plt.ylabel('Binary Accuracy')\n",
        "plt.ylim(0.5,1)\n",
        "plt.legend()\n",
        "plt.show()"
      ]
    },
    {
      "cell_type": "code",
      "execution_count": null,
      "metadata": {
        "id": "R1M0kZDAGDZW"
      },
      "outputs": [],
      "source": [
        "test_metrics = recommender.evaluate(test, return_dict=True)\n",
        "print(test_metrics)"
      ]
    },
    {
      "cell_type": "markdown",
      "metadata": {
        "id": "jfsqc1ogu_NG"
      },
      "source": [
        "#PCA"
      ]
    },
    {
      "cell_type": "markdown",
      "metadata": {
        "id": "cZ9Ol3aYfkCL"
      },
      "source": [
        "Riduco gli embeddings"
      ]
    },
    {
      "cell_type": "code",
      "execution_count": null,
      "metadata": {
        "colab": {
          "base_uri": "https://localhost:8080/"
        },
        "id": "5bkbTfsCuZBR",
        "outputId": "297c79fe-726c-4c91-a484-fbb5148c6170"
      },
      "outputs": [
        {
          "data": {
            "image/png": "[encoded data removed]",
            "text/plain": [
              "<Figure size 1000x500 with 1 Axes>"
            ]
          },
          "metadata": {},
          "output_type": "display_data"
        }
      ],
      "source": [
        "pca = PCA()\n",
        "pca.fit(df_embeddings)\n",
        "\n",
        "explained = pca.explained_variance_ratio_\n",
        "cumulative = np.cumsum(explained)\n",
        "\n",
        "n_components = np.where(cumulative>=0.95)[0][0]+1\n",
        "\n",
        "plt.figure(figsize=(10, 5))\n",
        "plt.bar(range(1, len(explained) + 1), explained, alpha=0.5, align='center', label='Varianza individuale spiegata')\n",
        "plt.step(range(1, len(cumulative) + 1), cumulative, where='mid', label='Varianza cumulativa spiegata')\n",
        "plt.ylabel('% explained variance')\n",
        "plt.xlabel('Components')\n",
        "plt.legend(loc='best')\n",
        "plt.tight_layout()\n",
        "plt.show()"
      ]
    },
    {
      "cell_type": "code",
      "execution_count": null,
      "metadata": {
        "id": "a6l3K9UR1aZ_"
      },
      "outputs": [],
      "source": [
        "pca = PCA(n_components=n_components)\n",
        "reduced = pca.fit_transform(df_embeddings)\n",
        "df_reduced_desc = pd.DataFrame(reduced, columns = [f\"pc_desc{i}\" for i in range(reduced.shape[1])])"
      ]
    },
    {
      "cell_type": "code",
      "execution_count": null,
      "metadata": {
        "colab": {
          "base_uri": "https://localhost:8080/"
        },
        "id": "MTV84d-86s-z",
        "outputId": "a9125515-d996-4904-881c-ce2de04c742a"
      },
      "outputs": [
        {
          "data": {
            "image/png": "[encoded data removed]",
            "text/plain": [
              "<Figure size 1000x500 with 1 Axes>"
            ]
          },
          "metadata": {},
          "output_type": "display_data"
        }
      ],
      "source": [
        "pca = PCA()\n",
        "pca.fit(df_category_embeddings)\n",
        "\n",
        "explained = pca.explained_variance_ratio_\n",
        "cumulative = np.cumsum(explained)\n",
        "\n",
        "n_components = np.where(cumulative>=0.95)[0][0]+1\n",
        "\n",
        "plt.figure(figsize=(10, 5))\n",
        "plt.bar(range(1, len(explained) + 1), explained, alpha=0.5, align='center', label='Varianza individuale spiegata')\n",
        "plt.step(range(1, len(cumulative) + 1), cumulative, where='mid', label='Varianza cumulativa spiegata')\n",
        "plt.ylabel('% explained variance')\n",
        "plt.xlabel('Components')\n",
        "plt.legend(loc='best')\n",
        "plt.tight_layout()\n",
        "plt.show()"
      ]
    },
    {
      "cell_type": "code",
      "execution_count": null,
      "metadata": {
        "id": "IT13oFEU6xkV"
      },
      "outputs": [],
      "source": [
        "pca = PCA(n_components=n_components)\n",
        "reduced = pca.fit_transform(df_category_embeddings)\n",
        "df_reduced_cat = pd.DataFrame(reduced, columns = [f\"pc_cat{i}\" for i in range(reduced.shape[1])])"
      ]
    },
    {
      "cell_type": "code",
      "execution_count": null,
      "metadata": {
        "id": "24bBsFK63hpr"
      },
      "outputs": [],
      "source": [
        "df_reduced_cat['ItemId'] = items['ItemId']"
      ]
    },
    {
      "cell_type": "code",
      "execution_count": null,
      "metadata": {
        "id": "rVwRiudXFNFU"
      },
      "outputs": [],
      "source": [
        "df_reduced_desc['ItemId'] = items['ItemId']"
      ]
    },
    {
      "cell_type": "code",
      "execution_count": null,
      "metadata": {
        "colab": {
          "base_uri": "https://localhost:8080/"
        },
        "id": "oB-bJyaVRLD4",
        "outputId": "5f78b003-31f2-4e5e-9896-4c41f6c4ec92"
      },
      "outputs": [
        {
          "data": {
            "text/plain": [
              "(3497, 2)"
            ]
          },
          "execution_count": 63,
          "metadata": {},
          "output_type": "execute_result"
        }
      ],
      "source": [
        "df_reduced_cat.shape"
      ]
    },
    {
      "cell_type": "code",
      "execution_count": null,
      "metadata": {
        "colab": {
          "base_uri": "https://localhost:8080/"
        },
        "id": "JNWd4WyYRP_T",
        "outputId": "c5cc9fd5-851a-4bb7-8c72-94637c3288a3"
      },
      "outputs": [
        {
          "data": {
            "text/plain": [
              "(3497, 2)"
            ]
          },
          "execution_count": 64,
          "metadata": {},
          "output_type": "execute_result"
        }
      ],
      "source": [
        "df_reduced_desc.shape"
      ]
    },
    {
      "cell_type": "markdown",
      "metadata": {
        "id": "mY_WEC4-cMJc"
      },
      "source": [
        "#Training PCA senza descrizioni"
      ]
    },
    {
      "cell_type": "code",
      "execution_count": null,
      "metadata": {
        "id": "5lkO7Bp687jx"
      },
      "outputs": [],
      "source": [
        "items['Composition'] = items['Composition'].astype(str)\n",
        "gender_lookup = StringLookup()\n",
        "collection_lookup = StringLookup()\n",
        "composition_lookup = StringLookup()\n",
        "\n",
        "gender_lookup.adapt(items['Gender'])\n",
        "collection_lookup.adapt(items['Collection'])\n",
        "composition_lookup.adapt(items['Composition'])\n",
        "\n",
        "items['Gender_encoded'] = gender_lookup(items['Gender'])\n",
        "items['Collection_encoded'] = collection_lookup(items['Collection'])\n",
        "items['Composition_encoded'] = composition_lookup(items['Composition'])"
      ]
    },
    {
      "cell_type": "code",
      "execution_count": null,
      "metadata": {
        "id": "XTs1a2sv6w-3"
      },
      "outputs": [],
      "source": [
        "full_items = items.merge(df_reduced_desc, on='ItemId')\n",
        "full_items = full_items.merge(df_reduced_cat, on='ItemId')\n",
        "df_full = full_items.merge(purchases, on='ItemId')"
      ]
    },
    {
      "cell_type": "code",
      "execution_count": null,
      "metadata": {
        "id": "OfhVO3O387j9"
      },
      "outputs": [],
      "source": [
        "feature_dict = {\n",
        "    \"item_id\": df_full[\"ItemId\"].values,\n",
        "    \"collection\": df_full[\"Collection_encoded\"].values,\n",
        "    \"gender\": df_full[\"Gender_encoded\"].values,\n",
        "    \"composition\": df_full[\"Composition_encoded\"].values,\n",
        "    \"category_embedding\" : df_full[[f'pc_cat{i}' for i in range(df_reduced_cat.shape[1]-1)]].values,\n",
        "    \"user_id\": df_full['UserId'].values.reshape(-1,1),\n",
        "    \"interaction\" : df_full['Interaction'].values.reshape(-1,1)\n",
        "}\n"
      ]
    },
    {
      "cell_type": "code",
      "execution_count": null,
      "metadata": {
        "id": "YO3EhEYW87j-"
      },
      "outputs": [],
      "source": [
        "data_tf = tf.data.Dataset.from_tensor_slices(feature_dict)\n",
        "\n",
        "candidates_tf = tf.data.Dataset.from_tensor_slices({\n",
        "    \"item_id\": full_items['ItemId'].values.reshape(-1,1),\n",
        "    \"category_embedding\" : full_items[[f'pc_cat{i}' for i in range(df_reduced_cat.shape[1]-1)]].values,\n",
        "    \"collection\": full_items[\"Collection_encoded\"].values,\n",
        "    \"gender\": full_items[\"Gender_encoded\"].values,\n",
        "    \"composition\": full_items[\"Composition_encoded\"].values\n",
        "})\n",
        "candidates_ds = candidates_tf.batch(32)"
      ]
    },
    {
      "cell_type": "code",
      "execution_count": null,
      "metadata": {
        "id": "FbYpB8m187j-"
      },
      "outputs": [],
      "source": [
        "data_tf = data_tf.shuffle(buffer_size=1024, seed=999, reshuffle_each_iteration=True)\n",
        "\n",
        "full_size = len(data_tf)\n",
        "train_size = int(full_size * 0.7)\n",
        "val_size = int(full_size * 0.15)\n",
        "test_size = full_size - train_size - val_size\n",
        "\n",
        "train = data_tf.take(train_size)\n",
        "val = data_tf.skip(train_size).take(val_size)\n",
        "test = data_tf.skip(train_size + val_size)"
      ]
    },
    {
      "cell_type": "code",
      "execution_count": null,
      "metadata": {
        "id": "2Fg8Y3vj87j-"
      },
      "outputs": [],
      "source": [
        "batch_size = 32\n",
        "train = train.shuffle(buffer_size=1024, seed = 999).batch(batch_size)\n",
        "test = test.batch(batch_size)\n",
        "val = val.batch(batch_size)"
      ]
    },
    {
      "cell_type": "code",
      "execution_count": null,
      "metadata": {
        "id": "jpZJi-9W87j-"
      },
      "outputs": [],
      "source": [
        "class NoDescRecommender(tfrs.Model):\n",
        "\n",
        "  def __init__(self, user_model, item_model, candidates):\n",
        "    super().__init__()\n",
        "    self.user_model = user_model\n",
        "    self.item_model = item_model\n",
        "    self.retrieval_task = tfrs.tasks.Retrieval(metrics=tfrs.metrics.FactorizedTopK(\n",
        "            candidates = candidates.map(self.item_model)))\n",
        "    self.rank_task = tfrs.tasks.Ranking(loss=tf.keras.losses.BinaryCrossentropy(from_logits=False),\n",
        "            metrics=[tf.keras.metrics.BinaryAccuracy()])\n",
        "\n",
        "  def compute_loss(self, features, training = False):\n",
        "    user_emb = self.user_model({\"user_id\": features['user_id']\n",
        "                                })\n",
        "    item_emb = self.item_model({\"category_embedding\":features['category_embedding'],\n",
        "                                \"gender\":features['gender'],\n",
        "                                \"collection\":features['collection'],\n",
        "                                \"composition\": features[\"composition\"],\n",
        "                                })\n",
        "    retrieval_loss = self.retrieval_task(user_emb, item_emb)\n",
        "    predictions = tf.reduce_sum(user_emb * item_emb, axis=1)\n",
        "    ranking_loss = self.rank_task( labels = features['interaction'], predictions = predictions)\n",
        "    return retrieval_loss + ranking_loss"
      ]
    },
    {
      "cell_type": "code",
      "execution_count": null,
      "metadata": {
        "id": "iD1TFtBM87j-"
      },
      "outputs": [],
      "source": [
        "unique_user_ids = df_full['UserId'].unique().astype(str)\n",
        "unique_item_ids = df_full['ItemId'].unique().astype(str)\n",
        "embedding_dim = df_reduced_cat.shape[1]-1"
      ]
    },
    {
      "cell_type": "code",
      "execution_count": null,
      "metadata": {
        "id": "eszU5ETD87j-"
      },
      "outputs": [],
      "source": [
        "category_embedding_input = Input(shape=(df_reduced_cat.shape[1]-1,), name='category_embedding')\n",
        "gender_input = Input(shape=(1,), name='gender')\n",
        "collection_input = Input(shape=(1,), name='collection')\n",
        "composition_input = Input(shape=(1,), name='composition')\n",
        "\n",
        "item_inputs =[category_embedding_input, gender_input, collection_input, composition_input]\n",
        "concatenated = Concatenate()(item_inputs)\n",
        "\n",
        "x = Dense(64, activation='relu')(concatenated)\n",
        "x = BatchNormalization()(x)\n",
        "x = Dropout(0.2)(x)\n",
        "x = Dense(32, activation='relu')(x)\n",
        "x = BatchNormalization()(x)\n",
        "x = Dropout(0.2)(x)\n",
        "\n",
        "item_model = Model(inputs=item_inputs, outputs=x)"
      ]
    },
    {
      "cell_type": "code",
      "execution_count": null,
      "metadata": {
        "id": "hnzUXf5187j-"
      },
      "outputs": [],
      "source": [
        "user_id_input = Input(shape=(1,), name=\"user_id\", dtype=tf.int32)\n",
        "user_embedding = Embedding(input_dim=len(unique_user_ids), output_dim=embedding_dim, name=\"user_embedding\")(user_id_input)\n",
        "\n",
        "combined_input = Concatenate()([user_embedding])\n",
        "\n",
        "x = Dense(64, activation=\"relu\")(combined_input)\n",
        "x = BatchNormalization()(x)\n",
        "x = Dropout(0.2)(x)\n",
        "x = Dense(32, activation='relu')(x)\n",
        "x = BatchNormalization()(x)\n",
        "x = Dropout(0.2)(x)\n",
        "x = Flatten()(x)\n",
        "\n",
        "user_model = Model(inputs=[user_id_input], outputs=x)"
      ]
    },
    {
      "cell_type": "code",
      "execution_count": null,
      "metadata": {
        "id": "OR8PyxR887j-"
      },
      "outputs": [],
      "source": [
        "early_stop = tf.keras.callbacks.EarlyStopping(monitor='val_loss',\n",
        "                                              patience=10,\n",
        "                                              mode='min',\n",
        "                                              start_from_epoch = 25,\n",
        "                                              restore_best_weights=True)"
      ]
    },
    {
      "cell_type": "code",
      "execution_count": null,
      "metadata": {
        "id": "x17vMrFB87j-"
      },
      "outputs": [],
      "source": [
        "initial_learning_rate = 0.01\n",
        "lr_schedule = tf.keras.optimizers.schedules.ExponentialDecay(\n",
        "    initial_learning_rate,\n",
        "    decay_steps=10000,\n",
        "    decay_rate=0.99,\n",
        "    staircase=True)\n",
        "\n",
        "optimizer = tf.keras.optimizers.Adam(learning_rate=lr_schedule)"
      ]
    },
    {
      "cell_type": "code",
      "execution_count": null,
      "metadata": {
        "colab": {
          "background_save": true,
          "base_uri": "https://localhost:8080/"
        },
        "id": "HTidqV9987j_",
        "outputId": "bab84f4f-4e4b-4ad4-b8d0-11d1366bd3a0"
      },
      "outputs": [
        {
          "name": "stdout",
          "output_type": "stream",
          "text": [
            "Epoch 1/100\n"
          ]
        },
        {
          "name": "stderr",
          "output_type": "stream",
          "text": [
            "/usr/local/lib/python3.10/dist-packages/keras/src/engine/functional.py:642: UserWarning: Input dict contained keys ['item_id'] which did not match any model input. They will be ignored by the model.\n",
            "  inputs = self._flatten_to_reference_inputs(inputs)\n"
          ]
        },
        {
          "name": "stdout",
          "output_type": "stream",
          "text": [
            "435/435 [==============================] - 98s 218ms/step - factorized_top_k/top_1_categorical_accuracy: 0.0000e+00 - factorized_top_k/top_5_categorical_accuracy: 0.0000e+00 - factorized_top_k/top_10_categorical_accuracy: 7.1891e-05 - factorized_top_k/top_50_categorical_accuracy: 5.0324e-04 - factorized_top_k/top_100_categorical_accuracy: 5.7513e-04 - binary_accuracy: 0.3732 - loss: 116.0534 - regularization_loss: 0.0000e+00 - total_loss: 116.0534 - val_factorized_top_k/top_1_categorical_accuracy: 0.0000e+00 - val_factorized_top_k/top_5_categorical_accuracy: 0.0000e+00 - val_factorized_top_k/top_10_categorical_accuracy: 0.0000e+00 - val_factorized_top_k/top_50_categorical_accuracy: 0.0000e+00 - val_factorized_top_k/top_100_categorical_accuracy: 0.0000e+00 - val_binary_accuracy: 0.8436 - val_loss: 5.5991 - val_regularization_loss: 0.0000e+00 - val_total_loss: 5.5991\n",
            "Epoch 2/100\n",
            "435/435 [==============================] - 95s 217ms/step - factorized_top_k/top_1_categorical_accuracy: 0.0014 - factorized_top_k/top_5_categorical_accuracy: 0.0028 - factorized_top_k/top_10_categorical_accuracy: 0.0036 - factorized_top_k/top_50_categorical_accuracy: 0.0117 - factorized_top_k/top_100_categorical_accuracy: 0.0364 - binary_accuracy: 0.7804 - loss: 111.3313 - regularization_loss: 0.0000e+00 - total_loss: 111.3313 - val_factorized_top_k/top_1_categorical_accuracy: 0.0000e+00 - val_factorized_top_k/top_5_categorical_accuracy: 0.0000e+00 - val_factorized_top_k/top_10_categorical_accuracy: 0.0000e+00 - val_factorized_top_k/top_50_categorical_accuracy: 3.3557e-04 - val_factorized_top_k/top_100_categorical_accuracy: 3.3557e-04 - val_binary_accuracy: 0.8322 - val_loss: 5.9049 - val_regularization_loss: 0.0000e+00 - val_total_loss: 5.9049\n",
            "Epoch 3/100\n",
            "435/435 [==============================] - 94s 215ms/step - factorized_top_k/top_1_categorical_accuracy: 0.0038 - factorized_top_k/top_5_categorical_accuracy: 0.0055 - factorized_top_k/top_10_categorical_accuracy: 0.0063 - factorized_top_k/top_50_categorical_accuracy: 0.0119 - factorized_top_k/top_100_categorical_accuracy: 0.0318 - binary_accuracy: 0.8218 - loss: 111.1647 - regularization_loss: 0.0000e+00 - total_loss: 111.1647 - val_factorized_top_k/top_1_categorical_accuracy: 0.0000e+00 - val_factorized_top_k/top_5_categorical_accuracy: 0.0000e+00 - val_factorized_top_k/top_10_categorical_accuracy: 0.0000e+00 - val_factorized_top_k/top_50_categorical_accuracy: 0.0000e+00 - val_factorized_top_k/top_100_categorical_accuracy: 0.0000e+00 - val_binary_accuracy: 0.8322 - val_loss: 6.0425 - val_regularization_loss: 0.0000e+00 - val_total_loss: 6.0425\n",
            "Epoch 4/100\n",
            "435/435 [==============================] - 94s 216ms/step - factorized_top_k/top_1_categorical_accuracy: 0.0019 - factorized_top_k/top_5_categorical_accuracy: 0.0050 - factorized_top_k/top_10_categorical_accuracy: 0.0063 - factorized_top_k/top_50_categorical_accuracy: 0.0168 - factorized_top_k/top_100_categorical_accuracy: 0.0362 - binary_accuracy: 0.8221 - loss: 111.1005 - regularization_loss: 0.0000e+00 - total_loss: 111.1005 - val_factorized_top_k/top_1_categorical_accuracy: 0.0000e+00 - val_factorized_top_k/top_5_categorical_accuracy: 0.0000e+00 - val_factorized_top_k/top_10_categorical_accuracy: 0.0000e+00 - val_factorized_top_k/top_50_categorical_accuracy: 3.3557e-04 - val_factorized_top_k/top_100_categorical_accuracy: 0.0101 - val_binary_accuracy: 0.8352 - val_loss: 6.0550 - val_regularization_loss: 0.0000e+00 - val_total_loss: 6.0550\n",
            "Epoch 5/100\n",
            "435/435 [==============================] - 93s 214ms/step - factorized_top_k/top_1_categorical_accuracy: 2.8756e-04 - factorized_top_k/top_5_categorical_accuracy: 0.0018 - factorized_top_k/top_10_categorical_accuracy: 0.0033 - factorized_top_k/top_50_categorical_accuracy: 0.0132 - factorized_top_k/top_100_categorical_accuracy: 0.0471 - binary_accuracy: 0.8229 - loss: 111.0313 - regularization_loss: 0.0000e+00 - total_loss: 111.0313 - val_factorized_top_k/top_1_categorical_accuracy: 0.0000e+00 - val_factorized_top_k/top_5_categorical_accuracy: 0.0000e+00 - val_factorized_top_k/top_10_categorical_accuracy: 0.0000e+00 - val_factorized_top_k/top_50_categorical_accuracy: 3.3557e-04 - val_factorized_top_k/top_100_categorical_accuracy: 0.0020 - val_binary_accuracy: 0.8144 - val_loss: 6.0473 - val_regularization_loss: 0.0000e+00 - val_total_loss: 6.0473\n",
            "Epoch 6/100\n",
            "435/435 [==============================] - 94s 216ms/step - factorized_top_k/top_1_categorical_accuracy: 6.4702e-04 - factorized_top_k/top_5_categorical_accuracy: 0.0012 - factorized_top_k/top_10_categorical_accuracy: 0.0024 - factorized_top_k/top_50_categorical_accuracy: 0.0097 - factorized_top_k/top_100_categorical_accuracy: 0.0323 - binary_accuracy: 0.8444 - loss: 111.0114 - regularization_loss: 0.0000e+00 - total_loss: 111.0114 - val_factorized_top_k/top_1_categorical_accuracy: 0.0000e+00 - val_factorized_top_k/top_5_categorical_accuracy: 0.0000e+00 - val_factorized_top_k/top_10_categorical_accuracy: 0.0000e+00 - val_factorized_top_k/top_50_categorical_accuracy: 0.0000e+00 - val_factorized_top_k/top_100_categorical_accuracy: 0.0000e+00 - val_binary_accuracy: 0.8312 - val_loss: 9.5300 - val_regularization_loss: 0.0000e+00 - val_total_loss: 9.5300\n",
            "Epoch 7/100\n",
            "435/435 [==============================] - 94s 216ms/step - factorized_top_k/top_1_categorical_accuracy: 2.8756e-04 - factorized_top_k/top_5_categorical_accuracy: 9.3458e-04 - factorized_top_k/top_10_categorical_accuracy: 0.0014 - factorized_top_k/top_50_categorical_accuracy: 0.0066 - factorized_top_k/top_100_categorical_accuracy: 0.0155 - binary_accuracy: 0.8919 - loss: 110.9399 - regularization_loss: 0.0000e+00 - total_loss: 110.9399 - val_factorized_top_k/top_1_categorical_accuracy: 0.0000e+00 - val_factorized_top_k/top_5_categorical_accuracy: 0.0000e+00 - val_factorized_top_k/top_10_categorical_accuracy: 0.0000e+00 - val_factorized_top_k/top_50_categorical_accuracy: 0.0000e+00 - val_factorized_top_k/top_100_categorical_accuracy: 3.3557e-04 - val_binary_accuracy: 0.8087 - val_loss: 5.7502 - val_regularization_loss: 0.0000e+00 - val_total_loss: 5.7502\n",
            "Epoch 8/100\n",
            "435/435 [==============================] - 94s 216ms/step - factorized_top_k/top_1_categorical_accuracy: 4.3134e-04 - factorized_top_k/top_5_categorical_accuracy: 0.0017 - factorized_top_k/top_10_categorical_accuracy: 0.0029 - factorized_top_k/top_50_categorical_accuracy: 0.0121 - factorized_top_k/top_100_categorical_accuracy: 0.0237 - binary_accuracy: 0.8781 - loss: 110.8926 - regularization_loss: 0.0000e+00 - total_loss: 110.8926 - val_factorized_top_k/top_1_categorical_accuracy: 0.0000e+00 - val_factorized_top_k/top_5_categorical_accuracy: 3.3557e-04 - val_factorized_top_k/top_10_categorical_accuracy: 3.3557e-04 - val_factorized_top_k/top_50_categorical_accuracy: 6.7114e-04 - val_factorized_top_k/top_100_categorical_accuracy: 0.0017 - val_binary_accuracy: 0.7889 - val_loss: 9.5945 - val_regularization_loss: 0.0000e+00 - val_total_loss: 9.5945\n",
            "Epoch 9/100\n",
            "435/435 [==============================] - 95s 219ms/step - factorized_top_k/top_1_categorical_accuracy: 0.0650 - factorized_top_k/top_5_categorical_accuracy: 0.0679 - factorized_top_k/top_10_categorical_accuracy: 0.0712 - factorized_top_k/top_50_categorical_accuracy: 0.0820 - factorized_top_k/top_100_categorical_accuracy: 0.1255 - binary_accuracy: 0.9043 - loss: 110.5494 - regularization_loss: 0.0000e+00 - total_loss: 110.5494 - val_factorized_top_k/top_1_categorical_accuracy: 0.6309 - val_factorized_top_k/top_5_categorical_accuracy: 0.6362 - val_factorized_top_k/top_10_categorical_accuracy: 0.6362 - val_factorized_top_k/top_50_categorical_accuracy: 0.6366 - val_factorized_top_k/top_100_categorical_accuracy: 0.6372 - val_binary_accuracy: 0.7909 - val_loss: 9.6345 - val_regularization_loss: 0.0000e+00 - val_total_loss: 9.6345\n",
            "Epoch 10/100\n",
            "435/435 [==============================] - 96s 220ms/step - factorized_top_k/top_1_categorical_accuracy: 0.2438 - factorized_top_k/top_5_categorical_accuracy: 0.2464 - factorized_top_k/top_10_categorical_accuracy: 0.2477 - factorized_top_k/top_50_categorical_accuracy: 0.2573 - factorized_top_k/top_100_categorical_accuracy: 0.2679 - binary_accuracy: 0.9070 - loss: 110.3267 - regularization_loss: 0.0000e+00 - total_loss: 110.3267 - val_factorized_top_k/top_1_categorical_accuracy: 0.5446 - val_factorized_top_k/top_5_categorical_accuracy: 0.5446 - val_factorized_top_k/top_10_categorical_accuracy: 0.5446 - val_factorized_top_k/top_50_categorical_accuracy: 0.5450 - val_factorized_top_k/top_100_categorical_accuracy: 0.5483 - val_binary_accuracy: 0.7906 - val_loss: 6.3872 - val_regularization_loss: 0.0000e+00 - val_total_loss: 6.3872\n",
            "Epoch 11/100\n",
            "435/435 [==============================] - 96s 220ms/step - factorized_top_k/top_1_categorical_accuracy: 0.2692 - factorized_top_k/top_5_categorical_accuracy: 0.2704 - factorized_top_k/top_10_categorical_accuracy: 0.2715 - factorized_top_k/top_50_categorical_accuracy: 0.2799 - factorized_top_k/top_100_categorical_accuracy: 0.2918 - binary_accuracy: 0.9070 - loss: 109.8931 - regularization_loss: 0.0000e+00 - total_loss: 109.8931 - val_factorized_top_k/top_1_categorical_accuracy: 0.5695 - val_factorized_top_k/top_5_categorical_accuracy: 0.5695 - val_factorized_top_k/top_10_categorical_accuracy: 0.5695 - val_factorized_top_k/top_50_categorical_accuracy: 0.5695 - val_factorized_top_k/top_100_categorical_accuracy: 0.5698 - val_binary_accuracy: 0.7664 - val_loss: 5.9693 - val_regularization_loss: 0.0000e+00 - val_total_loss: 5.9693\n",
            "Epoch 12/100\n",
            "435/435 [==============================] - 95s 218ms/step - factorized_top_k/top_1_categorical_accuracy: 0.2288 - factorized_top_k/top_5_categorical_accuracy: 0.2298 - factorized_top_k/top_10_categorical_accuracy: 0.2308 - factorized_top_k/top_50_categorical_accuracy: 0.2398 - factorized_top_k/top_100_categorical_accuracy: 0.2638 - binary_accuracy: 0.9030 - loss: 109.8706 - regularization_loss: 0.0000e+00 - total_loss: 109.8706 - val_factorized_top_k/top_1_categorical_accuracy: 0.6936 - val_factorized_top_k/top_5_categorical_accuracy: 0.6936 - val_factorized_top_k/top_10_categorical_accuracy: 0.6936 - val_factorized_top_k/top_50_categorical_accuracy: 0.6936 - val_factorized_top_k/top_100_categorical_accuracy: 0.6936 - val_binary_accuracy: 0.7544 - val_loss: 5.9300 - val_regularization_loss: 0.0000e+00 - val_total_loss: 5.9300\n",
            "Epoch 13/100\n",
            "435/435 [==============================] - 96s 220ms/step - factorized_top_k/top_1_categorical_accuracy: 0.2214 - factorized_top_k/top_5_categorical_accuracy: 0.2223 - factorized_top_k/top_10_categorical_accuracy: 0.2229 - factorized_top_k/top_50_categorical_accuracy: 0.2303 - factorized_top_k/top_100_categorical_accuracy: 0.2433 - binary_accuracy: 0.8983 - loss: 109.6882 - regularization_loss: 0.0000e+00 - total_loss: 109.6882 - val_factorized_top_k/top_1_categorical_accuracy: 0.5715 - val_factorized_top_k/top_5_categorical_accuracy: 0.5715 - val_factorized_top_k/top_10_categorical_accuracy: 0.5715 - val_factorized_top_k/top_50_categorical_accuracy: 0.5715 - val_factorized_top_k/top_100_categorical_accuracy: 0.5715 - val_binary_accuracy: 0.8007 - val_loss: 5.8659 - val_regularization_loss: 0.0000e+00 - val_total_loss: 5.8659\n",
            "Epoch 14/100\n",
            "435/435 [==============================] - 94s 217ms/step - factorized_top_k/top_1_categorical_accuracy: 0.3043 - factorized_top_k/top_5_categorical_accuracy: 0.3071 - factorized_top_k/top_10_categorical_accuracy: 0.3098 - factorized_top_k/top_50_categorical_accuracy: 0.3272 - factorized_top_k/top_100_categorical_accuracy: 0.3415 - binary_accuracy: 0.8229 - loss: 109.6020 - regularization_loss: 0.0000e+00 - total_loss: 109.6020 - val_factorized_top_k/top_1_categorical_accuracy: 0.1473 - val_factorized_top_k/top_5_categorical_accuracy: 0.1473 - val_factorized_top_k/top_10_categorical_accuracy: 0.1473 - val_factorized_top_k/top_50_categorical_accuracy: 0.1477 - val_factorized_top_k/top_100_categorical_accuracy: 0.1477 - val_binary_accuracy: 0.8379 - val_loss: 5.6673 - val_regularization_loss: 0.0000e+00 - val_total_loss: 5.6673\n",
            "Epoch 15/100\n",
            "435/435 [==============================] - 94s 216ms/step - factorized_top_k/top_1_categorical_accuracy: 0.2063 - factorized_top_k/top_5_categorical_accuracy: 0.2082 - factorized_top_k/top_10_categorical_accuracy: 0.2093 - factorized_top_k/top_50_categorical_accuracy: 0.2192 - factorized_top_k/top_100_categorical_accuracy: 0.2337 - binary_accuracy: 0.8396 - loss: 109.2827 - regularization_loss: 0.0000e+00 - total_loss: 109.2827 - val_factorized_top_k/top_1_categorical_accuracy: 0.2752 - val_factorized_top_k/top_5_categorical_accuracy: 0.2752 - val_factorized_top_k/top_10_categorical_accuracy: 0.2752 - val_factorized_top_k/top_50_categorical_accuracy: 0.2752 - val_factorized_top_k/top_100_categorical_accuracy: 0.2755 - val_binary_accuracy: 0.8299 - val_loss: 5.7949 - val_regularization_loss: 0.0000e+00 - val_total_loss: 5.7949\n",
            "Epoch 16/100\n",
            "435/435 [==============================] - 94s 217ms/step - factorized_top_k/top_1_categorical_accuracy: 0.1662 - factorized_top_k/top_5_categorical_accuracy: 0.1679 - factorized_top_k/top_10_categorical_accuracy: 0.1692 - factorized_top_k/top_50_categorical_accuracy: 0.1802 - factorized_top_k/top_100_categorical_accuracy: 0.1951 - binary_accuracy: 0.8111 - loss: 110.0237 - regularization_loss: 0.0000e+00 - total_loss: 110.0237 - val_factorized_top_k/top_1_categorical_accuracy: 0.5446 - val_factorized_top_k/top_5_categorical_accuracy: 0.6154 - val_factorized_top_k/top_10_categorical_accuracy: 0.6154 - val_factorized_top_k/top_50_categorical_accuracy: 0.6154 - val_factorized_top_k/top_100_categorical_accuracy: 0.6154 - val_binary_accuracy: 0.7715 - val_loss: 5.8193 - val_regularization_loss: 0.0000e+00 - val_total_loss: 5.8193\n",
            "Epoch 17/100\n",
            "435/435 [==============================] - 94s 217ms/step - factorized_top_k/top_1_categorical_accuracy: 0.1744 - factorized_top_k/top_5_categorical_accuracy: 0.1799 - factorized_top_k/top_10_categorical_accuracy: 0.1823 - factorized_top_k/top_50_categorical_accuracy: 0.2058 - factorized_top_k/top_100_categorical_accuracy: 0.2291 - binary_accuracy: 0.8608 - loss: 109.1357 - regularization_loss: 0.0000e+00 - total_loss: 109.1357 - val_factorized_top_k/top_1_categorical_accuracy: 0.0000e+00 - val_factorized_top_k/top_5_categorical_accuracy: 0.0000e+00 - val_factorized_top_k/top_10_categorical_accuracy: 0.0000e+00 - val_factorized_top_k/top_50_categorical_accuracy: 3.3557e-04 - val_factorized_top_k/top_100_categorical_accuracy: 0.0010 - val_binary_accuracy: 0.8342 - val_loss: 6.0551 - val_regularization_loss: 0.0000e+00 - val_total_loss: 6.0551\n",
            "Epoch 18/100\n",
            "435/435 [==============================] - 96s 220ms/step - factorized_top_k/top_1_categorical_accuracy: 0.2121 - factorized_top_k/top_5_categorical_accuracy: 0.2523 - factorized_top_k/top_10_categorical_accuracy: 0.2630 - factorized_top_k/top_50_categorical_accuracy: 0.2914 - factorized_top_k/top_100_categorical_accuracy: 0.3032 - binary_accuracy: 0.8565 - loss: 109.4269 - regularization_loss: 0.0000e+00 - total_loss: 109.4269 - val_factorized_top_k/top_1_categorical_accuracy: 0.2208 - val_factorized_top_k/top_5_categorical_accuracy: 0.2339 - val_factorized_top_k/top_10_categorical_accuracy: 0.2383 - val_factorized_top_k/top_50_categorical_accuracy: 0.2641 - val_factorized_top_k/top_100_categorical_accuracy: 0.3258 - val_binary_accuracy: 0.8349 - val_loss: 5.9252 - val_regularization_loss: 0.0000e+00 - val_total_loss: 5.9252\n",
            "Epoch 19/100\n",
            "435/435 [==============================] - 95s 218ms/step - factorized_top_k/top_1_categorical_accuracy: 0.2184 - factorized_top_k/top_5_categorical_accuracy: 0.2301 - factorized_top_k/top_10_categorical_accuracy: 0.2347 - factorized_top_k/top_50_categorical_accuracy: 0.2574 - factorized_top_k/top_100_categorical_accuracy: 0.3138 - binary_accuracy: 0.8605 - loss: 108.8526 - regularization_loss: 0.0000e+00 - total_loss: 108.8526 - val_factorized_top_k/top_1_categorical_accuracy: 0.3245 - val_factorized_top_k/top_5_categorical_accuracy: 0.3245 - val_factorized_top_k/top_10_categorical_accuracy: 0.3245 - val_factorized_top_k/top_50_categorical_accuracy: 0.4943 - val_factorized_top_k/top_100_categorical_accuracy: 0.5154 - val_binary_accuracy: 0.7389 - val_loss: 5.8544 - val_regularization_loss: 0.0000e+00 - val_total_loss: 5.8544\n",
            "Epoch 20/100\n",
            "435/435 [==============================] - 94s 217ms/step - factorized_top_k/top_1_categorical_accuracy: 0.0730 - factorized_top_k/top_5_categorical_accuracy: 0.0756 - factorized_top_k/top_10_categorical_accuracy: 0.0779 - factorized_top_k/top_50_categorical_accuracy: 0.1146 - factorized_top_k/top_100_categorical_accuracy: 0.1433 - binary_accuracy: 0.8117 - loss: 108.8785 - regularization_loss: 0.0000e+00 - total_loss: 108.8785 - val_factorized_top_k/top_1_categorical_accuracy: 0.4483 - val_factorized_top_k/top_5_categorical_accuracy: 0.4805 - val_factorized_top_k/top_10_categorical_accuracy: 0.4879 - val_factorized_top_k/top_50_categorical_accuracy: 0.5117 - val_factorized_top_k/top_100_categorical_accuracy: 0.5181 - val_binary_accuracy: 0.8295 - val_loss: 9.6921 - val_regularization_loss: 0.0000e+00 - val_total_loss: 9.6921\n",
            "Epoch 21/100\n",
            "435/435 [==============================] - 95s 218ms/step - factorized_top_k/top_1_categorical_accuracy: 0.2195 - factorized_top_k/top_5_categorical_accuracy: 0.2231 - factorized_top_k/top_10_categorical_accuracy: 0.2272 - factorized_top_k/top_50_categorical_accuracy: 0.2518 - factorized_top_k/top_100_categorical_accuracy: 0.2709 - binary_accuracy: 0.8214 - loss: 108.3476 - regularization_loss: 0.0000e+00 - total_loss: 108.3476 - val_factorized_top_k/top_1_categorical_accuracy: 0.3258 - val_factorized_top_k/top_5_categorical_accuracy: 0.3262 - val_factorized_top_k/top_10_categorical_accuracy: 0.3470 - val_factorized_top_k/top_50_categorical_accuracy: 0.4352 - val_factorized_top_k/top_100_categorical_accuracy: 0.4463 - val_binary_accuracy: 0.8409 - val_loss: 5.9960 - val_regularization_loss: 0.0000e+00 - val_total_loss: 5.9960\n",
            "Epoch 22/100\n",
            "435/435 [==============================] - 95s 219ms/step - factorized_top_k/top_1_categorical_accuracy: 0.1629 - factorized_top_k/top_5_categorical_accuracy: 0.1643 - factorized_top_k/top_10_categorical_accuracy: 0.1674 - factorized_top_k/top_50_categorical_accuracy: 0.2146 - factorized_top_k/top_100_categorical_accuracy: 0.2426 - binary_accuracy: 0.8268 - loss: 107.8020 - regularization_loss: 0.0000e+00 - total_loss: 107.8020 - val_factorized_top_k/top_1_categorical_accuracy: 0.1168 - val_factorized_top_k/top_5_categorical_accuracy: 0.1168 - val_factorized_top_k/top_10_categorical_accuracy: 0.1168 - val_factorized_top_k/top_50_categorical_accuracy: 0.1738 - val_factorized_top_k/top_100_categorical_accuracy: 0.1899 - val_binary_accuracy: 0.7007 - val_loss: 5.7790 - val_regularization_loss: 0.0000e+00 - val_total_loss: 5.7790\n",
            "Epoch 23/100\n",
            "435/435 [==============================] - 96s 221ms/step - factorized_top_k/top_1_categorical_accuracy: 0.1224 - factorized_top_k/top_5_categorical_accuracy: 0.1244 - factorized_top_k/top_10_categorical_accuracy: 0.1274 - factorized_top_k/top_50_categorical_accuracy: 0.1544 - factorized_top_k/top_100_categorical_accuracy: 0.1751 - binary_accuracy: 0.8311 - loss: 107.6912 - regularization_loss: 0.0000e+00 - total_loss: 107.6912 - val_factorized_top_k/top_1_categorical_accuracy: 0.3121 - val_factorized_top_k/top_5_categorical_accuracy: 0.3178 - val_factorized_top_k/top_10_categorical_accuracy: 0.3188 - val_factorized_top_k/top_50_categorical_accuracy: 0.3302 - val_factorized_top_k/top_100_categorical_accuracy: 0.3423 - val_binary_accuracy: 0.6785 - val_loss: 6.1777 - val_regularization_loss: 0.0000e+00 - val_total_loss: 6.1777\n",
            "Epoch 24/100\n",
            "435/435 [==============================] - 96s 221ms/step - factorized_top_k/top_1_categorical_accuracy: 0.1124 - factorized_top_k/top_5_categorical_accuracy: 0.1163 - factorized_top_k/top_10_categorical_accuracy: 0.1191 - factorized_top_k/top_50_categorical_accuracy: 0.1405 - factorized_top_k/top_100_categorical_accuracy: 0.1637 - binary_accuracy: 0.8311 - loss: 107.4784 - regularization_loss: 0.0000e+00 - total_loss: 107.4784 - val_factorized_top_k/top_1_categorical_accuracy: 0.4174 - val_factorized_top_k/top_5_categorical_accuracy: 0.4235 - val_factorized_top_k/top_10_categorical_accuracy: 0.4248 - val_factorized_top_k/top_50_categorical_accuracy: 0.4366 - val_factorized_top_k/top_100_categorical_accuracy: 0.4433 - val_binary_accuracy: 0.6735 - val_loss: 5.8865 - val_regularization_loss: 0.0000e+00 - val_total_loss: 5.8865\n",
            "Epoch 25/100\n",
            "435/435 [==============================] - 96s 220ms/step - factorized_top_k/top_1_categorical_accuracy: 0.1636 - factorized_top_k/top_5_categorical_accuracy: 0.1679 - factorized_top_k/top_10_categorical_accuracy: 0.1717 - factorized_top_k/top_50_categorical_accuracy: 0.1948 - factorized_top_k/top_100_categorical_accuracy: 0.2171 - binary_accuracy: 0.8319 - loss: 107.3111 - regularization_loss: 0.0000e+00 - total_loss: 107.3111 - val_factorized_top_k/top_1_categorical_accuracy: 0.3312 - val_factorized_top_k/top_5_categorical_accuracy: 0.3312 - val_factorized_top_k/top_10_categorical_accuracy: 0.3490 - val_factorized_top_k/top_50_categorical_accuracy: 0.3822 - val_factorized_top_k/top_100_categorical_accuracy: 0.3866 - val_binary_accuracy: 0.6332 - val_loss: 5.8924 - val_regularization_loss: 0.0000e+00 - val_total_loss: 5.8924\n",
            "Epoch 26/100\n",
            "435/435 [==============================] - 96s 222ms/step - factorized_top_k/top_1_categorical_accuracy: 0.1677 - factorized_top_k/top_5_categorical_accuracy: 0.1695 - factorized_top_k/top_10_categorical_accuracy: 0.1739 - factorized_top_k/top_50_categorical_accuracy: 0.1994 - factorized_top_k/top_100_categorical_accuracy: 0.2286 - binary_accuracy: 0.8351 - loss: 107.0349 - regularization_loss: 0.0000e+00 - total_loss: 107.0349 - val_factorized_top_k/top_1_categorical_accuracy: 0.2275 - val_factorized_top_k/top_5_categorical_accuracy: 0.2275 - val_factorized_top_k/top_10_categorical_accuracy: 0.2275 - val_factorized_top_k/top_50_categorical_accuracy: 0.3081 - val_factorized_top_k/top_100_categorical_accuracy: 0.3161 - val_binary_accuracy: 0.6644 - val_loss: 6.1097 - val_regularization_loss: 0.0000e+00 - val_total_loss: 6.1097\n",
            "Epoch 27/100\n",
            "435/435 [==============================] - 96s 222ms/step - factorized_top_k/top_1_categorical_accuracy: 0.1380 - factorized_top_k/top_5_categorical_accuracy: 0.1399 - factorized_top_k/top_10_categorical_accuracy: 0.1420 - factorized_top_k/top_50_categorical_accuracy: 0.1701 - factorized_top_k/top_100_categorical_accuracy: 0.1980 - binary_accuracy: 0.8342 - loss: 107.0064 - regularization_loss: 0.0000e+00 - total_loss: 107.0064 - val_factorized_top_k/top_1_categorical_accuracy: 0.3624 - val_factorized_top_k/top_5_categorical_accuracy: 0.3624 - val_factorized_top_k/top_10_categorical_accuracy: 0.3624 - val_factorized_top_k/top_50_categorical_accuracy: 0.4792 - val_factorized_top_k/top_100_categorical_accuracy: 0.5000 - val_binary_accuracy: 0.6413 - val_loss: 13.5686 - val_regularization_loss: 0.0000e+00 - val_total_loss: 13.5686\n",
            "Epoch 28/100\n",
            "435/435 [==============================] - 96s 220ms/step - factorized_top_k/top_1_categorical_accuracy: 0.1043 - factorized_top_k/top_5_categorical_accuracy: 0.1094 - factorized_top_k/top_10_categorical_accuracy: 0.1120 - factorized_top_k/top_50_categorical_accuracy: 0.1482 - factorized_top_k/top_100_categorical_accuracy: 0.1771 - binary_accuracy: 0.8142 - loss: 107.4037 - regularization_loss: 0.0000e+00 - total_loss: 107.4037 - val_factorized_top_k/top_1_categorical_accuracy: 0.3372 - val_factorized_top_k/top_5_categorical_accuracy: 0.3480 - val_factorized_top_k/top_10_categorical_accuracy: 0.3530 - val_factorized_top_k/top_50_categorical_accuracy: 0.3621 - val_factorized_top_k/top_100_categorical_accuracy: 0.3631 - val_binary_accuracy: 0.6346 - val_loss: 6.2032 - val_regularization_loss: 0.0000e+00 - val_total_loss: 6.2032\n",
            "Epoch 29/100\n",
            "435/435 [==============================] - 97s 223ms/step - factorized_top_k/top_1_categorical_accuracy: 0.1154 - factorized_top_k/top_5_categorical_accuracy: 0.1208 - factorized_top_k/top_10_categorical_accuracy: 0.1276 - factorized_top_k/top_50_categorical_accuracy: 0.1505 - factorized_top_k/top_100_categorical_accuracy: 0.1786 - binary_accuracy: 0.8153 - loss: 107.1452 - regularization_loss: 0.0000e+00 - total_loss: 107.1452 - val_factorized_top_k/top_1_categorical_accuracy: 0.2997 - val_factorized_top_k/top_5_categorical_accuracy: 0.2997 - val_factorized_top_k/top_10_categorical_accuracy: 0.3389 - val_factorized_top_k/top_50_categorical_accuracy: 0.3725 - val_factorized_top_k/top_100_categorical_accuracy: 0.3977 - val_binary_accuracy: 0.6705 - val_loss: 6.2100 - val_regularization_loss: 0.0000e+00 - val_total_loss: 6.2100\n",
            "Epoch 30/100\n",
            "435/435 [==============================] - 97s 224ms/step - factorized_top_k/top_1_categorical_accuracy: 0.1050 - factorized_top_k/top_5_categorical_accuracy: 0.1071 - factorized_top_k/top_10_categorical_accuracy: 0.1137 - factorized_top_k/top_50_categorical_accuracy: 0.1367 - factorized_top_k/top_100_categorical_accuracy: 0.1671 - binary_accuracy: 0.8306 - loss: 107.8238 - regularization_loss: 0.0000e+00 - total_loss: 107.8238 - val_factorized_top_k/top_1_categorical_accuracy: 0.4695 - val_factorized_top_k/top_5_categorical_accuracy: 0.4768 - val_factorized_top_k/top_10_categorical_accuracy: 0.4775 - val_factorized_top_k/top_50_categorical_accuracy: 0.5047 - val_factorized_top_k/top_100_categorical_accuracy: 0.5987 - val_binary_accuracy: 0.6685 - val_loss: 6.1961 - val_regularization_loss: 0.0000e+00 - val_total_loss: 6.1961\n",
            "Epoch 31/100\n",
            "435/435 [==============================] - 97s 224ms/step - factorized_top_k/top_1_categorical_accuracy: 0.2385 - factorized_top_k/top_5_categorical_accuracy: 0.2408 - factorized_top_k/top_10_categorical_accuracy: 0.2428 - factorized_top_k/top_50_categorical_accuracy: 0.2623 - factorized_top_k/top_100_categorical_accuracy: 0.2967 - binary_accuracy: 0.8492 - loss: 108.8118 - regularization_loss: 0.0000e+00 - total_loss: 108.8118 - val_factorized_top_k/top_1_categorical_accuracy: 0.0000e+00 - val_factorized_top_k/top_5_categorical_accuracy: 0.3604 - val_factorized_top_k/top_10_categorical_accuracy: 0.3644 - val_factorized_top_k/top_50_categorical_accuracy: 0.3698 - val_factorized_top_k/top_100_categorical_accuracy: 0.3718 - val_binary_accuracy: 0.8295 - val_loss: 5.5452 - val_regularization_loss: 0.0000e+00 - val_total_loss: 5.5452\n",
            "Epoch 32/100\n",
            "435/435 [==============================] - 99s 227ms/step - factorized_top_k/top_1_categorical_accuracy: 0.0298 - factorized_top_k/top_5_categorical_accuracy: 0.0363 - factorized_top_k/top_10_categorical_accuracy: 0.1826 - factorized_top_k/top_50_categorical_accuracy: 0.2202 - factorized_top_k/top_100_categorical_accuracy: 0.2475 - binary_accuracy: 0.7689 - loss: 108.6018 - regularization_loss: 0.0000e+00 - total_loss: 108.6018 - val_factorized_top_k/top_1_categorical_accuracy: 0.4617 - val_factorized_top_k/top_5_categorical_accuracy: 0.4621 - val_factorized_top_k/top_10_categorical_accuracy: 0.4621 - val_factorized_top_k/top_50_categorical_accuracy: 0.4708 - val_factorized_top_k/top_100_categorical_accuracy: 0.4856 - val_binary_accuracy: 0.6366 - val_loss: 6.5434 - val_regularization_loss: 0.0000e+00 - val_total_loss: 6.5434\n",
            "Epoch 33/100\n",
            "435/435 [==============================] - 97s 222ms/step - factorized_top_k/top_1_categorical_accuracy: 0.0518 - factorized_top_k/top_5_categorical_accuracy: 0.0569 - factorized_top_k/top_10_categorical_accuracy: 0.1113 - factorized_top_k/top_50_categorical_accuracy: 0.1904 - factorized_top_k/top_100_categorical_accuracy: 0.2155 - binary_accuracy: 0.7075 - loss: 109.3232 - regularization_loss: 0.0000e+00 - total_loss: 109.3232 - val_factorized_top_k/top_1_categorical_accuracy: 0.0000e+00 - val_factorized_top_k/top_5_categorical_accuracy: 0.0000e+00 - val_factorized_top_k/top_10_categorical_accuracy: 0.0000e+00 - val_factorized_top_k/top_50_categorical_accuracy: 0.3456 - val_factorized_top_k/top_100_categorical_accuracy: 0.3520 - val_binary_accuracy: 0.7406 - val_loss: 6.3350 - val_regularization_loss: 0.0000e+00 - val_total_loss: 6.3350\n",
            "Epoch 34/100\n",
            "435/435 [==============================] - 98s 226ms/step - factorized_top_k/top_1_categorical_accuracy: 0.0039 - factorized_top_k/top_5_categorical_accuracy: 0.0070 - factorized_top_k/top_10_categorical_accuracy: 0.0134 - factorized_top_k/top_50_categorical_accuracy: 0.1315 - factorized_top_k/top_100_categorical_accuracy: 0.1549 - binary_accuracy: 0.8276 - loss: 107.0554 - regularization_loss: 0.0000e+00 - total_loss: 107.0554 - val_factorized_top_k/top_1_categorical_accuracy: 3.3557e-04 - val_factorized_top_k/top_5_categorical_accuracy: 3.3557e-04 - val_factorized_top_k/top_10_categorical_accuracy: 6.7114e-04 - val_factorized_top_k/top_50_categorical_accuracy: 0.4248 - val_factorized_top_k/top_100_categorical_accuracy: 0.4604 - val_binary_accuracy: 0.7393 - val_loss: 6.0788 - val_regularization_loss: 0.0000e+00 - val_total_loss: 6.0788\n",
            "Epoch 35/100\n",
            "435/435 [==============================] - 97s 222ms/step - factorized_top_k/top_1_categorical_accuracy: 0.0051 - factorized_top_k/top_5_categorical_accuracy: 0.0086 - factorized_top_k/top_10_categorical_accuracy: 0.0405 - factorized_top_k/top_50_categorical_accuracy: 0.2061 - factorized_top_k/top_100_categorical_accuracy: 0.2419 - binary_accuracy: 0.8285 - loss: 106.8308 - regularization_loss: 0.0000e+00 - total_loss: 106.8308 - val_factorized_top_k/top_1_categorical_accuracy: 0.0000e+00 - val_factorized_top_k/top_5_categorical_accuracy: 0.0000e+00 - val_factorized_top_k/top_10_categorical_accuracy: 0.0000e+00 - val_factorized_top_k/top_50_categorical_accuracy: 0.4460 - val_factorized_top_k/top_100_categorical_accuracy: 0.4487 - val_binary_accuracy: 0.6913 - val_loss: 5.5958 - val_regularization_loss: 0.0000e+00 - val_total_loss: 5.5958\n",
            "Epoch 36/100\n",
            "435/435 [==============================] - 97s 222ms/step - factorized_top_k/top_1_categorical_accuracy: 0.0045 - factorized_top_k/top_5_categorical_accuracy: 0.0078 - factorized_top_k/top_10_categorical_accuracy: 0.0126 - factorized_top_k/top_50_categorical_accuracy: 0.1038 - factorized_top_k/top_100_categorical_accuracy: 0.1272 - binary_accuracy: 0.8322 - loss: 106.8274 - regularization_loss: 0.0000e+00 - total_loss: 106.8274 - val_factorized_top_k/top_1_categorical_accuracy: 0.0000e+00 - val_factorized_top_k/top_5_categorical_accuracy: 0.0000e+00 - val_factorized_top_k/top_10_categorical_accuracy: 0.0000e+00 - val_factorized_top_k/top_50_categorical_accuracy: 0.0000e+00 - val_factorized_top_k/top_100_categorical_accuracy: 3.3557e-04 - val_binary_accuracy: 0.6688 - val_loss: 5.9448 - val_regularization_loss: 0.0000e+00 - val_total_loss: 5.9448\n",
            "Epoch 37/100\n",
            "435/435 [==============================] - 96s 221ms/step - factorized_top_k/top_1_categorical_accuracy: 0.0060 - factorized_top_k/top_5_categorical_accuracy: 0.0085 - factorized_top_k/top_10_categorical_accuracy: 0.0120 - factorized_top_k/top_50_categorical_accuracy: 0.1331 - factorized_top_k/top_100_categorical_accuracy: 0.1615 - binary_accuracy: 0.8298 - loss: 106.5735 - regularization_loss: 0.0000e+00 - total_loss: 106.5735 - val_factorized_top_k/top_1_categorical_accuracy: 0.0000e+00 - val_factorized_top_k/top_5_categorical_accuracy: 0.0000e+00 - val_factorized_top_k/top_10_categorical_accuracy: 6.7114e-04 - val_factorized_top_k/top_50_categorical_accuracy: 0.0010 - val_factorized_top_k/top_100_categorical_accuracy: 0.0013 - val_binary_accuracy: 0.6923 - val_loss: 6.2685 - val_regularization_loss: 0.0000e+00 - val_total_loss: 6.2685\n",
            "Epoch 38/100\n",
            "435/435 [==============================] - 95s 219ms/step - factorized_top_k/top_1_categorical_accuracy: 0.0078 - factorized_top_k/top_5_categorical_accuracy: 0.0096 - factorized_top_k/top_10_categorical_accuracy: 0.0116 - factorized_top_k/top_50_categorical_accuracy: 0.1474 - factorized_top_k/top_100_categorical_accuracy: 0.1817 - binary_accuracy: 0.8268 - loss: 107.1047 - regularization_loss: 0.0000e+00 - total_loss: 107.1047 - val_factorized_top_k/top_1_categorical_accuracy: 0.0000e+00 - val_factorized_top_k/top_5_categorical_accuracy: 3.3557e-04 - val_factorized_top_k/top_10_categorical_accuracy: 3.3557e-04 - val_factorized_top_k/top_50_categorical_accuracy: 3.3557e-04 - val_factorized_top_k/top_100_categorical_accuracy: 6.7114e-04 - val_binary_accuracy: 0.6708 - val_loss: 5.9934 - val_regularization_loss: 0.0000e+00 - val_total_loss: 5.9934\n",
            "Epoch 39/100\n",
            "435/435 [==============================] - 97s 222ms/step - factorized_top_k/top_1_categorical_accuracy: 0.1118 - factorized_top_k/top_5_categorical_accuracy: 0.1198 - factorized_top_k/top_10_categorical_accuracy: 0.1239 - factorized_top_k/top_50_categorical_accuracy: 0.1485 - factorized_top_k/top_100_categorical_accuracy: 0.1807 - binary_accuracy: 0.8319 - loss: 106.8363 - regularization_loss: 0.0000e+00 - total_loss: 106.8363 - val_factorized_top_k/top_1_categorical_accuracy: 0.0000e+00 - val_factorized_top_k/top_5_categorical_accuracy: 0.0000e+00 - val_factorized_top_k/top_10_categorical_accuracy: 0.0000e+00 - val_factorized_top_k/top_50_categorical_accuracy: 0.0010 - val_factorized_top_k/top_100_categorical_accuracy: 0.0013 - val_binary_accuracy: 0.6460 - val_loss: 6.1802 - val_regularization_loss: 0.0000e+00 - val_total_loss: 6.1802\n",
            "Epoch 40/100\n",
            "435/435 [==============================] - 95s 220ms/step - factorized_top_k/top_1_categorical_accuracy: 0.0028 - factorized_top_k/top_5_categorical_accuracy: 0.0065 - factorized_top_k/top_10_categorical_accuracy: 0.0111 - factorized_top_k/top_50_categorical_accuracy: 0.1671 - factorized_top_k/top_100_categorical_accuracy: 0.2178 - binary_accuracy: 0.8300 - loss: 106.7531 - regularization_loss: 0.0000e+00 - total_loss: 106.7531 - val_factorized_top_k/top_1_categorical_accuracy: 0.0000e+00 - val_factorized_top_k/top_5_categorical_accuracy: 0.0000e+00 - val_factorized_top_k/top_10_categorical_accuracy: 0.0000e+00 - val_factorized_top_k/top_50_categorical_accuracy: 6.7114e-04 - val_factorized_top_k/top_100_categorical_accuracy: 0.0044 - val_binary_accuracy: 0.6661 - val_loss: 6.2292 - val_regularization_loss: 0.0000e+00 - val_total_loss: 6.2292\n",
            "Epoch 41/100\n",
            "435/435 [==============================] - 96s 221ms/step - factorized_top_k/top_1_categorical_accuracy: 0.0046 - factorized_top_k/top_5_categorical_accuracy: 0.0076 - factorized_top_k/top_10_categorical_accuracy: 0.0114 - factorized_top_k/top_50_categorical_accuracy: 0.0368 - factorized_top_k/top_100_categorical_accuracy: 0.0597 - binary_accuracy: 0.8283 - loss: 106.4894 - regularization_loss: 0.0000e+00 - total_loss: 106.4894 - val_factorized_top_k/top_1_categorical_accuracy: 0.0000e+00 - val_factorized_top_k/top_5_categorical_accuracy: 0.0000e+00 - val_factorized_top_k/top_10_categorical_accuracy: 0.0000e+00 - val_factorized_top_k/top_50_categorical_accuracy: 6.7114e-04 - val_factorized_top_k/top_100_categorical_accuracy: 6.7114e-04 - val_binary_accuracy: 0.6319 - val_loss: 6.5017 - val_regularization_loss: 0.0000e+00 - val_total_loss: 6.5017\n"
          ]
        }
      ],
      "source": [
        "recommender = NoDescRecommender(user_model, item_model, candidates_ds)\n",
        "recommender.compile(optimizer = optimizer)\n",
        "history = recommender.fit(train,\n",
        "                validation_data = val,\n",
        "                epochs=100, callbacks=[early_stop])"
      ]
    },
    {
      "cell_type": "code",
      "execution_count": null,
      "metadata": {
        "colab": {
          "background_save": true
        },
        "id": "hNyhAO2FAdwX",
        "outputId": "df7f6f38-926d-408b-a625-0ccd548c2bf7"
      },
      "outputs": [
        {
          "data": {
            "image/png": "[encoded data removed]",
            "text/plain": [
              "<Figure size 640x480 with 1 Axes>"
            ]
          },
          "metadata": {},
          "output_type": "display_data"
        },
        {
          "data": {
            "image/png": "[encoded data removed]",
            "text/plain": [
              "<Figure size 640x480 with 1 Axes>"
            ]
          },
          "metadata": {},
          "output_type": "display_data"
        },
        {
          "data": {
            "image/png": "[encoded data removed]",
            "text/plain": [
              "<Figure size 640x480 with 1 Axes>"
            ]
          },
          "metadata": {},
          "output_type": "display_data"
        }
      ],
      "source": [
        "metrics = history.history\n",
        "plt.plot(metrics['loss'], label='Training Loss')\n",
        "plt.plot(metrics['val_loss'], label='Validation Loss')\n",
        "plt.title('Loss over Epochs')\n",
        "plt.xlabel('Epochs')\n",
        "plt.ylabel('Loss')\n",
        "plt.legend()\n",
        "plt.show()\n",
        "\n",
        "# Plot top 1 cat accuracy\n",
        "\n",
        "plt.plot(metrics['factorized_top_k/top_1_categorical_accuracy'], label='Top_1 Training Accuracy')\n",
        "plt.plot(metrics['val_factorized_top_k/top_1_categorical_accuracy'], label='Top_1 Validation Accuracy')\n",
        "plt.title('Accuracy over Epochs')\n",
        "plt.xlabel('Epochs')\n",
        "plt.ylabel('Categorical Accuracy')\n",
        "plt.legend()\n",
        "plt.show()\n",
        "\n",
        "# Plot binary accuracy\n",
        "plt.plot(metrics['binary_accuracy'], label='Training Accuracy')\n",
        "plt.plot(metrics['val_binary_accuracy'], label='Validation Accuracy')\n",
        "plt.title('Binary Accuracy over Epochs')\n",
        "plt.xlabel('Epochs')\n",
        "plt.ylabel('Binary Accuracy')\n",
        "plt.ylim(0.5,1)\n",
        "plt.legend()\n",
        "plt.show()"
      ]
    },
    {
      "cell_type": "code",
      "execution_count": null,
      "metadata": {
        "colab": {
          "background_save": true
        },
        "id": "caXpjMyD-OEa",
        "outputId": "448ebb62-36ef-45f8-92d3-e07302380331"
      },
      "outputs": [
        {
          "name": "stdout",
          "output_type": "stream",
          "text": [
            "94/94 [==============================] - 17s 177ms/step - factorized_top_k/top_1_categorical_accuracy: 0.0000e+00 - factorized_top_k/top_5_categorical_accuracy: 0.2465 - factorized_top_k/top_10_categorical_accuracy: 0.2508 - factorized_top_k/top_50_categorical_accuracy: 0.2569 - factorized_top_k/top_100_categorical_accuracy: 0.2602 - binary_accuracy: 0.8189 - loss: 111.6410 - regularization_loss: 0.0000e+00 - total_loss: 111.6410\n",
            "{'factorized_top_k/top_1_categorical_accuracy': 0.0, 'factorized_top_k/top_5_categorical_accuracy': 0.246478870511055, 'factorized_top_k/top_10_categorical_accuracy': 0.25083836913108826, 'factorized_top_k/top_50_categorical_accuracy': 0.25687459111213684, 'factorized_top_k/top_100_categorical_accuracy': 0.2602280378341675, 'binary_accuracy': 0.818913459777832, 'loss': 13.292097091674805, 'regularization_loss': 0, 'total_loss': 13.292097091674805}\n"
          ]
        }
      ],
      "source": [
        "test_metrics = recommender.evaluate(test, return_dict=True)\n",
        "print(test_metrics)"
      ]
    },
    {
      "cell_type": "code",
      "execution_count": null,
      "metadata": {
        "colab": {
          "background_save": true
        },
        "id": "fJOFgQbu2Cka",
        "outputId": "cc3b048a-22a0-4903-e2d7-9ad0cc1c1a23"
      },
      "outputs": [
        {
          "name": "stdout",
          "output_type": "stream",
          "text": [
            "94/94 [==============================] - 17s 176ms/step - factorized_top_k/top_1_categorical_accuracy: 0.0000e+00 - factorized_top_k/top_5_categorical_accuracy: 0.2371 - factorized_top_k/top_10_categorical_accuracy: 0.2414 - factorized_top_k/top_50_categorical_accuracy: 0.2465 - factorized_top_k/top_100_categorical_accuracy: 0.2502 - binary_accuracy: 0.8162 - loss: 111.5439 - regularization_loss: 0.0000e+00 - total_loss: 111.5439\n"
          ]
        },
        {
          "name": "stderr",
          "output_type": "stream",
          "text": [
            "/usr/local/lib/python3.10/dist-packages/keras/src/saving/saving_api.py:164: UserWarning: You are saving a model that has not yet been built. It might not contain any weights yet. Consider building the model first by calling it on some data.\n",
            "  saving_lib.save_model(model, filepath)\n",
            "WARNING:tensorflow:Model's `__init__()` arguments contain non-serializable objects. Please implement a `get_config()` method in the subclassed Model for proper saving and loading. Defaulting to empty config.\n",
            "WARNING:tensorflow:Model's `__init__()` arguments contain non-serializable objects. Please implement a `get_config()` method in the subclassed Model for proper saving and loading. Defaulting to empty config.\n",
            "WARNING:tensorflow:Model's `__init__()` arguments contain non-serializable objects. Please implement a `get_config()` method in the subclassed Model for proper saving and loading. Defaulting to empty config.\n"
          ]
        }
      ],
      "source": [
        "recommender.evaluate(test)\n",
        "recommender.save(\"pca_nodesc_model.keras\")"
      ]
    },
    {
      "cell_type": "markdown",
      "metadata": {
        "id": "VGM2o1E0AEB0"
      },
      "source": [
        "#Training PCA con Descrizioni"
      ]
    },
    {
      "cell_type": "code",
      "execution_count": null,
      "metadata": {
        "colab": {
          "background_save": true
        },
        "id": "ed-SM5XkAoUl"
      },
      "outputs": [],
      "source": [
        "items['Composition'] = items['Composition'].astype(str)\n",
        "gender_lookup = StringLookup()\n",
        "collection_lookup = StringLookup()\n",
        "composition_lookup = StringLookup()\n",
        "\n",
        "gender_lookup.adapt(items['Gender'])\n",
        "collection_lookup.adapt(items['Collection'])\n",
        "composition_lookup.adapt(items['Composition'])\n",
        "\n",
        "items['Gender_encoded'] = gender_lookup(items['Gender'])\n",
        "items['Collection_encoded'] = collection_lookup(items['Collection'])\n",
        "items['Composition_encoded'] = composition_lookup(items['Composition'])"
      ]
    },
    {
      "cell_type": "code",
      "execution_count": null,
      "metadata": {
        "colab": {
          "background_save": true
        },
        "id": "5v_MFtpIGv7X"
      },
      "outputs": [],
      "source": [
        "full_items = items.merge(df_reduced_desc, on='ItemId')\n",
        "full_items = full_items.merge(df_reduced_cat, on='ItemId')\n",
        "df_full = full_items.merge(purchases, on='ItemId')"
      ]
    },
    {
      "cell_type": "code",
      "execution_count": null,
      "metadata": {
        "colab": {
          "background_save": true
        },
        "id": "7ORkxuIjAoUn"
      },
      "outputs": [],
      "source": [
        "feature_dict = {\n",
        "    \"item_id\": df_full[\"ItemId\"].values,\n",
        "    \"collection\": df_full[\"Collection_encoded\"].values,\n",
        "    \"gender\": df_full[\"Gender_encoded\"].values,\n",
        "    \"composition\": df_full[\"Composition_encoded\"].values,\n",
        "    \"item_embedding\" : df_full[[f'pc_desc{i}' for i in range(df_reduced_desc.shape[1]-1)]].values,\n",
        "    \"category_embedding\" : df_full[[f'pc_cat{i}' for i in range(df_reduced_cat.shape[1]-1)]].values,\n",
        "    \"user_id\": df_full['UserId'].values.reshape(-1,1),\n",
        "    \"interaction\" : df_full['Interaction'].values.reshape(-1,1)\n",
        "}\n"
      ]
    },
    {
      "cell_type": "code",
      "execution_count": null,
      "metadata": {
        "colab": {
          "background_save": true
        },
        "id": "CyNPvS5OAoUn"
      },
      "outputs": [],
      "source": [
        "data_tf = tf.data.Dataset.from_tensor_slices(feature_dict)\n",
        "\n",
        "candidates_tf = tf.data.Dataset.from_tensor_slices({\n",
        "    \"item_id\": full_items['ItemId'].values.reshape(-1,1),\n",
        "    \"item_embedding\" : full_items[[f'pc_desc{i}' for i in range(df_reduced_desc.shape[1]-1)]].values,\n",
        "    \"category_embedding\" : full_items[[f'pc_cat{i}' for i in range(df_reduced_cat.shape[1]-1)]].values,\n",
        "    \"collection\": full_items[\"Collection_encoded\"].values,\n",
        "    \"gender\": full_items[\"Gender_encoded\"].values,\n",
        "    \"composition\": full_items[\"Composition_encoded\"].values\n",
        "})\n",
        "candidates_ds = candidates_tf.batch(32)"
      ]
    },
    {
      "cell_type": "code",
      "execution_count": null,
      "metadata": {
        "colab": {
          "background_save": true
        },
        "id": "LuPEZbNnAoUn"
      },
      "outputs": [],
      "source": [
        "data_tf = data_tf.shuffle(buffer_size=1024, seed=999, reshuffle_each_iteration=True)\n",
        "\n",
        "full_size = len(data_tf)\n",
        "train_size = int(full_size * 0.7)\n",
        "val_size = int(full_size * 0.15)\n",
        "test_size = full_size - train_size - val_size\n",
        "\n",
        "train = data_tf.take(train_size)\n",
        "val = data_tf.skip(train_size).take(val_size)\n",
        "test = data_tf.skip(train_size + val_size)"
      ]
    },
    {
      "cell_type": "code",
      "execution_count": null,
      "metadata": {
        "colab": {
          "background_save": true
        },
        "id": "djP8ND03AoUn"
      },
      "outputs": [],
      "source": [
        "batch_size = 32\n",
        "train = train.shuffle(buffer_size=1024, seed = 999).batch(batch_size)\n",
        "test = test.batch(batch_size)\n",
        "val = val.batch(batch_size)"
      ]
    },
    {
      "cell_type": "code",
      "execution_count": null,
      "metadata": {
        "colab": {
          "background_save": true
        },
        "id": "JuWpXOokAoUo"
      },
      "outputs": [],
      "source": [
        "class CFRecommender(tfrs.Model):\n",
        "\n",
        "  def __init__(self, user_model, item_model, candidates):\n",
        "    super().__init__()\n",
        "    self.user_model = user_model\n",
        "    self.item_model = item_model\n",
        "    self.retrieval_task = tfrs.tasks.Retrieval(metrics=tfrs.metrics.FactorizedTopK(\n",
        "            candidates = candidates.map(self.item_model)))\n",
        "    self.rank_task = tfrs.tasks.Ranking(loss=tf.keras.losses.BinaryCrossentropy(from_logits=False),\n",
        "            metrics=[tf.keras.metrics.BinaryAccuracy()])\n",
        "\n",
        "  def compute_loss(self, features, training = False):\n",
        "    user_emb = self.user_model({\"user_id\": features['user_id']\n",
        "                                })\n",
        "    item_emb = self.item_model({\"item_embedding\":features['item_embedding'],\n",
        "                                \"category_embedding\":features['category_embedding'],\n",
        "                                \"gender\":features['gender'],\n",
        "                                \"collection\":features['collection'],\n",
        "                                \"composition\": features[\"composition\"],\n",
        "                                })\n",
        "    retrieval_loss = self.retrieval_task(user_emb, item_emb)\n",
        "    predictions = tf.reduce_sum(user_emb * item_emb, axis=1)\n",
        "    ranking_loss = self.rank_task( labels = features['interaction'], predictions = predictions)\n",
        "    return retrieval_loss + ranking_loss"
      ]
    },
    {
      "cell_type": "code",
      "execution_count": null,
      "metadata": {
        "colab": {
          "background_save": true
        },
        "id": "oMFDTA5_AoUo"
      },
      "outputs": [],
      "source": [
        "unique_user_ids = df_full['UserId'].unique().astype(str)\n",
        "unique_item_ids = df_full['ItemId'].unique().astype(str)\n",
        "embedding_dim = df_reduced_desc.shape[1] + df_reduced_cat.shape[1] - 2"
      ]
    },
    {
      "cell_type": "code",
      "execution_count": null,
      "metadata": {
        "colab": {
          "background_save": true
        },
        "id": "BhIi9KqmAoUo"
      },
      "outputs": [],
      "source": [
        "item_embedding_input = Input(shape=(df_reduced_desc.shape[1]-1,), name='item_embedding')\n",
        "category_embedding_input = Input(shape=(df_reduced_cat.shape[1]-1,), name='category_embedding')\n",
        "gender_input = Input(shape=(1,), name='gender')\n",
        "collection_input = Input(shape=(1,), name='collection')\n",
        "composition_input = Input(shape=(1,), name='composition')\n",
        "\n",
        "item_inputs =[item_embedding_input, category_embedding_input, gender_input, collection_input, composition_input]\n",
        "concatenated = Concatenate()(item_inputs)\n",
        "\n",
        "x = Dense(32, activation='relu')(concatenated)\n",
        "x = BatchNormalization()(x)\n",
        "x = Dropout(0.15)(x)\n",
        "x = Dense(32, activation='relu')(x)\n",
        "x = BatchNormalization()(x)\n",
        "x = Dropout(0.15)(x)\n",
        "\n",
        "item_model = Model(inputs=item_inputs, outputs=x)"
      ]
    },
    {
      "cell_type": "code",
      "execution_count": null,
      "metadata": {
        "colab": {
          "background_save": true
        },
        "id": "nAj00qRFAoUo"
      },
      "outputs": [],
      "source": [
        "user_id_input = Input(shape=(1,), name=\"user_id\", dtype=tf.int32)\n",
        "user_embedding = Embedding(input_dim=len(unique_user_ids), output_dim=embedding_dim, name=\"user_embedding\")(user_id_input)\n",
        "\n",
        "combined_input = Concatenate()([user_embedding])\n",
        "\n",
        "x = Dense(32, activation=\"relu\")(combined_input)\n",
        "x = BatchNormalization()(x)\n",
        "x = Dropout(0.15)(x)\n",
        "x = Dense(32, activation='relu')(x)\n",
        "x = BatchNormalization()(x)\n",
        "x = Dropout(0.15)(x)\n",
        "x = Flatten()(x)\n",
        "\n",
        "user_model = Model(inputs=[user_id_input], outputs=x)"
      ]
    },
    {
      "cell_type": "code",
      "execution_count": null,
      "metadata": {
        "colab": {
          "background_save": true
        },
        "id": "TnESbKfoAoUo"
      },
      "outputs": [],
      "source": [
        "early_stop = tf.keras.callbacks.EarlyStopping(monitor='val_loss',\n",
        "                                              patience=10,\n",
        "                                              mode='min',\n",
        "                                              start_from_epoch = 20,\n",
        "                                              restore_best_weights=True)"
      ]
    },
    {
      "cell_type": "code",
      "execution_count": null,
      "metadata": {
        "colab": {
          "background_save": true
        },
        "id": "nshZCf78AoUo"
      },
      "outputs": [],
      "source": [
        "initial_learning_rate = 0.01\n",
        "lr_schedule = tf.keras.optimizers.schedules.ExponentialDecay(\n",
        "    initial_learning_rate,\n",
        "    decay_steps=10000,\n",
        "    decay_rate=0.99,\n",
        "    staircase=True)\n",
        "\n",
        "optimizer = tf.keras.optimizers.Adam(learning_rate=lr_schedule)"
      ]
    },
    {
      "cell_type": "code",
      "execution_count": null,
      "metadata": {
        "colab": {
          "background_save": true
        },
        "id": "-ZpEnvucAoUo",
        "outputId": "adf2f2f3-99f0-4b57-e61a-1405513bec30"
      },
      "outputs": [
        {
          "name": "stdout",
          "output_type": "stream",
          "text": [
            "Epoch 1/100\n"
          ]
        },
        {
          "name": "stderr",
          "output_type": "stream",
          "text": [
            "/usr/local/lib/python3.10/dist-packages/keras/src/engine/functional.py:642: UserWarning: Input dict contained keys ['item_id'] which did not match any model input. They will be ignored by the model.\n",
            "  inputs = self._flatten_to_reference_inputs(inputs)\n"
          ]
        },
        {
          "name": "stdout",
          "output_type": "stream",
          "text": [
            "435/435 [==============================] - 99s 219ms/step - factorized_top_k/top_1_categorical_accuracy: 0.0000e+00 - factorized_top_k/top_5_categorical_accuracy: 0.0000e+00 - factorized_top_k/top_10_categorical_accuracy: 0.0000e+00 - factorized_top_k/top_50_categorical_accuracy: 2.8756e-04 - factorized_top_k/top_100_categorical_accuracy: 3.5945e-04 - binary_accuracy: 0.4938 - loss: 114.3872 - regularization_loss: 0.0000e+00 - total_loss: 114.3872 - val_factorized_top_k/top_1_categorical_accuracy: 0.0000e+00 - val_factorized_top_k/top_5_categorical_accuracy: 0.0000e+00 - val_factorized_top_k/top_10_categorical_accuracy: 0.0000e+00 - val_factorized_top_k/top_50_categorical_accuracy: 0.0000e+00 - val_factorized_top_k/top_100_categorical_accuracy: 0.0000e+00 - val_binary_accuracy: 0.8436 - val_loss: 5.5454 - val_regularization_loss: 0.0000e+00 - val_total_loss: 5.5454\n",
            "Epoch 2/100\n",
            "435/435 [==============================] - 95s 219ms/step - factorized_top_k/top_1_categorical_accuracy: 9.3458e-04 - factorized_top_k/top_5_categorical_accuracy: 0.0045 - factorized_top_k/top_10_categorical_accuracy: 0.0073 - factorized_top_k/top_50_categorical_accuracy: 0.0167 - factorized_top_k/top_100_categorical_accuracy: 0.0251 - binary_accuracy: 0.8231 - loss: 111.2446 - regularization_loss: 0.0000e+00 - total_loss: 111.2446 - val_factorized_top_k/top_1_categorical_accuracy: 0.0000e+00 - val_factorized_top_k/top_5_categorical_accuracy: 0.0000e+00 - val_factorized_top_k/top_10_categorical_accuracy: 0.0000e+00 - val_factorized_top_k/top_50_categorical_accuracy: 3.3557e-04 - val_factorized_top_k/top_100_categorical_accuracy: 0.0020 - val_binary_accuracy: 0.7067 - val_loss: 6.2934 - val_regularization_loss: 0.0000e+00 - val_total_loss: 6.2934\n",
            "Epoch 3/100\n",
            "435/435 [==============================] - 96s 222ms/step - factorized_top_k/top_1_categorical_accuracy: 0.0000e+00 - factorized_top_k/top_5_categorical_accuracy: 5.0324e-04 - factorized_top_k/top_10_categorical_accuracy: 0.0019 - factorized_top_k/top_50_categorical_accuracy: 0.0147 - factorized_top_k/top_100_categorical_accuracy: 0.3238 - binary_accuracy: 0.8224 - loss: 111.0921 - regularization_loss: 0.0000e+00 - total_loss: 111.0921 - val_factorized_top_k/top_1_categorical_accuracy: 0.0000e+00 - val_factorized_top_k/top_5_categorical_accuracy: 0.0000e+00 - val_factorized_top_k/top_10_categorical_accuracy: 0.0000e+00 - val_factorized_top_k/top_50_categorical_accuracy: 0.0000e+00 - val_factorized_top_k/top_100_categorical_accuracy: 0.0000e+00 - val_binary_accuracy: 0.8322 - val_loss: 6.1446 - val_regularization_loss: 0.0000e+00 - val_total_loss: 6.1446\n",
            "Epoch 4/100\n",
            "435/435 [==============================] - 93s 215ms/step - factorized_top_k/top_1_categorical_accuracy: 7.1891e-05 - factorized_top_k/top_5_categorical_accuracy: 0.0019 - factorized_top_k/top_10_categorical_accuracy: 0.0047 - factorized_top_k/top_50_categorical_accuracy: 0.0125 - factorized_top_k/top_100_categorical_accuracy: 0.0229 - binary_accuracy: 0.8239 - loss: 111.0596 - regularization_loss: 0.0000e+00 - total_loss: 111.0596 - val_factorized_top_k/top_1_categorical_accuracy: 0.0000e+00 - val_factorized_top_k/top_5_categorical_accuracy: 0.0000e+00 - val_factorized_top_k/top_10_categorical_accuracy: 0.0000e+00 - val_factorized_top_k/top_50_categorical_accuracy: 0.0000e+00 - val_factorized_top_k/top_100_categorical_accuracy: 0.0000e+00 - val_binary_accuracy: 0.8356 - val_loss: 6.1009 - val_regularization_loss: 0.0000e+00 - val_total_loss: 6.1009\n",
            "Epoch 5/100\n",
            "435/435 [==============================] - 96s 220ms/step - factorized_top_k/top_1_categorical_accuracy: 0.0063 - factorized_top_k/top_5_categorical_accuracy: 0.0116 - factorized_top_k/top_10_categorical_accuracy: 0.0147 - factorized_top_k/top_50_categorical_accuracy: 0.0375 - factorized_top_k/top_100_categorical_accuracy: 0.1415 - binary_accuracy: 0.8792 - loss: 110.9707 - regularization_loss: 0.0000e+00 - total_loss: 110.9707 - val_factorized_top_k/top_1_categorical_accuracy: 0.0000e+00 - val_factorized_top_k/top_5_categorical_accuracy: 0.0000e+00 - val_factorized_top_k/top_10_categorical_accuracy: 0.0000e+00 - val_factorized_top_k/top_50_categorical_accuracy: 0.0000e+00 - val_factorized_top_k/top_100_categorical_accuracy: 0.0000e+00 - val_binary_accuracy: 0.8268 - val_loss: 5.9191 - val_regularization_loss: 0.0000e+00 - val_total_loss: 5.9191\n",
            "Epoch 6/100\n",
            "435/435 [==============================] - 95s 219ms/step - factorized_top_k/top_1_categorical_accuracy: 0.0000e+00 - factorized_top_k/top_5_categorical_accuracy: 3.5945e-04 - factorized_top_k/top_10_categorical_accuracy: 7.9080e-04 - factorized_top_k/top_50_categorical_accuracy: 0.0123 - factorized_top_k/top_100_categorical_accuracy: 0.0239 - binary_accuracy: 0.9060 - loss: 110.9499 - regularization_loss: 0.0000e+00 - total_loss: 110.9499 - val_factorized_top_k/top_1_categorical_accuracy: 0.0000e+00 - val_factorized_top_k/top_5_categorical_accuracy: 0.0000e+00 - val_factorized_top_k/top_10_categorical_accuracy: 0.0000e+00 - val_factorized_top_k/top_50_categorical_accuracy: 3.3557e-04 - val_factorized_top_k/top_100_categorical_accuracy: 6.7114e-04 - val_binary_accuracy: 0.7517 - val_loss: 9.7392 - val_regularization_loss: 0.0000e+00 - val_total_loss: 9.7392\n",
            "Epoch 7/100\n",
            "435/435 [==============================] - 96s 221ms/step - factorized_top_k/top_1_categorical_accuracy: 0.0000e+00 - factorized_top_k/top_5_categorical_accuracy: 1.4378e-04 - factorized_top_k/top_10_categorical_accuracy: 5.0324e-04 - factorized_top_k/top_50_categorical_accuracy: 0.0045 - factorized_top_k/top_100_categorical_accuracy: 0.0100 - binary_accuracy: 0.9099 - loss: 110.9400 - regularization_loss: 0.0000e+00 - total_loss: 110.9400 - val_factorized_top_k/top_1_categorical_accuracy: 0.0000e+00 - val_factorized_top_k/top_5_categorical_accuracy: 0.0000e+00 - val_factorized_top_k/top_10_categorical_accuracy: 0.0000e+00 - val_factorized_top_k/top_50_categorical_accuracy: 0.0000e+00 - val_factorized_top_k/top_100_categorical_accuracy: 0.0000e+00 - val_binary_accuracy: 0.8107 - val_loss: 5.9070 - val_regularization_loss: 0.0000e+00 - val_total_loss: 5.9070\n",
            "Epoch 8/100\n",
            "435/435 [==============================] - 97s 223ms/step - factorized_top_k/top_1_categorical_accuracy: 0.0000e+00 - factorized_top_k/top_5_categorical_accuracy: 2.8756e-04 - factorized_top_k/top_10_categorical_accuracy: 8.6269e-04 - factorized_top_k/top_50_categorical_accuracy: 0.0055 - factorized_top_k/top_100_categorical_accuracy: 0.0110 - binary_accuracy: 0.9094 - loss: 110.9346 - regularization_loss: 0.0000e+00 - total_loss: 110.9346 - val_factorized_top_k/top_1_categorical_accuracy: 0.0000e+00 - val_factorized_top_k/top_5_categorical_accuracy: 3.3557e-04 - val_factorized_top_k/top_10_categorical_accuracy: 3.3557e-04 - val_factorized_top_k/top_50_categorical_accuracy: 0.0017 - val_factorized_top_k/top_100_categorical_accuracy: 0.0020 - val_binary_accuracy: 0.7309 - val_loss: 9.9567 - val_regularization_loss: 0.0000e+00 - val_total_loss: 9.9567\n",
            "Epoch 9/100\n",
            "435/435 [==============================] - 96s 221ms/step - factorized_top_k/top_1_categorical_accuracy: 7.1891e-05 - factorized_top_k/top_5_categorical_accuracy: 6.4702e-04 - factorized_top_k/top_10_categorical_accuracy: 0.0021 - factorized_top_k/top_50_categorical_accuracy: 0.0108 - factorized_top_k/top_100_categorical_accuracy: 0.2393 - binary_accuracy: 0.9114 - loss: 110.9228 - regularization_loss: 0.0000e+00 - total_loss: 110.9228 - val_factorized_top_k/top_1_categorical_accuracy: 0.0000e+00 - val_factorized_top_k/top_5_categorical_accuracy: 0.0000e+00 - val_factorized_top_k/top_10_categorical_accuracy: 0.0000e+00 - val_factorized_top_k/top_50_categorical_accuracy: 3.3557e-04 - val_factorized_top_k/top_100_categorical_accuracy: 0.0010 - val_binary_accuracy: 0.8027 - val_loss: 9.7743 - val_regularization_loss: 0.0000e+00 - val_total_loss: 9.7743\n",
            "Epoch 10/100\n",
            "435/435 [==============================] - 97s 224ms/step - factorized_top_k/top_1_categorical_accuracy: 7.1891e-05 - factorized_top_k/top_5_categorical_accuracy: 0.0012 - factorized_top_k/top_10_categorical_accuracy: 0.0024 - factorized_top_k/top_50_categorical_accuracy: 0.0178 - factorized_top_k/top_100_categorical_accuracy: 0.1835 - binary_accuracy: 0.9162 - loss: 110.8982 - regularization_loss: 0.0000e+00 - total_loss: 110.8982 - val_factorized_top_k/top_1_categorical_accuracy: 0.0000e+00 - val_factorized_top_k/top_5_categorical_accuracy: 0.0000e+00 - val_factorized_top_k/top_10_categorical_accuracy: 0.0000e+00 - val_factorized_top_k/top_50_categorical_accuracy: 3.3557e-04 - val_factorized_top_k/top_100_categorical_accuracy: 0.7597 - val_binary_accuracy: 0.7977 - val_loss: 6.6932 - val_regularization_loss: 0.0000e+00 - val_total_loss: 6.6932\n",
            "Epoch 11/100\n",
            "435/435 [==============================] - 97s 222ms/step - factorized_top_k/top_1_categorical_accuracy: 1.4378e-04 - factorized_top_k/top_5_categorical_accuracy: 0.0012 - factorized_top_k/top_10_categorical_accuracy: 0.0048 - factorized_top_k/top_50_categorical_accuracy: 0.0737 - factorized_top_k/top_100_categorical_accuracy: 0.3052 - binary_accuracy: 0.9170 - loss: 110.8181 - regularization_loss: 0.0000e+00 - total_loss: 110.8181 - val_factorized_top_k/top_1_categorical_accuracy: 0.0000e+00 - val_factorized_top_k/top_5_categorical_accuracy: 0.0000e+00 - val_factorized_top_k/top_10_categorical_accuracy: 0.0000e+00 - val_factorized_top_k/top_50_categorical_accuracy: 3.3557e-04 - val_factorized_top_k/top_100_categorical_accuracy: 3.3557e-04 - val_binary_accuracy: 0.7534 - val_loss: 5.8421 - val_regularization_loss: 0.0000e+00 - val_total_loss: 5.8421\n",
            "Epoch 12/100\n",
            "435/435 [==============================] - 97s 223ms/step - factorized_top_k/top_1_categorical_accuracy: 0.0221 - factorized_top_k/top_5_categorical_accuracy: 0.1914 - factorized_top_k/top_10_categorical_accuracy: 0.2260 - factorized_top_k/top_50_categorical_accuracy: 0.3935 - factorized_top_k/top_100_categorical_accuracy: 0.4280 - binary_accuracy: 0.9193 - loss: 110.7548 - regularization_loss: 0.0000e+00 - total_loss: 110.7548 - val_factorized_top_k/top_1_categorical_accuracy: 0.0000e+00 - val_factorized_top_k/top_5_categorical_accuracy: 3.3557e-04 - val_factorized_top_k/top_10_categorical_accuracy: 3.3557e-04 - val_factorized_top_k/top_50_categorical_accuracy: 0.6718 - val_factorized_top_k/top_100_categorical_accuracy: 0.7144 - val_binary_accuracy: 0.7879 - val_loss: 5.6683 - val_regularization_loss: 0.0000e+00 - val_total_loss: 5.6683\n",
            "Epoch 13/100\n",
            "435/435 [==============================] - 98s 225ms/step - factorized_top_k/top_1_categorical_accuracy: 0.0014 - factorized_top_k/top_5_categorical_accuracy: 0.0037 - factorized_top_k/top_10_categorical_accuracy: 0.0143 - factorized_top_k/top_50_categorical_accuracy: 0.2965 - factorized_top_k/top_100_categorical_accuracy: 0.3628 - binary_accuracy: 0.9062 - loss: 110.7460 - regularization_loss: 0.0000e+00 - total_loss: 110.7460 - val_factorized_top_k/top_1_categorical_accuracy: 0.0000e+00 - val_factorized_top_k/top_5_categorical_accuracy: 0.0000e+00 - val_factorized_top_k/top_10_categorical_accuracy: 0.0000e+00 - val_factorized_top_k/top_50_categorical_accuracy: 0.0013 - val_factorized_top_k/top_100_categorical_accuracy: 0.0037 - val_binary_accuracy: 0.8594 - val_loss: 5.8536 - val_regularization_loss: 0.0000e+00 - val_total_loss: 5.8536\n",
            "Epoch 14/100\n",
            "435/435 [==============================] - 97s 222ms/step - factorized_top_k/top_1_categorical_accuracy: 0.0012 - factorized_top_k/top_5_categorical_accuracy: 0.0030 - factorized_top_k/top_10_categorical_accuracy: 0.0054 - factorized_top_k/top_50_categorical_accuracy: 0.0705 - factorized_top_k/top_100_categorical_accuracy: 0.1170 - binary_accuracy: 0.9156 - loss: 110.6544 - regularization_loss: 0.0000e+00 - total_loss: 110.6544 - val_factorized_top_k/top_1_categorical_accuracy: 0.0000e+00 - val_factorized_top_k/top_5_categorical_accuracy: 3.3557e-04 - val_factorized_top_k/top_10_categorical_accuracy: 3.3557e-04 - val_factorized_top_k/top_50_categorical_accuracy: 0.3923 - val_factorized_top_k/top_100_categorical_accuracy: 0.4879 - val_binary_accuracy: 0.8104 - val_loss: 5.6656 - val_regularization_loss: 0.0000e+00 - val_total_loss: 5.6656\n",
            "Epoch 15/100\n",
            "435/435 [==============================] - 96s 220ms/step - factorized_top_k/top_1_categorical_accuracy: 6.4702e-04 - factorized_top_k/top_5_categorical_accuracy: 0.0029 - factorized_top_k/top_10_categorical_accuracy: 0.0404 - factorized_top_k/top_50_categorical_accuracy: 0.1735 - factorized_top_k/top_100_categorical_accuracy: 0.3160 - binary_accuracy: 0.9160 - loss: 110.5222 - regularization_loss: 0.0000e+00 - total_loss: 110.5222 - val_factorized_top_k/top_1_categorical_accuracy: 0.0000e+00 - val_factorized_top_k/top_5_categorical_accuracy: 0.0000e+00 - val_factorized_top_k/top_10_categorical_accuracy: 0.0000e+00 - val_factorized_top_k/top_50_categorical_accuracy: 6.7114e-04 - val_factorized_top_k/top_100_categorical_accuracy: 0.5624 - val_binary_accuracy: 0.8040 - val_loss: 6.0276 - val_regularization_loss: 0.0000e+00 - val_total_loss: 6.0276\n",
            "Epoch 16/100\n",
            "435/435 [==============================] - 95s 219ms/step - factorized_top_k/top_1_categorical_accuracy: 4.3134e-04 - factorized_top_k/top_5_categorical_accuracy: 0.0081 - factorized_top_k/top_10_categorical_accuracy: 0.0271 - factorized_top_k/top_50_categorical_accuracy: 0.1086 - factorized_top_k/top_100_categorical_accuracy: 0.3156 - binary_accuracy: 0.9137 - loss: 110.4297 - regularization_loss: 0.0000e+00 - total_loss: 110.4297 - val_factorized_top_k/top_1_categorical_accuracy: 0.0000e+00 - val_factorized_top_k/top_5_categorical_accuracy: 0.0000e+00 - val_factorized_top_k/top_10_categorical_accuracy: 0.0000e+00 - val_factorized_top_k/top_50_categorical_accuracy: 0.7446 - val_factorized_top_k/top_100_categorical_accuracy: 0.8044 - val_binary_accuracy: 0.8446 - val_loss: 5.5710 - val_regularization_loss: 0.0000e+00 - val_total_loss: 5.5710\n",
            "Epoch 17/100\n",
            "435/435 [==============================] - 96s 220ms/step - factorized_top_k/top_1_categorical_accuracy: 0.0249 - factorized_top_k/top_5_categorical_accuracy: 0.0282 - factorized_top_k/top_10_categorical_accuracy: 0.0361 - factorized_top_k/top_50_categorical_accuracy: 0.1553 - factorized_top_k/top_100_categorical_accuracy: 0.2114 - binary_accuracy: 0.8651 - loss: 110.4055 - regularization_loss: 0.0000e+00 - total_loss: 110.4055 - val_factorized_top_k/top_1_categorical_accuracy: 0.6171 - val_factorized_top_k/top_5_categorical_accuracy: 0.6218 - val_factorized_top_k/top_10_categorical_accuracy: 0.6242 - val_factorized_top_k/top_50_categorical_accuracy: 0.6430 - val_factorized_top_k/top_100_categorical_accuracy: 0.7349 - val_binary_accuracy: 0.8591 - val_loss: 5.8219 - val_regularization_loss: 0.0000e+00 - val_total_loss: 5.8219\n",
            "Epoch 18/100\n",
            "435/435 [==============================] - 98s 225ms/step - factorized_top_k/top_1_categorical_accuracy: 0.1237 - factorized_top_k/top_5_categorical_accuracy: 0.1297 - factorized_top_k/top_10_categorical_accuracy: 0.1387 - factorized_top_k/top_50_categorical_accuracy: 0.1806 - factorized_top_k/top_100_categorical_accuracy: 0.2029 - binary_accuracy: 0.9145 - loss: 110.1136 - regularization_loss: 0.0000e+00 - total_loss: 110.1136 - val_factorized_top_k/top_1_categorical_accuracy: 0.4198 - val_factorized_top_k/top_5_categorical_accuracy: 0.4201 - val_factorized_top_k/top_10_categorical_accuracy: 0.4309 - val_factorized_top_k/top_50_categorical_accuracy: 0.4805 - val_factorized_top_k/top_100_categorical_accuracy: 0.5537 - val_binary_accuracy: 0.8507 - val_loss: 6.1087 - val_regularization_loss: 0.0000e+00 - val_total_loss: 6.1087\n",
            "Epoch 19/100\n",
            "435/435 [==============================] - 97s 224ms/step - factorized_top_k/top_1_categorical_accuracy: 0.1824 - factorized_top_k/top_5_categorical_accuracy: 0.1851 - factorized_top_k/top_10_categorical_accuracy: 0.1993 - factorized_top_k/top_50_categorical_accuracy: 0.2548 - factorized_top_k/top_100_categorical_accuracy: 0.3510 - binary_accuracy: 0.9171 - loss: 109.9954 - regularization_loss: 0.0000e+00 - total_loss: 109.9954 - val_factorized_top_k/top_1_categorical_accuracy: 0.3966 - val_factorized_top_k/top_5_categorical_accuracy: 0.3973 - val_factorized_top_k/top_10_categorical_accuracy: 0.3997 - val_factorized_top_k/top_50_categorical_accuracy: 0.4094 - val_factorized_top_k/top_100_categorical_accuracy: 0.4218 - val_binary_accuracy: 0.8419 - val_loss: 5.7069 - val_regularization_loss: 0.0000e+00 - val_total_loss: 5.7069\n",
            "Epoch 20/100\n",
            "435/435 [==============================] - 98s 225ms/step - factorized_top_k/top_1_categorical_accuracy: 0.1956 - factorized_top_k/top_5_categorical_accuracy: 0.1979 - factorized_top_k/top_10_categorical_accuracy: 0.1999 - factorized_top_k/top_50_categorical_accuracy: 0.2211 - factorized_top_k/top_100_categorical_accuracy: 0.2660 - binary_accuracy: 0.9125 - loss: 109.7674 - regularization_loss: 0.0000e+00 - total_loss: 109.7674 - val_factorized_top_k/top_1_categorical_accuracy: 0.5215 - val_factorized_top_k/top_5_categorical_accuracy: 0.5225 - val_factorized_top_k/top_10_categorical_accuracy: 0.5232 - val_factorized_top_k/top_50_categorical_accuracy: 0.5295 - val_factorized_top_k/top_100_categorical_accuracy: 0.5339 - val_binary_accuracy: 0.8148 - val_loss: 9.4903 - val_regularization_loss: 0.0000e+00 - val_total_loss: 9.4903\n",
            "Epoch 21/100\n",
            "435/435 [==============================] - 96s 221ms/step - factorized_top_k/top_1_categorical_accuracy: 0.3011 - factorized_top_k/top_5_categorical_accuracy: 0.3045 - factorized_top_k/top_10_categorical_accuracy: 0.3073 - factorized_top_k/top_50_categorical_accuracy: 0.3277 - factorized_top_k/top_100_categorical_accuracy: 0.3494 - binary_accuracy: 0.9086 - loss: 109.5810 - regularization_loss: 0.0000e+00 - total_loss: 109.5810 - val_factorized_top_k/top_1_categorical_accuracy: 0.5732 - val_factorized_top_k/top_5_categorical_accuracy: 0.5805 - val_factorized_top_k/top_10_categorical_accuracy: 0.5829 - val_factorized_top_k/top_50_categorical_accuracy: 0.5852 - val_factorized_top_k/top_100_categorical_accuracy: 0.5879 - val_binary_accuracy: 0.8034 - val_loss: 6.1566 - val_regularization_loss: 0.0000e+00 - val_total_loss: 6.1566\n",
            "Epoch 22/100\n",
            "435/435 [==============================] - 97s 224ms/step - factorized_top_k/top_1_categorical_accuracy: 0.2092 - factorized_top_k/top_5_categorical_accuracy: 0.2172 - factorized_top_k/top_10_categorical_accuracy: 0.2231 - factorized_top_k/top_50_categorical_accuracy: 0.2400 - factorized_top_k/top_100_categorical_accuracy: 0.2592 - binary_accuracy: 0.9094 - loss: 109.3419 - regularization_loss: 0.0000e+00 - total_loss: 109.3419 - val_factorized_top_k/top_1_categorical_accuracy: 0.5023 - val_factorized_top_k/top_5_categorical_accuracy: 0.5023 - val_factorized_top_k/top_10_categorical_accuracy: 0.5238 - val_factorized_top_k/top_50_categorical_accuracy: 0.5497 - val_factorized_top_k/top_100_categorical_accuracy: 0.5839 - val_binary_accuracy: 0.8279 - val_loss: 5.6626 - val_regularization_loss: 0.0000e+00 - val_total_loss: 5.6626\n",
            "Epoch 23/100\n",
            "435/435 [==============================] - 99s 228ms/step - factorized_top_k/top_1_categorical_accuracy: 0.1641 - factorized_top_k/top_5_categorical_accuracy: 0.1675 - factorized_top_k/top_10_categorical_accuracy: 0.1712 - factorized_top_k/top_50_categorical_accuracy: 0.1950 - factorized_top_k/top_100_categorical_accuracy: 0.2269 - binary_accuracy: 0.9068 - loss: 109.1072 - regularization_loss: 0.0000e+00 - total_loss: 109.1072 - val_factorized_top_k/top_1_categorical_accuracy: 0.5487 - val_factorized_top_k/top_5_categorical_accuracy: 0.5487 - val_factorized_top_k/top_10_categorical_accuracy: 0.5490 - val_factorized_top_k/top_50_categorical_accuracy: 0.5503 - val_factorized_top_k/top_100_categorical_accuracy: 0.5537 - val_binary_accuracy: 0.8419 - val_loss: 5.7087 - val_regularization_loss: 0.0000e+00 - val_total_loss: 5.7087\n",
            "Epoch 24/100\n",
            "435/435 [==============================] - 98s 226ms/step - factorized_top_k/top_1_categorical_accuracy: 0.1921 - factorized_top_k/top_5_categorical_accuracy: 0.1960 - factorized_top_k/top_10_categorical_accuracy: 0.2019 - factorized_top_k/top_50_categorical_accuracy: 0.2198 - factorized_top_k/top_100_categorical_accuracy: 0.2398 - binary_accuracy: 0.8987 - loss: 108.7850 - regularization_loss: 0.0000e+00 - total_loss: 108.7850 - val_factorized_top_k/top_1_categorical_accuracy: 0.5973 - val_factorized_top_k/top_5_categorical_accuracy: 0.6060 - val_factorized_top_k/top_10_categorical_accuracy: 0.6077 - val_factorized_top_k/top_50_categorical_accuracy: 0.6168 - val_factorized_top_k/top_100_categorical_accuracy: 0.6232 - val_binary_accuracy: 0.8285 - val_loss: 6.2192 - val_regularization_loss: 0.0000e+00 - val_total_loss: 6.2192\n",
            "Epoch 25/100\n",
            "435/435 [==============================] - 99s 227ms/step - factorized_top_k/top_1_categorical_accuracy: 0.1782 - factorized_top_k/top_5_categorical_accuracy: 0.1820 - factorized_top_k/top_10_categorical_accuracy: 0.1855 - factorized_top_k/top_50_categorical_accuracy: 0.2119 - factorized_top_k/top_100_categorical_accuracy: 0.2336 - binary_accuracy: 0.8801 - loss: 108.5799 - regularization_loss: 0.0000e+00 - total_loss: 108.5799 - val_factorized_top_k/top_1_categorical_accuracy: 0.4856 - val_factorized_top_k/top_5_categorical_accuracy: 0.4859 - val_factorized_top_k/top_10_categorical_accuracy: 0.4859 - val_factorized_top_k/top_50_categorical_accuracy: 0.4862 - val_factorized_top_k/top_100_categorical_accuracy: 0.4862 - val_binary_accuracy: 0.8604 - val_loss: 6.6987 - val_regularization_loss: 0.0000e+00 - val_total_loss: 6.6987\n",
            "Epoch 26/100\n",
            "435/435 [==============================] - 98s 226ms/step - factorized_top_k/top_1_categorical_accuracy: 0.1504 - factorized_top_k/top_5_categorical_accuracy: 0.1536 - factorized_top_k/top_10_categorical_accuracy: 0.1556 - factorized_top_k/top_50_categorical_accuracy: 0.1758 - factorized_top_k/top_100_categorical_accuracy: 0.1966 - binary_accuracy: 0.8962 - loss: 108.9519 - regularization_loss: 0.0000e+00 - total_loss: 108.9519 - val_factorized_top_k/top_1_categorical_accuracy: 0.5956 - val_factorized_top_k/top_5_categorical_accuracy: 0.5960 - val_factorized_top_k/top_10_categorical_accuracy: 0.5966 - val_factorized_top_k/top_50_categorical_accuracy: 0.5980 - val_factorized_top_k/top_100_categorical_accuracy: 0.5983 - val_binary_accuracy: 0.8483 - val_loss: 5.6464 - val_regularization_loss: 0.0000e+00 - val_total_loss: 5.6464\n",
            "Epoch 27/100\n",
            "435/435 [==============================] - 99s 227ms/step - factorized_top_k/top_1_categorical_accuracy: 0.2945 - factorized_top_k/top_5_categorical_accuracy: 0.2980 - factorized_top_k/top_10_categorical_accuracy: 0.3024 - factorized_top_k/top_50_categorical_accuracy: 0.3226 - factorized_top_k/top_100_categorical_accuracy: 0.3579 - binary_accuracy: 0.9027 - loss: 109.6213 - regularization_loss: 0.0000e+00 - total_loss: 109.6213 - val_factorized_top_k/top_1_categorical_accuracy: 0.4886 - val_factorized_top_k/top_5_categorical_accuracy: 0.4933 - val_factorized_top_k/top_10_categorical_accuracy: 0.4956 - val_factorized_top_k/top_50_categorical_accuracy: 0.4987 - val_factorized_top_k/top_100_categorical_accuracy: 0.5007 - val_binary_accuracy: 0.8248 - val_loss: 13.2840 - val_regularization_loss: 0.0000e+00 - val_total_loss: 13.2840\n",
            "Epoch 28/100\n",
            "435/435 [==============================] - 98s 226ms/step - factorized_top_k/top_1_categorical_accuracy: 0.3012 - factorized_top_k/top_5_categorical_accuracy: 0.3093 - factorized_top_k/top_10_categorical_accuracy: 0.3152 - factorized_top_k/top_50_categorical_accuracy: 0.3349 - factorized_top_k/top_100_categorical_accuracy: 0.3577 - binary_accuracy: 0.9058 - loss: 108.2442 - regularization_loss: 0.0000e+00 - total_loss: 108.2442 - val_factorized_top_k/top_1_categorical_accuracy: 0.4013 - val_factorized_top_k/top_5_categorical_accuracy: 0.4020 - val_factorized_top_k/top_10_categorical_accuracy: 0.4027 - val_factorized_top_k/top_50_categorical_accuracy: 0.4030 - val_factorized_top_k/top_100_categorical_accuracy: 0.4168 - val_binary_accuracy: 0.8245 - val_loss: 5.6681 - val_regularization_loss: 0.0000e+00 - val_total_loss: 5.6681\n",
            "Epoch 29/100\n",
            "435/435 [==============================] - 100s 230ms/step - factorized_top_k/top_1_categorical_accuracy: 0.1750 - factorized_top_k/top_5_categorical_accuracy: 0.1794 - factorized_top_k/top_10_categorical_accuracy: 0.1832 - factorized_top_k/top_50_categorical_accuracy: 0.2040 - factorized_top_k/top_100_categorical_accuracy: 0.2377 - binary_accuracy: 0.8984 - loss: 107.9205 - regularization_loss: 0.0000e+00 - total_loss: 107.9205 - val_factorized_top_k/top_1_categorical_accuracy: 0.4698 - val_factorized_top_k/top_5_categorical_accuracy: 0.4708 - val_factorized_top_k/top_10_categorical_accuracy: 0.4715 - val_factorized_top_k/top_50_categorical_accuracy: 0.4735 - val_factorized_top_k/top_100_categorical_accuracy: 0.4795 - val_binary_accuracy: 0.5906 - val_loss: 6.4410 - val_regularization_loss: 0.0000e+00 - val_total_loss: 6.4410\n",
            "Epoch 30/100\n",
            "435/435 [==============================] - 98s 226ms/step - factorized_top_k/top_1_categorical_accuracy: 0.1574 - factorized_top_k/top_5_categorical_accuracy: 0.1610 - factorized_top_k/top_10_categorical_accuracy: 0.1635 - factorized_top_k/top_50_categorical_accuracy: 0.1840 - factorized_top_k/top_100_categorical_accuracy: 0.2078 - binary_accuracy: 0.8835 - loss: 108.5710 - regularization_loss: 0.0000e+00 - total_loss: 108.5710 - val_factorized_top_k/top_1_categorical_accuracy: 0.4292 - val_factorized_top_k/top_5_categorical_accuracy: 0.4292 - val_factorized_top_k/top_10_categorical_accuracy: 0.4299 - val_factorized_top_k/top_50_categorical_accuracy: 0.4302 - val_factorized_top_k/top_100_categorical_accuracy: 0.4326 - val_binary_accuracy: 0.8352 - val_loss: 9.5772 - val_regularization_loss: 0.0000e+00 - val_total_loss: 9.5772\n",
            "Epoch 31/100\n",
            "435/435 [==============================] - 97s 224ms/step - factorized_top_k/top_1_categorical_accuracy: 0.1807 - factorized_top_k/top_5_categorical_accuracy: 0.1835 - factorized_top_k/top_10_categorical_accuracy: 0.1859 - factorized_top_k/top_50_categorical_accuracy: 0.2006 - factorized_top_k/top_100_categorical_accuracy: 0.2249 - binary_accuracy: 0.8999 - loss: 107.3135 - regularization_loss: 0.0000e+00 - total_loss: 107.3135 - val_factorized_top_k/top_1_categorical_accuracy: 0.4634 - val_factorized_top_k/top_5_categorical_accuracy: 0.4634 - val_factorized_top_k/top_10_categorical_accuracy: 0.4638 - val_factorized_top_k/top_50_categorical_accuracy: 0.4681 - val_factorized_top_k/top_100_categorical_accuracy: 0.4695 - val_binary_accuracy: 0.8510 - val_loss: 5.7278 - val_regularization_loss: 0.0000e+00 - val_total_loss: 5.7278\n",
            "Epoch 32/100\n",
            "435/435 [==============================] - 100s 229ms/step - factorized_top_k/top_1_categorical_accuracy: 0.1224 - factorized_top_k/top_5_categorical_accuracy: 0.1294 - factorized_top_k/top_10_categorical_accuracy: 0.1368 - factorized_top_k/top_50_categorical_accuracy: 0.1680 - factorized_top_k/top_100_categorical_accuracy: 0.2024 - binary_accuracy: 0.8408 - loss: 108.5604 - regularization_loss: 0.0000e+00 - total_loss: 108.5604 - val_factorized_top_k/top_1_categorical_accuracy: 0.4953 - val_factorized_top_k/top_5_categorical_accuracy: 0.4956 - val_factorized_top_k/top_10_categorical_accuracy: 0.4956 - val_factorized_top_k/top_50_categorical_accuracy: 0.5178 - val_factorized_top_k/top_100_categorical_accuracy: 0.5279 - val_binary_accuracy: 0.8564 - val_loss: 5.6746 - val_regularization_loss: 0.0000e+00 - val_total_loss: 5.6746\n",
            "Epoch 33/100\n",
            "435/435 [==============================] - 98s 226ms/step - factorized_top_k/top_1_categorical_accuracy: 0.2045 - factorized_top_k/top_5_categorical_accuracy: 0.2079 - factorized_top_k/top_10_categorical_accuracy: 0.2111 - factorized_top_k/top_50_categorical_accuracy: 0.2433 - factorized_top_k/top_100_categorical_accuracy: 0.2883 - binary_accuracy: 0.8953 - loss: 107.3108 - regularization_loss: 0.0000e+00 - total_loss: 107.3108 - val_factorized_top_k/top_1_categorical_accuracy: 0.4477 - val_factorized_top_k/top_5_categorical_accuracy: 0.4477 - val_factorized_top_k/top_10_categorical_accuracy: 0.4477 - val_factorized_top_k/top_50_categorical_accuracy: 0.4477 - val_factorized_top_k/top_100_categorical_accuracy: 0.4490 - val_binary_accuracy: 0.8443 - val_loss: 9.4392 - val_regularization_loss: 0.0000e+00 - val_total_loss: 9.4392\n",
            "Epoch 34/100\n",
            "435/435 [==============================] - 98s 225ms/step - factorized_top_k/top_1_categorical_accuracy: 0.1364 - factorized_top_k/top_5_categorical_accuracy: 0.1405 - factorized_top_k/top_10_categorical_accuracy: 0.1441 - factorized_top_k/top_50_categorical_accuracy: 0.1684 - factorized_top_k/top_100_categorical_accuracy: 0.1976 - binary_accuracy: 0.8982 - loss: 106.9989 - regularization_loss: 0.0000e+00 - total_loss: 106.9989 - val_factorized_top_k/top_1_categorical_accuracy: 0.4738 - val_factorized_top_k/top_5_categorical_accuracy: 0.4738 - val_factorized_top_k/top_10_categorical_accuracy: 0.4748 - val_factorized_top_k/top_50_categorical_accuracy: 0.4762 - val_factorized_top_k/top_100_categorical_accuracy: 0.5188 - val_binary_accuracy: 0.8534 - val_loss: 5.7249 - val_regularization_loss: 0.0000e+00 - val_total_loss: 5.7249\n",
            "Epoch 35/100\n",
            "435/435 [==============================] - 98s 226ms/step - factorized_top_k/top_1_categorical_accuracy: 0.2289 - factorized_top_k/top_5_categorical_accuracy: 0.2385 - factorized_top_k/top_10_categorical_accuracy: 0.2459 - factorized_top_k/top_50_categorical_accuracy: 0.2776 - factorized_top_k/top_100_categorical_accuracy: 0.3171 - binary_accuracy: 0.9012 - loss: 106.9486 - regularization_loss: 0.0000e+00 - total_loss: 106.9486 - val_factorized_top_k/top_1_categorical_accuracy: 0.4198 - val_factorized_top_k/top_5_categorical_accuracy: 0.4205 - val_factorized_top_k/top_10_categorical_accuracy: 0.4215 - val_factorized_top_k/top_50_categorical_accuracy: 0.4319 - val_factorized_top_k/top_100_categorical_accuracy: 0.4433 - val_binary_accuracy: 0.8181 - val_loss: 5.5452 - val_regularization_loss: 0.0000e+00 - val_total_loss: 5.5452\n",
            "Epoch 36/100\n",
            "435/435 [==============================] - 99s 229ms/step - factorized_top_k/top_1_categorical_accuracy: 0.1825 - factorized_top_k/top_5_categorical_accuracy: 0.1860 - factorized_top_k/top_10_categorical_accuracy: 0.1896 - factorized_top_k/top_50_categorical_accuracy: 0.2232 - factorized_top_k/top_100_categorical_accuracy: 0.2642 - binary_accuracy: 0.9014 - loss: 106.7505 - regularization_loss: 0.0000e+00 - total_loss: 106.7505 - val_factorized_top_k/top_1_categorical_accuracy: 0.4060 - val_factorized_top_k/top_5_categorical_accuracy: 0.4131 - val_factorized_top_k/top_10_categorical_accuracy: 0.4151 - val_factorized_top_k/top_50_categorical_accuracy: 0.4272 - val_factorized_top_k/top_100_categorical_accuracy: 0.4282 - val_binary_accuracy: 0.8419 - val_loss: 5.7707 - val_regularization_loss: 0.0000e+00 - val_total_loss: 5.7707\n",
            "Epoch 37/100\n",
            "435/435 [==============================] - 99s 227ms/step - factorized_top_k/top_1_categorical_accuracy: 0.1366 - factorized_top_k/top_5_categorical_accuracy: 0.1412 - factorized_top_k/top_10_categorical_accuracy: 0.1466 - factorized_top_k/top_50_categorical_accuracy: 0.1886 - factorized_top_k/top_100_categorical_accuracy: 0.2121 - binary_accuracy: 0.8890 - loss: 109.5774 - regularization_loss: 0.0000e+00 - total_loss: 109.5774 - val_factorized_top_k/top_1_categorical_accuracy: 0.4815 - val_factorized_top_k/top_5_categorical_accuracy: 0.4815 - val_factorized_top_k/top_10_categorical_accuracy: 0.4819 - val_factorized_top_k/top_50_categorical_accuracy: 0.4822 - val_factorized_top_k/top_100_categorical_accuracy: 0.4832 - val_binary_accuracy: 0.8198 - val_loss: 5.9916 - val_regularization_loss: 0.0000e+00 - val_total_loss: 5.9916\n",
            "Epoch 38/100\n",
            "435/435 [==============================] - 100s 229ms/step - factorized_top_k/top_1_categorical_accuracy: 0.1806 - factorized_top_k/top_5_categorical_accuracy: 0.1852 - factorized_top_k/top_10_categorical_accuracy: 0.1892 - factorized_top_k/top_50_categorical_accuracy: 0.2109 - factorized_top_k/top_100_categorical_accuracy: 0.2405 - binary_accuracy: 0.9011 - loss: 107.2299 - regularization_loss: 0.0000e+00 - total_loss: 107.2299 - val_factorized_top_k/top_1_categorical_accuracy: 0.4530 - val_factorized_top_k/top_5_categorical_accuracy: 0.4530 - val_factorized_top_k/top_10_categorical_accuracy: 0.4695 - val_factorized_top_k/top_50_categorical_accuracy: 0.4997 - val_factorized_top_k/top_100_categorical_accuracy: 0.5064 - val_binary_accuracy: 0.8409 - val_loss: 5.5452 - val_regularization_loss: 0.0000e+00 - val_total_loss: 5.5452\n",
            "Epoch 39/100\n",
            "435/435 [==============================] - 99s 229ms/step - factorized_top_k/top_1_categorical_accuracy: 0.0289 - factorized_top_k/top_5_categorical_accuracy: 0.0313 - factorized_top_k/top_10_categorical_accuracy: 0.0334 - factorized_top_k/top_50_categorical_accuracy: 0.0643 - factorized_top_k/top_100_categorical_accuracy: 0.0833 - binary_accuracy: 0.8827 - loss: 107.4385 - regularization_loss: 0.0000e+00 - total_loss: 107.4385 - val_factorized_top_k/top_1_categorical_accuracy: 0.0000e+00 - val_factorized_top_k/top_5_categorical_accuracy: 0.0000e+00 - val_factorized_top_k/top_10_categorical_accuracy: 0.0000e+00 - val_factorized_top_k/top_50_categorical_accuracy: 0.0000e+00 - val_factorized_top_k/top_100_categorical_accuracy: 0.0000e+00 - val_binary_accuracy: 0.8332 - val_loss: 5.9602 - val_regularization_loss: 0.0000e+00 - val_total_loss: 5.9602\n",
            "Epoch 40/100\n",
            "435/435 [==============================] - 100s 231ms/step - factorized_top_k/top_1_categorical_accuracy: 0.0088 - factorized_top_k/top_5_categorical_accuracy: 0.0173 - factorized_top_k/top_10_categorical_accuracy: 0.0229 - factorized_top_k/top_50_categorical_accuracy: 0.0488 - factorized_top_k/top_100_categorical_accuracy: 0.0873 - binary_accuracy: 0.9029 - loss: 107.0391 - regularization_loss: 0.0000e+00 - total_loss: 107.0391 - val_factorized_top_k/top_1_categorical_accuracy: 0.0000e+00 - val_factorized_top_k/top_5_categorical_accuracy: 0.0000e+00 - val_factorized_top_k/top_10_categorical_accuracy: 0.0000e+00 - val_factorized_top_k/top_50_categorical_accuracy: 3.3557e-04 - val_factorized_top_k/top_100_categorical_accuracy: 0.0010 - val_binary_accuracy: 0.8057 - val_loss: 6.2908 - val_regularization_loss: 0.0000e+00 - val_total_loss: 6.2908\n",
            "Epoch 41/100\n",
            "435/435 [==============================] - 101s 232ms/step - factorized_top_k/top_1_categorical_accuracy: 0.1137 - factorized_top_k/top_5_categorical_accuracy: 0.1183 - factorized_top_k/top_10_categorical_accuracy: 0.1215 - factorized_top_k/top_50_categorical_accuracy: 0.1476 - factorized_top_k/top_100_categorical_accuracy: 0.2035 - binary_accuracy: 0.9043 - loss: 106.8717 - regularization_loss: 0.0000e+00 - total_loss: 106.8717 - val_factorized_top_k/top_1_categorical_accuracy: 0.5181 - val_factorized_top_k/top_5_categorical_accuracy: 0.5181 - val_factorized_top_k/top_10_categorical_accuracy: 0.5181 - val_factorized_top_k/top_50_categorical_accuracy: 0.5393 - val_factorized_top_k/top_100_categorical_accuracy: 0.5456 - val_binary_accuracy: 0.7711 - val_loss: 6.4889 - val_regularization_loss: 0.0000e+00 - val_total_loss: 6.4889\n",
            "Epoch 42/100\n",
            "435/435 [==============================] - 100s 229ms/step - factorized_top_k/top_1_categorical_accuracy: 0.1312 - factorized_top_k/top_5_categorical_accuracy: 0.1339 - factorized_top_k/top_10_categorical_accuracy: 0.1369 - factorized_top_k/top_50_categorical_accuracy: 0.1570 - factorized_top_k/top_100_categorical_accuracy: 0.1833 - binary_accuracy: 0.9003 - loss: 106.5016 - regularization_loss: 0.0000e+00 - total_loss: 106.5016 - val_factorized_top_k/top_1_categorical_accuracy: 0.4584 - val_factorized_top_k/top_5_categorical_accuracy: 0.4601 - val_factorized_top_k/top_10_categorical_accuracy: 0.4601 - val_factorized_top_k/top_50_categorical_accuracy: 0.4604 - val_factorized_top_k/top_100_categorical_accuracy: 0.4883 - val_binary_accuracy: 0.8440 - val_loss: 5.5563 - val_regularization_loss: 0.0000e+00 - val_total_loss: 5.5563\n",
            "Epoch 43/100\n",
            "435/435 [==============================] - 100s 230ms/step - factorized_top_k/top_1_categorical_accuracy: 0.2258 - factorized_top_k/top_5_categorical_accuracy: 0.2318 - factorized_top_k/top_10_categorical_accuracy: 0.2357 - factorized_top_k/top_50_categorical_accuracy: 0.2638 - factorized_top_k/top_100_categorical_accuracy: 0.3111 - binary_accuracy: 0.9002 - loss: 106.1566 - regularization_loss: 0.0000e+00 - total_loss: 106.1566 - val_factorized_top_k/top_1_categorical_accuracy: 0.3950 - val_factorized_top_k/top_5_categorical_accuracy: 0.4802 - val_factorized_top_k/top_10_categorical_accuracy: 0.4805 - val_factorized_top_k/top_50_categorical_accuracy: 0.5097 - val_factorized_top_k/top_100_categorical_accuracy: 0.5188 - val_binary_accuracy: 0.8238 - val_loss: 5.8604 - val_regularization_loss: 0.0000e+00 - val_total_loss: 5.8604\n",
            "Epoch 44/100\n",
            "435/435 [==============================] - 100s 231ms/step - factorized_top_k/top_1_categorical_accuracy: 0.1301 - factorized_top_k/top_5_categorical_accuracy: 0.1400 - factorized_top_k/top_10_categorical_accuracy: 0.1434 - factorized_top_k/top_50_categorical_accuracy: 0.1697 - factorized_top_k/top_100_categorical_accuracy: 0.1993 - binary_accuracy: 0.9014 - loss: 106.4473 - regularization_loss: 0.0000e+00 - total_loss: 106.4473 - val_factorized_top_k/top_1_categorical_accuracy: 0.5383 - val_factorized_top_k/top_5_categorical_accuracy: 0.5386 - val_factorized_top_k/top_10_categorical_accuracy: 0.5386 - val_factorized_top_k/top_50_categorical_accuracy: 0.5409 - val_factorized_top_k/top_100_categorical_accuracy: 0.5416 - val_binary_accuracy: 0.8413 - val_loss: 6.0096 - val_regularization_loss: 0.0000e+00 - val_total_loss: 6.0096\n",
            "Epoch 45/100\n",
            "435/435 [==============================] - 100s 230ms/step - factorized_top_k/top_1_categorical_accuracy: 0.1994 - factorized_top_k/top_5_categorical_accuracy: 0.2039 - factorized_top_k/top_10_categorical_accuracy: 0.2085 - factorized_top_k/top_50_categorical_accuracy: 0.2345 - factorized_top_k/top_100_categorical_accuracy: 0.2618 - binary_accuracy: 0.9022 - loss: 106.4155 - regularization_loss: 0.0000e+00 - total_loss: 106.4155 - val_factorized_top_k/top_1_categorical_accuracy: 0.5091 - val_factorized_top_k/top_5_categorical_accuracy: 0.5114 - val_factorized_top_k/top_10_categorical_accuracy: 0.5114 - val_factorized_top_k/top_50_categorical_accuracy: 0.5460 - val_factorized_top_k/top_100_categorical_accuracy: 0.5641 - val_binary_accuracy: 0.8396 - val_loss: 5.5452 - val_regularization_loss: 0.0000e+00 - val_total_loss: 5.5452\n"
          ]
        }
      ],
      "source": [
        "recommender = CFRecommender(user_model, item_model, candidates_ds)\n",
        "recommender.compile(optimizer = optimizer)\n",
        "history = recommender.fit(train,\n",
        "                validation_data = val,\n",
        "                epochs=100, callbacks=[early_stop])"
      ]
    },
    {
      "cell_type": "code",
      "execution_count": null,
      "metadata": {
        "colab": {
          "background_save": true
        },
        "id": "5VwGoDvJAoUp",
        "outputId": "0b894f97-5d12-41f4-9b4a-0db4a0a6d2f2"
      },
      "outputs": [
        {
          "data": {
            "image/png": "[encoded data removed]",
            "text/plain": [
              "<Figure size 640x480 with 1 Axes>"
            ]
          },
          "metadata": {},
          "output_type": "display_data"
        },
        {
          "data": {
            "image/png": "[encoded data removed]",
            "text/plain": [
              "<Figure size 640x480 with 1 Axes>"
            ]
          },
          "metadata": {},
          "output_type": "display_data"
        },
        {
          "data": {
            "image/png": "[encoded data removed]",
            "text/plain": [
              "<Figure size 640x480 with 1 Axes>"
            ]
          },
          "metadata": {},
          "output_type": "display_data"
        }
      ],
      "source": [
        "metrics = history.history\n",
        "# Plot loss\n",
        "plt.plot(metrics['loss'], label='Training Loss')\n",
        "plt.plot(metrics['val_loss'], label='Validation Loss')\n",
        "plt.title('Loss over Epochs')\n",
        "plt.xlabel('Epochs')\n",
        "plt.ylabel('Loss')\n",
        "plt.legend()\n",
        "plt.show()\n",
        "\n",
        "# Plot categorical accuracy\n",
        "plt.plot(metrics['factorized_top_k/top_1_categorical_accuracy'], label='Top_1 Training Accuracy')\n",
        "plt.plot(metrics['val_factorized_top_k/top_1_categorical_accuracy'], label='Top_1 Validation Accuracy')\n",
        "plt.title('Accuracy over Epochs')\n",
        "plt.xlabel('Epochs')\n",
        "plt.ylabel('Categorical Accuracy')\n",
        "plt.legend()\n",
        "plt.show()\n",
        "\n",
        "# Plot binary accuracy\n",
        "plt.plot(metrics['binary_accuracy'], label='Training Accuracy')\n",
        "plt.plot(metrics['val_binary_accuracy'], label='Validation Accuracy')\n",
        "plt.title('Binary Accuracy over Epochs')\n",
        "plt.xlabel('Epochs')\n",
        "plt.ylabel('Binary Accuracy')\n",
        "plt.ylim(0.5,1)\n",
        "plt.legend()\n",
        "plt.show()"
      ]
    },
    {
      "cell_type": "code",
      "execution_count": null,
      "metadata": {
        "id": "skG4ViBN6cZh"
      },
      "outputs": [],
      "source": [
        "test_metrics = recommender.evaluate(test, return_dict=True)\n",
        "print(test_metrics)"
      ]
    },
    {
      "cell_type": "markdown",
      "metadata": {
        "id": "6rRTlB890749"
      },
      "source": [
        "#Tuning dei parametri"
      ]
    },
    {
      "cell_type": "code",
      "execution_count": null,
      "metadata": {
        "id": "iAvZGqMS0_Ig"
      },
      "outputs": [],
      "source": [
        "class HyperRecommender(HyperModel):\n",
        "  def __init__(self, user_input_dim, item_input_dim, embedding_dim, candidates_ds):\n",
        "    self.user_input_dim = user_input_dim\n",
        "    self.item_input_dim = item_input_dim\n",
        "    self.embedding_dim = embedding_dim\n",
        "    self.candidates_ds = candidates_ds\n",
        "\n",
        "  def build(self, hp):\n",
        "    unique_user_ids = df_full['UserId'].unique().astype(str)\n",
        "    unique_item_ids = df_full['ItemId'].unique().astype(str)\n",
        "    embedding_dim = df_embeddings.shape[1]-1\n",
        "    user_model = tf.keras.Sequential([\n",
        "                                  tf.keras.layers.Embedding(input_dim = len(unique_user_ids), output_dim = embedding_dim),\n",
        "                                  tf.keras.layers.Dense(hp.Int(\"dense_size\", min_value=2, max_value=32, step=2)),\n",
        "                                  tf.keras.layers.ReLU(),\n",
        "                                  tf.keras.layers.Dropout(hp.Float(\"dropout_rate\", min_value = 0.05, max_value = 0.4, step = 0.05)),\n",
        "                                  tf.keras.layers.Dense(hp.Int(\"dense_size\", min_value=2, max_value=32, step=2)),\n",
        "                                  tf.keras.layers.Dropout(hp.Float(\"dropout_rate\", min_value = 0.05, max_value = 0.4, step = 0.05)),\n",
        "                                  tf.keras.layers.Flatten(),\n",
        "                                  ])\n",
        "    item_model = tf.keras.Sequential([tf.keras.Input(shape=(embedding_dim,), dtype=tf.float32, name='item_embedding'),\n",
        "                                  tf.keras.layers.Dense(hp.Int(\"dense_size\", min_value=2, max_value=32, step=2)),\n",
        "                                  tf.keras.layers.ReLU(),\n",
        "                                  tf.keras.layers.Dropout(hp.Float(\"dropout_rate\", min_value = 0.05, max_value = 0.4, step = 0.05)),\n",
        "                                  tf.keras.layers.Dense(hp.Int(\"dense_size\", min_value=2, max_value=32, step=2))\n",
        "                                ])\n",
        "\n",
        "    # Define the CFRecommender model\n",
        "    model = CFRecommender(user_model, item_model, self.candidates_ds)\n",
        "\n",
        "    # Compile the model\n",
        "    model.compile(\n",
        "        optimizer=tf.keras.optimizers.Adam(learning_rate=hp.Float('learning_rate', min_value=1e-4, max_value=6e-2, sampling='LOG')),\n",
        "    )\n",
        "\n",
        "    return model"
      ]
    },
    {
      "cell_type": "code",
      "execution_count": null,
      "metadata": {
        "id": "ULFFCppd1h-A"
      },
      "outputs": [],
      "source": [
        "hypermodel = HyperRecommender(user_input_dim = len(unique_user_ids),\n",
        "                              item_input_dim = embedding_dim,\n",
        "                              embedding_dim = embedding_dim,\n",
        "                              candidates_ds = candidates_ds)\n"
      ]
    },
    {
      "cell_type": "code",
      "execution_count": null,
      "metadata": {
        "colab": {
          "base_uri": "https://localhost:8080/"
        },
        "id": "O5sD6prn1plE",
        "outputId": "8ebe8556-c8cb-41c5-ee15-895ce3feb1ed"
      },
      "outputs": [
        {
          "name": "stderr",
          "output_type": "stream",
          "text": [
            "/usr/local/lib/python3.10/dist-packages/keras/src/engine/functional.py:642: UserWarning: Input dict contained keys ['item_id'] which did not match any model input. They will be ignored by the model.\n",
            "  inputs = self._flatten_to_reference_inputs(inputs)\n"
          ]
        }
      ],
      "source": [
        "tuner = RandomSearch(hypermodel,\n",
        "                     objective = 'val_loss',\n",
        "                     max_trials = 50,\n",
        "                     directory = 'keras_tuner_dir',\n",
        "                     project_name = 'gs_recommender')"
      ]
    },
    {
      "cell_type": "code",
      "execution_count": null,
      "metadata": {
        "colab": {
          "base_uri": "https://localhost:8080/"
        },
        "id": "L9uM5QhIFYjL",
        "outputId": "f3832f18-13bb-457c-8098-d7b81c5f4fff"
      },
      "outputs": [
        {
          "name": "stdout",
          "output_type": "stream",
          "text": [
            "Trial 49 Complete [00h 19m 40s]\n",
            "val_loss: 26.628984451293945\n",
            "\n",
            "Best val_loss So Far: 22.390087127685547\n",
            "Total elapsed time: 15h 36m 14s\n",
            "\n",
            "Search: Running Trial #50\n",
            "\n",
            "Value             |Best Value So Far |Hyperparameter\n",
            "32                |32                |dense_size\n",
            "0.4               |0.05              |dropout_rate\n",
            "0.00036674        |0.0041061         |learning_rate\n",
            "\n",
            "Epoch 1/20\n",
            "398/398 [==============================] - 61s 149ms/step - factorized_top_k/top_1_categorical_accuracy: 3.1451e-04 - factorized_top_k/top_5_categorical_accuracy: 0.0010 - factorized_top_k/top_10_categorical_accuracy: 0.0021 - factorized_top_k/top_50_categorical_accuracy: 0.0170 - factorized_top_k/top_100_categorical_accuracy: 0.0359 - binary_accuracy: 0.7246 - loss: 111.0723 - regularization_loss: 0.0000e+00 - total_loss: 111.0723 - val_factorized_top_k/top_1_categorical_accuracy: 0.0038 - val_factorized_top_k/top_5_categorical_accuracy: 0.0069 - val_factorized_top_k/top_10_categorical_accuracy: 0.0091 - val_factorized_top_k/top_50_categorical_accuracy: 0.0201 - val_factorized_top_k/top_100_categorical_accuracy: 0.0390 - val_binary_accuracy: 0.8421 - val_loss: 27.1234 - val_regularization_loss: 0.0000e+00 - val_total_loss: 27.1234\n",
            "Epoch 2/20\n",
            "398/398 [==============================] - 58s 147ms/step - factorized_top_k/top_1_categorical_accuracy: 0.0190 - factorized_top_k/top_5_categorical_accuracy: 0.0224 - factorized_top_k/top_10_categorical_accuracy: 0.0256 - factorized_top_k/top_50_categorical_accuracy: 0.0807 - factorized_top_k/top_100_categorical_accuracy: 0.1326 - binary_accuracy: 0.8497 - loss: 103.4672 - regularization_loss: 0.0000e+00 - total_loss: 103.4672 - val_factorized_top_k/top_1_categorical_accuracy: 0.0120 - val_factorized_top_k/top_5_categorical_accuracy: 0.0129 - val_factorized_top_k/top_10_categorical_accuracy: 0.0151 - val_factorized_top_k/top_50_categorical_accuracy: 0.0528 - val_factorized_top_k/top_100_categorical_accuracy: 0.0796 - val_binary_accuracy: 0.8367 - val_loss: 28.4212 - val_regularization_loss: 0.0000e+00 - val_total_loss: 28.4212\n",
            "Epoch 3/20\n",
            "398/398 [==============================] - 60s 151ms/step - factorized_top_k/top_1_categorical_accuracy: 0.0420 - factorized_top_k/top_5_categorical_accuracy: 0.0493 - factorized_top_k/top_10_categorical_accuracy: 0.0569 - factorized_top_k/top_50_categorical_accuracy: 0.1628 - factorized_top_k/top_100_categorical_accuracy: 0.2449 - binary_accuracy: 0.8459 - loss: 91.8359 - regularization_loss: 0.0000e+00 - total_loss: 91.8359 - val_factorized_top_k/top_1_categorical_accuracy: 0.0160 - val_factorized_top_k/top_5_categorical_accuracy: 0.0170 - val_factorized_top_k/top_10_categorical_accuracy: 0.0195 - val_factorized_top_k/top_50_categorical_accuracy: 0.0683 - val_factorized_top_k/top_100_categorical_accuracy: 0.0947 - val_binary_accuracy: 0.8264 - val_loss: 29.6099 - val_regularization_loss: 0.0000e+00 - val_total_loss: 29.6099\n",
            "Epoch 4/20\n",
            "398/398 [==============================] - 59s 147ms/step - factorized_top_k/top_1_categorical_accuracy: 0.0486 - factorized_top_k/top_5_categorical_accuracy: 0.0635 - factorized_top_k/top_10_categorical_accuracy: 0.0747 - factorized_top_k/top_50_categorical_accuracy: 0.2189 - factorized_top_k/top_100_categorical_accuracy: 0.3228 - binary_accuracy: 0.8441 - loss: 82.9055 - regularization_loss: 0.0000e+00 - total_loss: 82.9055 - val_factorized_top_k/top_1_categorical_accuracy: 0.0164 - val_factorized_top_k/top_5_categorical_accuracy: 0.0189 - val_factorized_top_k/top_10_categorical_accuracy: 0.0230 - val_factorized_top_k/top_50_categorical_accuracy: 0.0758 - val_factorized_top_k/top_100_categorical_accuracy: 0.1095 - val_binary_accuracy: 0.8109 - val_loss: 32.7484 - val_regularization_loss: 0.0000e+00 - val_total_loss: 32.7484\n",
            "Epoch 5/20\n",
            "398/398 [==============================] - 59s 147ms/step - factorized_top_k/top_1_categorical_accuracy: 0.0548 - factorized_top_k/top_5_categorical_accuracy: 0.0768 - factorized_top_k/top_10_categorical_accuracy: 0.0930 - factorized_top_k/top_50_categorical_accuracy: 0.2658 - factorized_top_k/top_100_categorical_accuracy: 0.3740 - binary_accuracy: 0.8412 - loss: 77.0071 - regularization_loss: 0.0000e+00 - total_loss: 77.0071 - val_factorized_top_k/top_1_categorical_accuracy: 0.0160 - val_factorized_top_k/top_5_categorical_accuracy: 0.0245 - val_factorized_top_k/top_10_categorical_accuracy: 0.0330 - val_factorized_top_k/top_50_categorical_accuracy: 0.0786 - val_factorized_top_k/top_100_categorical_accuracy: 0.1085 - val_binary_accuracy: 0.8254 - val_loss: 33.9273 - val_regularization_loss: 0.0000e+00 - val_total_loss: 33.9273\n",
            "Epoch 6/20\n",
            "398/398 [==============================] - 60s 150ms/step - factorized_top_k/top_1_categorical_accuracy: 0.0596 - factorized_top_k/top_5_categorical_accuracy: 0.0910 - factorized_top_k/top_10_categorical_accuracy: 0.1180 - factorized_top_k/top_50_categorical_accuracy: 0.3022 - factorized_top_k/top_100_categorical_accuracy: 0.4148 - binary_accuracy: 0.8398 - loss: 72.6327 - regularization_loss: 0.0000e+00 - total_loss: 72.6327 - val_factorized_top_k/top_1_categorical_accuracy: 0.0211 - val_factorized_top_k/top_5_categorical_accuracy: 0.0302 - val_factorized_top_k/top_10_categorical_accuracy: 0.0368 - val_factorized_top_k/top_50_categorical_accuracy: 0.0834 - val_factorized_top_k/top_100_categorical_accuracy: 0.1176 - val_binary_accuracy: 0.8242 - val_loss: 35.6139 - val_regularization_loss: 0.0000e+00 - val_total_loss: 35.6139\n",
            "Epoch 7/20\n",
            "398/398 [==============================] - 59s 149ms/step - factorized_top_k/top_1_categorical_accuracy: 0.0666 - factorized_top_k/top_5_categorical_accuracy: 0.1052 - factorized_top_k/top_10_categorical_accuracy: 0.1343 - factorized_top_k/top_50_categorical_accuracy: 0.3269 - factorized_top_k/top_100_categorical_accuracy: 0.4365 - binary_accuracy: 0.8389 - loss: 69.2787 - regularization_loss: 0.0000e+00 - total_loss: 69.2787 - val_factorized_top_k/top_1_categorical_accuracy: 0.0258 - val_factorized_top_k/top_5_categorical_accuracy: 0.0396 - val_factorized_top_k/top_10_categorical_accuracy: 0.0466 - val_factorized_top_k/top_50_categorical_accuracy: 0.0919 - val_factorized_top_k/top_100_categorical_accuracy: 0.1227 - val_binary_accuracy: 0.8355 - val_loss: 36.0743 - val_regularization_loss: 0.0000e+00 - val_total_loss: 36.0743\n",
            "Epoch 8/20\n",
            "398/398 [==============================] - 60s 151ms/step - factorized_top_k/top_1_categorical_accuracy: 0.0757 - factorized_top_k/top_5_categorical_accuracy: 0.1189 - factorized_top_k/top_10_categorical_accuracy: 0.1507 - factorized_top_k/top_50_categorical_accuracy: 0.3449 - factorized_top_k/top_100_categorical_accuracy: 0.4604 - binary_accuracy: 0.8422 - loss: 66.7834 - regularization_loss: 0.0000e+00 - total_loss: 66.7834 - val_factorized_top_k/top_1_categorical_accuracy: 0.0167 - val_factorized_top_k/top_5_categorical_accuracy: 0.0308 - val_factorized_top_k/top_10_categorical_accuracy: 0.0374 - val_factorized_top_k/top_50_categorical_accuracy: 0.0941 - val_factorized_top_k/top_100_categorical_accuracy: 0.1252 - val_binary_accuracy: 0.8371 - val_loss: 38.1748 - val_regularization_loss: 0.0000e+00 - val_total_loss: 38.1748\n",
            "Epoch 9/20\n",
            "398/398 [==============================] - 60s 151ms/step - factorized_top_k/top_1_categorical_accuracy: 0.0758 - factorized_top_k/top_5_categorical_accuracy: 0.1190 - factorized_top_k/top_10_categorical_accuracy: 0.1543 - factorized_top_k/top_50_categorical_accuracy: 0.3541 - factorized_top_k/top_100_categorical_accuracy: 0.4741 - binary_accuracy: 0.8445 - loss: 65.0504 - regularization_loss: 0.0000e+00 - total_loss: 65.0504 - val_factorized_top_k/top_1_categorical_accuracy: 0.0204 - val_factorized_top_k/top_5_categorical_accuracy: 0.0315 - val_factorized_top_k/top_10_categorical_accuracy: 0.0393 - val_factorized_top_k/top_50_categorical_accuracy: 0.0966 - val_factorized_top_k/top_100_categorical_accuracy: 0.1302 - val_binary_accuracy: 0.8345 - val_loss: 39.9393 - val_regularization_loss: 0.0000e+00 - val_total_loss: 39.9393\n",
            "Epoch 10/20\n",
            "398/398 [==============================] - 61s 153ms/step - factorized_top_k/top_1_categorical_accuracy: 0.0789 - factorized_top_k/top_5_categorical_accuracy: 0.1244 - factorized_top_k/top_10_categorical_accuracy: 0.1608 - factorized_top_k/top_50_categorical_accuracy: 0.3709 - factorized_top_k/top_100_categorical_accuracy: 0.4930 - binary_accuracy: 0.8457 - loss: 63.7931 - regularization_loss: 0.0000e+00 - total_loss: 63.7931 - val_factorized_top_k/top_1_categorical_accuracy: 0.0261 - val_factorized_top_k/top_5_categorical_accuracy: 0.0431 - val_factorized_top_k/top_10_categorical_accuracy: 0.0497 - val_factorized_top_k/top_50_categorical_accuracy: 0.0966 - val_factorized_top_k/top_100_categorical_accuracy: 0.1299 - val_binary_accuracy: 0.8358 - val_loss: 39.6771 - val_regularization_loss: 0.0000e+00 - val_total_loss: 39.6771\n",
            "Epoch 11/20\n",
            "398/398 [==============================] - 61s 153ms/step - factorized_top_k/top_1_categorical_accuracy: 0.0738 - factorized_top_k/top_5_categorical_accuracy: 0.1190 - factorized_top_k/top_10_categorical_accuracy: 0.1562 - factorized_top_k/top_50_categorical_accuracy: 0.3688 - factorized_top_k/top_100_categorical_accuracy: 0.4961 - binary_accuracy: 0.8339 - loss: 62.5536 - regularization_loss: 0.0000e+00 - total_loss: 62.5536 - val_factorized_top_k/top_1_categorical_accuracy: 0.0189 - val_factorized_top_k/top_5_categorical_accuracy: 0.0299 - val_factorized_top_k/top_10_categorical_accuracy: 0.0393 - val_factorized_top_k/top_50_categorical_accuracy: 0.0934 - val_factorized_top_k/top_100_categorical_accuracy: 0.1324 - val_binary_accuracy: 0.8311 - val_loss: 40.0509 - val_regularization_loss: 0.0000e+00 - val_total_loss: 40.0509\n",
            "Epoch 12/20\n",
            "398/398 [==============================] - 61s 153ms/step - factorized_top_k/top_1_categorical_accuracy: 0.0854 - factorized_top_k/top_5_categorical_accuracy: 0.1332 - factorized_top_k/top_10_categorical_accuracy: 0.1690 - factorized_top_k/top_50_categorical_accuracy: 0.3843 - factorized_top_k/top_100_categorical_accuracy: 0.5076 - binary_accuracy: 0.8420 - loss: 61.4853 - regularization_loss: 0.0000e+00 - total_loss: 61.4853 - val_factorized_top_k/top_1_categorical_accuracy: 0.0264 - val_factorized_top_k/top_5_categorical_accuracy: 0.0374 - val_factorized_top_k/top_10_categorical_accuracy: 0.0484 - val_factorized_top_k/top_50_categorical_accuracy: 0.0934 - val_factorized_top_k/top_100_categorical_accuracy: 0.1277 - val_binary_accuracy: 0.8257 - val_loss: 41.6337 - val_regularization_loss: 0.0000e+00 - val_total_loss: 41.6337\n",
            "Epoch 13/20\n",
            "398/398 [==============================] - 61s 152ms/step - factorized_top_k/top_1_categorical_accuracy: 0.0817 - factorized_top_k/top_5_categorical_accuracy: 0.1312 - factorized_top_k/top_10_categorical_accuracy: 0.1720 - factorized_top_k/top_50_categorical_accuracy: 0.3866 - factorized_top_k/top_100_categorical_accuracy: 0.5152 - binary_accuracy: 0.8398 - loss: 60.7802 - regularization_loss: 0.0000e+00 - total_loss: 60.7802 - val_factorized_top_k/top_1_categorical_accuracy: 0.0286 - val_factorized_top_k/top_5_categorical_accuracy: 0.0453 - val_factorized_top_k/top_10_categorical_accuracy: 0.0522 - val_factorized_top_k/top_50_categorical_accuracy: 0.0944 - val_factorized_top_k/top_100_categorical_accuracy: 0.1324 - val_binary_accuracy: 0.8314 - val_loss: 41.1225 - val_regularization_loss: 0.0000e+00 - val_total_loss: 41.1225\n",
            "Epoch 14/20\n",
            "398/398 [==============================] - ETA: 0s - factorized_top_k/top_1_categorical_accuracy: 0.0859 - factorized_top_k/top_5_categorical_accuracy: 0.1372 - factorized_top_k/top_10_categorical_accuracy: 0.1768 - factorized_top_k/top_50_categorical_accuracy: 0.3935 - factorized_top_k/top_100_categorical_accuracy: 0.5231 - binary_accuracy: 0.8432 - loss: 60.1996 - regularization_loss: 0.0000e+00 - total_loss: 60.1996"
          ]
        }
      ],
      "source": [
        "tuner.search_space_summary()\n",
        "tuner.search(train, validation_data=val, epochs=20)\n",
        "best_hyperparams = tuner.get_best_hyperparameters(num_trials=1)[0]\n",
        "for hparam in best_hyperparams.values:\n",
        "  print(f'{hparam}: {best_hyperparams.get(hparam)}')"
      ]
    },
    {
      "cell_type": "code",
      "execution_count": null,
      "metadata": {
        "colab": {
          "base_uri": "https://localhost:8080/"
        },
        "id": "S32XQAkyf2CZ",
        "outputId": "3623ebee-1ec2-4b3b-c155-7100bdc0b46b"
      },
      "outputs": [
        {
          "name": "stdout",
          "output_type": "stream",
          "text": [
            "Epoch 1/100\n",
            "398/398 [==============================] - 62s 152ms/step - factorized_top_k/top_1_categorical_accuracy: 0.0149 - factorized_top_k/top_5_categorical_accuracy: 0.0196 - factorized_top_k/top_10_categorical_accuracy: 0.0243 - factorized_top_k/top_50_categorical_accuracy: 0.0572 - factorized_top_k/top_100_categorical_accuracy: 0.0933 - binary_accuracy: 0.7798 - loss: 109.5902 - regularization_loss: 0.0000e+00 - total_loss: 109.5902 - val_factorized_top_k/top_1_categorical_accuracy: 0.0000e+00 - val_factorized_top_k/top_5_categorical_accuracy: 3.1456e-04 - val_factorized_top_k/top_10_categorical_accuracy: 3.1456e-04 - val_factorized_top_k/top_50_categorical_accuracy: 0.0116 - val_factorized_top_k/top_100_categorical_accuracy: 0.0377 - val_binary_accuracy: 0.8119 - val_loss: 33.5852 - val_regularization_loss: 0.0000e+00 - val_total_loss: 33.5852\n",
            "Epoch 2/100\n",
            "398/398 [==============================] - 59s 149ms/step - factorized_top_k/top_1_categorical_accuracy: 0.0208 - factorized_top_k/top_5_categorical_accuracy: 0.0285 - factorized_top_k/top_10_categorical_accuracy: 0.0333 - factorized_top_k/top_50_categorical_accuracy: 0.0783 - factorized_top_k/top_100_categorical_accuracy: 0.1321 - binary_accuracy: 0.6602 - loss: 105.3039 - regularization_loss: 0.0000e+00 - total_loss: 105.3039 - val_factorized_top_k/top_1_categorical_accuracy: 0.0085 - val_factorized_top_k/top_5_categorical_accuracy: 0.0107 - val_factorized_top_k/top_10_categorical_accuracy: 0.0126 - val_factorized_top_k/top_50_categorical_accuracy: 0.0289 - val_factorized_top_k/top_100_categorical_accuracy: 0.0617 - val_binary_accuracy: 0.7150 - val_loss: 28.1851 - val_regularization_loss: 0.0000e+00 - val_total_loss: 28.1851\n",
            "Epoch 3/100\n",
            "398/398 [==============================] - 58s 147ms/step - factorized_top_k/top_1_categorical_accuracy: 0.0149 - factorized_top_k/top_5_categorical_accuracy: 0.0258 - factorized_top_k/top_10_categorical_accuracy: 0.0319 - factorized_top_k/top_50_categorical_accuracy: 0.0711 - factorized_top_k/top_100_categorical_accuracy: 0.1246 - binary_accuracy: 0.6008 - loss: 107.4382 - regularization_loss: 0.0000e+00 - total_loss: 107.4382 - val_factorized_top_k/top_1_categorical_accuracy: 0.0072 - val_factorized_top_k/top_5_categorical_accuracy: 0.0085 - val_factorized_top_k/top_10_categorical_accuracy: 0.0107 - val_factorized_top_k/top_50_categorical_accuracy: 0.0359 - val_factorized_top_k/top_100_categorical_accuracy: 0.0544 - val_binary_accuracy: 0.6578 - val_loss: 31.7031 - val_regularization_loss: 0.0000e+00 - val_total_loss: 31.7031\n",
            "Epoch 4/100\n",
            "398/398 [==============================] - 58s 147ms/step - factorized_top_k/top_1_categorical_accuracy: 0.0170 - factorized_top_k/top_5_categorical_accuracy: 0.0256 - factorized_top_k/top_10_categorical_accuracy: 0.0287 - factorized_top_k/top_50_categorical_accuracy: 0.0583 - factorized_top_k/top_100_categorical_accuracy: 0.1039 - binary_accuracy: 0.6468 - loss: 107.1956 - regularization_loss: 0.0000e+00 - total_loss: 107.1956 - val_factorized_top_k/top_1_categorical_accuracy: 0.0031 - val_factorized_top_k/top_5_categorical_accuracy: 0.0047 - val_factorized_top_k/top_10_categorical_accuracy: 0.0050 - val_factorized_top_k/top_50_categorical_accuracy: 0.0233 - val_factorized_top_k/top_100_categorical_accuracy: 0.0371 - val_binary_accuracy: 0.8109 - val_loss: 27.2764 - val_regularization_loss: 0.0000e+00 - val_total_loss: 27.2764\n",
            "Epoch 5/100\n",
            "398/398 [==============================] - 59s 148ms/step - factorized_top_k/top_1_categorical_accuracy: 0.0446 - factorized_top_k/top_5_categorical_accuracy: 0.0663 - factorized_top_k/top_10_categorical_accuracy: 0.0672 - factorized_top_k/top_50_categorical_accuracy: 0.0889 - factorized_top_k/top_100_categorical_accuracy: 0.1158 - binary_accuracy: 0.8191 - loss: 106.4012 - regularization_loss: 0.0000e+00 - total_loss: 106.4012 - val_factorized_top_k/top_1_categorical_accuracy: 0.4558 - val_factorized_top_k/top_5_categorical_accuracy: 0.6858 - val_factorized_top_k/top_10_categorical_accuracy: 0.6858 - val_factorized_top_k/top_50_categorical_accuracy: 0.6858 - val_factorized_top_k/top_100_categorical_accuracy: 0.6858 - val_binary_accuracy: 0.8361 - val_loss: 29.1494 - val_regularization_loss: 0.0000e+00 - val_total_loss: 29.1494\n",
            "Epoch 6/100\n",
            "398/398 [==============================] - 59s 148ms/step - factorized_top_k/top_1_categorical_accuracy: 0.3416 - factorized_top_k/top_5_categorical_accuracy: 0.5248 - factorized_top_k/top_10_categorical_accuracy: 0.5248 - factorized_top_k/top_50_categorical_accuracy: 0.5248 - factorized_top_k/top_100_categorical_accuracy: 0.5248 - binary_accuracy: 0.8218 - loss: 113.2243 - regularization_loss: 0.0000e+00 - total_loss: 113.2243 - val_factorized_top_k/top_1_categorical_accuracy: 0.4325 - val_factorized_top_k/top_5_categorical_accuracy: 0.6675 - val_factorized_top_k/top_10_categorical_accuracy: 0.6675 - val_factorized_top_k/top_50_categorical_accuracy: 0.6675 - val_factorized_top_k/top_100_categorical_accuracy: 0.6675 - val_binary_accuracy: 0.8361 - val_loss: 29.1494 - val_regularization_loss: 0.0000e+00 - val_total_loss: 29.1494\n",
            "Epoch 7/100\n",
            "398/398 [==============================] - 59s 148ms/step - factorized_top_k/top_1_categorical_accuracy: 0.3472 - factorized_top_k/top_5_categorical_accuracy: 0.5418 - factorized_top_k/top_10_categorical_accuracy: 0.5418 - factorized_top_k/top_50_categorical_accuracy: 0.5418 - factorized_top_k/top_100_categorical_accuracy: 0.5418 - binary_accuracy: 0.8218 - loss: 113.2113 - regularization_loss: 0.0000e+00 - total_loss: 113.2113 - val_factorized_top_k/top_1_categorical_accuracy: 0.4262 - val_factorized_top_k/top_5_categorical_accuracy: 0.6596 - val_factorized_top_k/top_10_categorical_accuracy: 0.6596 - val_factorized_top_k/top_50_categorical_accuracy: 0.6596 - val_factorized_top_k/top_100_categorical_accuracy: 0.6596 - val_binary_accuracy: 0.8361 - val_loss: 29.1494 - val_regularization_loss: 0.0000e+00 - val_total_loss: 29.1494\n",
            "Epoch 8/100\n",
            "398/398 [==============================] - 69s 172ms/step - factorized_top_k/top_1_categorical_accuracy: 0.3357 - factorized_top_k/top_5_categorical_accuracy: 0.5077 - factorized_top_k/top_10_categorical_accuracy: 0.5077 - factorized_top_k/top_50_categorical_accuracy: 0.5077 - factorized_top_k/top_100_categorical_accuracy: 0.5077 - binary_accuracy: 0.8218 - loss: 113.2198 - regularization_loss: 0.0000e+00 - total_loss: 113.2198 - val_factorized_top_k/top_1_categorical_accuracy: 0.4272 - val_factorized_top_k/top_5_categorical_accuracy: 0.6618 - val_factorized_top_k/top_10_categorical_accuracy: 0.6618 - val_factorized_top_k/top_50_categorical_accuracy: 0.6618 - val_factorized_top_k/top_100_categorical_accuracy: 0.6618 - val_binary_accuracy: 0.8361 - val_loss: 29.1494 - val_regularization_loss: 0.0000e+00 - val_total_loss: 29.1494\n",
            "Epoch 9/100\n",
            "398/398 [==============================] - 59s 147ms/step - factorized_top_k/top_1_categorical_accuracy: 0.3684 - factorized_top_k/top_5_categorical_accuracy: 0.5600 - factorized_top_k/top_10_categorical_accuracy: 0.5600 - factorized_top_k/top_50_categorical_accuracy: 0.5600 - factorized_top_k/top_100_categorical_accuracy: 0.5600 - binary_accuracy: 0.8218 - loss: 113.2325 - regularization_loss: 0.0000e+00 - total_loss: 113.2325 - val_factorized_top_k/top_1_categorical_accuracy: 0.4426 - val_factorized_top_k/top_5_categorical_accuracy: 0.6691 - val_factorized_top_k/top_10_categorical_accuracy: 0.6691 - val_factorized_top_k/top_50_categorical_accuracy: 0.6691 - val_factorized_top_k/top_100_categorical_accuracy: 0.6691 - val_binary_accuracy: 0.8345 - val_loss: 29.1494 - val_regularization_loss: 0.0000e+00 - val_total_loss: 29.1494\n",
            "Epoch 10/100\n",
            "398/398 [==============================] - 58s 147ms/step - factorized_top_k/top_1_categorical_accuracy: 0.3600 - factorized_top_k/top_5_categorical_accuracy: 0.5526 - factorized_top_k/top_10_categorical_accuracy: 0.5526 - factorized_top_k/top_50_categorical_accuracy: 0.5526 - factorized_top_k/top_100_categorical_accuracy: 0.5526 - binary_accuracy: 0.8220 - loss: 113.2282 - regularization_loss: 0.0000e+00 - total_loss: 113.2282 - val_factorized_top_k/top_1_categorical_accuracy: 0.4398 - val_factorized_top_k/top_5_categorical_accuracy: 0.6782 - val_factorized_top_k/top_10_categorical_accuracy: 0.6782 - val_factorized_top_k/top_50_categorical_accuracy: 0.6782 - val_factorized_top_k/top_100_categorical_accuracy: 0.6782 - val_binary_accuracy: 0.8345 - val_loss: 29.1494 - val_regularization_loss: 0.0000e+00 - val_total_loss: 29.1494\n",
            "Epoch 11/100\n",
            "398/398 [==============================] - 58s 147ms/step - factorized_top_k/top_1_categorical_accuracy: 0.3765 - factorized_top_k/top_5_categorical_accuracy: 0.5749 - factorized_top_k/top_10_categorical_accuracy: 0.5749 - factorized_top_k/top_50_categorical_accuracy: 0.5749 - factorized_top_k/top_100_categorical_accuracy: 0.5749 - binary_accuracy: 0.8218 - loss: 113.2240 - regularization_loss: 0.0000e+00 - total_loss: 113.2240 - val_factorized_top_k/top_1_categorical_accuracy: 0.4332 - val_factorized_top_k/top_5_categorical_accuracy: 0.6587 - val_factorized_top_k/top_10_categorical_accuracy: 0.6587 - val_factorized_top_k/top_50_categorical_accuracy: 0.6587 - val_factorized_top_k/top_100_categorical_accuracy: 0.6587 - val_binary_accuracy: 0.8345 - val_loss: 29.1494 - val_regularization_loss: 0.0000e+00 - val_total_loss: 29.1494\n",
            "Epoch 12/100\n",
            "398/398 [==============================] - 58s 147ms/step - factorized_top_k/top_1_categorical_accuracy: 0.3444 - factorized_top_k/top_5_categorical_accuracy: 0.5036 - factorized_top_k/top_10_categorical_accuracy: 0.5036 - factorized_top_k/top_50_categorical_accuracy: 0.5036 - factorized_top_k/top_100_categorical_accuracy: 0.5036 - binary_accuracy: 0.8217 - loss: 113.2283 - regularization_loss: 0.0000e+00 - total_loss: 113.2283 - val_factorized_top_k/top_1_categorical_accuracy: 0.4520 - val_factorized_top_k/top_5_categorical_accuracy: 0.6939 - val_factorized_top_k/top_10_categorical_accuracy: 0.6939 - val_factorized_top_k/top_50_categorical_accuracy: 0.6939 - val_factorized_top_k/top_100_categorical_accuracy: 0.6939 - val_binary_accuracy: 0.8345 - val_loss: 29.1494 - val_regularization_loss: 0.0000e+00 - val_total_loss: 29.1494\n",
            "Epoch 13/100\n",
            "398/398 [==============================] - 59s 148ms/step - factorized_top_k/top_1_categorical_accuracy: 0.4115 - factorized_top_k/top_5_categorical_accuracy: 0.6376 - factorized_top_k/top_10_categorical_accuracy: 0.6376 - factorized_top_k/top_50_categorical_accuracy: 0.6376 - factorized_top_k/top_100_categorical_accuracy: 0.6376 - binary_accuracy: 0.8219 - loss: 113.2325 - regularization_loss: 0.0000e+00 - total_loss: 113.2325 - val_factorized_top_k/top_1_categorical_accuracy: 0.4549 - val_factorized_top_k/top_5_categorical_accuracy: 0.6920 - val_factorized_top_k/top_10_categorical_accuracy: 0.6920 - val_factorized_top_k/top_50_categorical_accuracy: 0.6920 - val_factorized_top_k/top_100_categorical_accuracy: 0.6920 - val_binary_accuracy: 0.8345 - val_loss: 29.1494 - val_regularization_loss: 0.0000e+00 - val_total_loss: 29.1494\n",
            "Epoch 14/100\n",
            "398/398 [==============================] - 59s 148ms/step - factorized_top_k/top_1_categorical_accuracy: 0.3008 - factorized_top_k/top_5_categorical_accuracy: 0.4465 - factorized_top_k/top_10_categorical_accuracy: 0.4465 - factorized_top_k/top_50_categorical_accuracy: 0.4465 - factorized_top_k/top_100_categorical_accuracy: 0.4465 - binary_accuracy: 0.8218 - loss: 113.2283 - regularization_loss: 0.0000e+00 - total_loss: 113.2283 - val_factorized_top_k/top_1_categorical_accuracy: 0.4124 - val_factorized_top_k/top_5_categorical_accuracy: 0.6389 - val_factorized_top_k/top_10_categorical_accuracy: 0.6389 - val_factorized_top_k/top_50_categorical_accuracy: 0.6389 - val_factorized_top_k/top_100_categorical_accuracy: 0.6389 - val_binary_accuracy: 0.8345 - val_loss: 29.1494 - val_regularization_loss: 0.0000e+00 - val_total_loss: 29.1494\n",
            "Epoch 15/100\n",
            "398/398 [==============================] - 59s 148ms/step - factorized_top_k/top_1_categorical_accuracy: 0.3168 - factorized_top_k/top_5_categorical_accuracy: 0.4722 - factorized_top_k/top_10_categorical_accuracy: 0.4722 - factorized_top_k/top_50_categorical_accuracy: 0.4722 - factorized_top_k/top_100_categorical_accuracy: 0.4722 - binary_accuracy: 0.8219 - loss: 113.2325 - regularization_loss: 0.0000e+00 - total_loss: 113.2325 - val_factorized_top_k/top_1_categorical_accuracy: 0.4325 - val_factorized_top_k/top_5_categorical_accuracy: 0.6546 - val_factorized_top_k/top_10_categorical_accuracy: 0.6546 - val_factorized_top_k/top_50_categorical_accuracy: 0.6546 - val_factorized_top_k/top_100_categorical_accuracy: 0.6546 - val_binary_accuracy: 0.8345 - val_loss: 29.1494 - val_regularization_loss: 0.0000e+00 - val_total_loss: 29.1494\n",
            "Epoch 16/100\n",
            "398/398 [==============================] - 59s 149ms/step - factorized_top_k/top_1_categorical_accuracy: 0.3353 - factorized_top_k/top_5_categorical_accuracy: 0.4961 - factorized_top_k/top_10_categorical_accuracy: 0.4961 - factorized_top_k/top_50_categorical_accuracy: 0.4961 - factorized_top_k/top_100_categorical_accuracy: 0.4961 - binary_accuracy: 0.8220 - loss: 113.2240 - regularization_loss: 0.0000e+00 - total_loss: 113.2240 - val_factorized_top_k/top_1_categorical_accuracy: 0.4243 - val_factorized_top_k/top_5_categorical_accuracy: 0.6612 - val_factorized_top_k/top_10_categorical_accuracy: 0.6612 - val_factorized_top_k/top_50_categorical_accuracy: 0.6612 - val_factorized_top_k/top_100_categorical_accuracy: 0.6612 - val_binary_accuracy: 0.8345 - val_loss: 29.1494 - val_regularization_loss: 0.0000e+00 - val_total_loss: 29.1494\n",
            "Epoch 17/100\n",
            "398/398 [==============================] - 59s 149ms/step - factorized_top_k/top_1_categorical_accuracy: 0.3898 - factorized_top_k/top_5_categorical_accuracy: 0.5981 - factorized_top_k/top_10_categorical_accuracy: 0.5981 - factorized_top_k/top_50_categorical_accuracy: 0.5981 - factorized_top_k/top_100_categorical_accuracy: 0.5981 - binary_accuracy: 0.8219 - loss: 113.2155 - regularization_loss: 0.0000e+00 - total_loss: 113.2155 - val_factorized_top_k/top_1_categorical_accuracy: 0.4596 - val_factorized_top_k/top_5_categorical_accuracy: 0.7062 - val_factorized_top_k/top_10_categorical_accuracy: 0.7062 - val_factorized_top_k/top_50_categorical_accuracy: 0.7062 - val_factorized_top_k/top_100_categorical_accuracy: 0.7062 - val_binary_accuracy: 0.8345 - val_loss: 29.1494 - val_regularization_loss: 0.0000e+00 - val_total_loss: 29.1494\n",
            "Epoch 18/100\n",
            "398/398 [==============================] - 60s 150ms/step - factorized_top_k/top_1_categorical_accuracy: 0.3302 - factorized_top_k/top_5_categorical_accuracy: 0.4982 - factorized_top_k/top_10_categorical_accuracy: 0.4982 - factorized_top_k/top_50_categorical_accuracy: 0.4982 - factorized_top_k/top_100_categorical_accuracy: 0.4982 - binary_accuracy: 0.8221 - loss: 113.2368 - regularization_loss: 0.0000e+00 - total_loss: 113.2368 - val_factorized_top_k/top_1_categorical_accuracy: 0.4177 - val_factorized_top_k/top_5_categorical_accuracy: 0.6543 - val_factorized_top_k/top_10_categorical_accuracy: 0.6543 - val_factorized_top_k/top_50_categorical_accuracy: 0.6543 - val_factorized_top_k/top_100_categorical_accuracy: 0.6543 - val_binary_accuracy: 0.8345 - val_loss: 29.1494 - val_regularization_loss: 0.0000e+00 - val_total_loss: 29.1494\n",
            "Epoch 19/100\n",
            "398/398 [==============================] - 59s 148ms/step - factorized_top_k/top_1_categorical_accuracy: 0.3594 - factorized_top_k/top_5_categorical_accuracy: 0.5541 - factorized_top_k/top_10_categorical_accuracy: 0.5541 - factorized_top_k/top_50_categorical_accuracy: 0.5541 - factorized_top_k/top_100_categorical_accuracy: 0.5541 - binary_accuracy: 0.8217 - loss: 113.2155 - regularization_loss: 0.0000e+00 - total_loss: 113.2155 - val_factorized_top_k/top_1_categorical_accuracy: 0.4347 - val_factorized_top_k/top_5_categorical_accuracy: 0.6839 - val_factorized_top_k/top_10_categorical_accuracy: 0.6839 - val_factorized_top_k/top_50_categorical_accuracy: 0.6839 - val_factorized_top_k/top_100_categorical_accuracy: 0.6839 - val_binary_accuracy: 0.8345 - val_loss: 29.1494 - val_regularization_loss: 0.0000e+00 - val_total_loss: 29.1494\n",
            "Epoch 20/100\n",
            "398/398 [==============================] - 59s 148ms/step - factorized_top_k/top_1_categorical_accuracy: 0.3265 - factorized_top_k/top_5_categorical_accuracy: 0.4809 - factorized_top_k/top_10_categorical_accuracy: 0.4809 - factorized_top_k/top_50_categorical_accuracy: 0.4809 - factorized_top_k/top_100_categorical_accuracy: 0.4809 - binary_accuracy: 0.8221 - loss: 113.2197 - regularization_loss: 0.0000e+00 - total_loss: 113.2197 - val_factorized_top_k/top_1_categorical_accuracy: 0.4237 - val_factorized_top_k/top_5_categorical_accuracy: 0.6744 - val_factorized_top_k/top_10_categorical_accuracy: 0.6744 - val_factorized_top_k/top_50_categorical_accuracy: 0.6744 - val_factorized_top_k/top_100_categorical_accuracy: 0.6744 - val_binary_accuracy: 0.8345 - val_loss: 29.1494 - val_regularization_loss: 0.0000e+00 - val_total_loss: 29.1494\n",
            "Epoch 21/100\n",
            "398/398 [==============================] - 59s 149ms/step - factorized_top_k/top_1_categorical_accuracy: 0.4355 - factorized_top_k/top_5_categorical_accuracy: 0.6794 - factorized_top_k/top_10_categorical_accuracy: 0.6794 - factorized_top_k/top_50_categorical_accuracy: 0.6794 - factorized_top_k/top_100_categorical_accuracy: 0.6794 - binary_accuracy: 0.8218 - loss: 113.2240 - regularization_loss: 0.0000e+00 - total_loss: 113.2240 - val_factorized_top_k/top_1_categorical_accuracy: 0.4382 - val_factorized_top_k/top_5_categorical_accuracy: 0.6898 - val_factorized_top_k/top_10_categorical_accuracy: 0.6898 - val_factorized_top_k/top_50_categorical_accuracy: 0.6898 - val_factorized_top_k/top_100_categorical_accuracy: 0.6898 - val_binary_accuracy: 0.8345 - val_loss: 29.1494 - val_regularization_loss: 0.0000e+00 - val_total_loss: 29.1494\n",
            "Epoch 22/100\n",
            "398/398 [==============================] - 59s 149ms/step - factorized_top_k/top_1_categorical_accuracy: 0.3059 - factorized_top_k/top_5_categorical_accuracy: 0.4573 - factorized_top_k/top_10_categorical_accuracy: 0.4573 - factorized_top_k/top_50_categorical_accuracy: 0.4573 - factorized_top_k/top_100_categorical_accuracy: 0.4573 - binary_accuracy: 0.8219 - loss: 113.2240 - regularization_loss: 0.0000e+00 - total_loss: 113.2240 - val_factorized_top_k/top_1_categorical_accuracy: 0.4580 - val_factorized_top_k/top_5_categorical_accuracy: 0.6858 - val_factorized_top_k/top_10_categorical_accuracy: 0.6858 - val_factorized_top_k/top_50_categorical_accuracy: 0.6858 - val_factorized_top_k/top_100_categorical_accuracy: 0.6858 - val_binary_accuracy: 0.8345 - val_loss: 29.1494 - val_regularization_loss: 0.0000e+00 - val_total_loss: 29.1494\n",
            "Epoch 23/100\n",
            "398/398 [==============================] - 58s 146ms/step - factorized_top_k/top_1_categorical_accuracy: 0.3825 - factorized_top_k/top_5_categorical_accuracy: 0.5925 - factorized_top_k/top_10_categorical_accuracy: 0.5925 - factorized_top_k/top_50_categorical_accuracy: 0.5925 - factorized_top_k/top_100_categorical_accuracy: 0.5925 - binary_accuracy: 0.8219 - loss: 113.2197 - regularization_loss: 0.0000e+00 - total_loss: 113.2197 - val_factorized_top_k/top_1_categorical_accuracy: 0.4429 - val_factorized_top_k/top_5_categorical_accuracy: 0.6807 - val_factorized_top_k/top_10_categorical_accuracy: 0.6807 - val_factorized_top_k/top_50_categorical_accuracy: 0.6807 - val_factorized_top_k/top_100_categorical_accuracy: 0.6807 - val_binary_accuracy: 0.8345 - val_loss: 29.1494 - val_regularization_loss: 0.0000e+00 - val_total_loss: 29.1494\n",
            "Epoch 24/100\n",
            "398/398 [==============================] - 59s 147ms/step - factorized_top_k/top_1_categorical_accuracy: 0.3025 - factorized_top_k/top_5_categorical_accuracy: 0.4439 - factorized_top_k/top_10_categorical_accuracy: 0.4439 - factorized_top_k/top_50_categorical_accuracy: 0.4439 - factorized_top_k/top_100_categorical_accuracy: 0.4439 - binary_accuracy: 0.8221 - loss: 113.2197 - regularization_loss: 0.0000e+00 - total_loss: 113.2197 - val_factorized_top_k/top_1_categorical_accuracy: 0.4416 - val_factorized_top_k/top_5_categorical_accuracy: 0.6779 - val_factorized_top_k/top_10_categorical_accuracy: 0.6779 - val_factorized_top_k/top_50_categorical_accuracy: 0.6779 - val_factorized_top_k/top_100_categorical_accuracy: 0.6779 - val_binary_accuracy: 0.8345 - val_loss: 29.1494 - val_regularization_loss: 0.0000e+00 - val_total_loss: 29.1494\n",
            "Epoch 25/100\n",
            "398/398 [==============================] - 58s 145ms/step - factorized_top_k/top_1_categorical_accuracy: 0.3379 - factorized_top_k/top_5_categorical_accuracy: 0.4991 - factorized_top_k/top_10_categorical_accuracy: 0.4991 - factorized_top_k/top_50_categorical_accuracy: 0.4991 - factorized_top_k/top_100_categorical_accuracy: 0.4991 - binary_accuracy: 0.8221 - loss: 113.2155 - regularization_loss: 0.0000e+00 - total_loss: 113.2155 - val_factorized_top_k/top_1_categorical_accuracy: 0.4483 - val_factorized_top_k/top_5_categorical_accuracy: 0.6895 - val_factorized_top_k/top_10_categorical_accuracy: 0.6895 - val_factorized_top_k/top_50_categorical_accuracy: 0.6895 - val_factorized_top_k/top_100_categorical_accuracy: 0.6895 - val_binary_accuracy: 0.8345 - val_loss: 29.1494 - val_regularization_loss: 0.0000e+00 - val_total_loss: 29.1494\n",
            "Epoch 26/100\n",
            "398/398 [==============================] - 58s 145ms/step - factorized_top_k/top_1_categorical_accuracy: 0.3388 - factorized_top_k/top_5_categorical_accuracy: 0.5121 - factorized_top_k/top_10_categorical_accuracy: 0.5121 - factorized_top_k/top_50_categorical_accuracy: 0.5121 - factorized_top_k/top_100_categorical_accuracy: 0.5121 - binary_accuracy: 0.8221 - loss: 113.2197 - regularization_loss: 0.0000e+00 - total_loss: 113.2197 - val_factorized_top_k/top_1_categorical_accuracy: 0.4646 - val_factorized_top_k/top_5_categorical_accuracy: 0.7037 - val_factorized_top_k/top_10_categorical_accuracy: 0.7037 - val_factorized_top_k/top_50_categorical_accuracy: 0.7037 - val_factorized_top_k/top_100_categorical_accuracy: 0.7037 - val_binary_accuracy: 0.8345 - val_loss: 29.1494 - val_regularization_loss: 0.0000e+00 - val_total_loss: 29.1494\n",
            "Epoch 27/100\n",
            "398/398 [==============================] - 58s 146ms/step - factorized_top_k/top_1_categorical_accuracy: 0.3538 - factorized_top_k/top_5_categorical_accuracy: 0.5316 - factorized_top_k/top_10_categorical_accuracy: 0.5316 - factorized_top_k/top_50_categorical_accuracy: 0.5316 - factorized_top_k/top_100_categorical_accuracy: 0.5316 - binary_accuracy: 0.8221 - loss: 113.2283 - regularization_loss: 0.0000e+00 - total_loss: 113.2283 - val_factorized_top_k/top_1_categorical_accuracy: 0.4385 - val_factorized_top_k/top_5_categorical_accuracy: 0.6719 - val_factorized_top_k/top_10_categorical_accuracy: 0.6719 - val_factorized_top_k/top_50_categorical_accuracy: 0.6719 - val_factorized_top_k/top_100_categorical_accuracy: 0.6719 - val_binary_accuracy: 0.8345 - val_loss: 29.1494 - val_regularization_loss: 0.0000e+00 - val_total_loss: 29.1494\n",
            "Epoch 28/100\n",
            "398/398 [==============================] - 58s 146ms/step - factorized_top_k/top_1_categorical_accuracy: 0.2962 - factorized_top_k/top_5_categorical_accuracy: 0.4335 - factorized_top_k/top_10_categorical_accuracy: 0.4335 - factorized_top_k/top_50_categorical_accuracy: 0.4335 - factorized_top_k/top_100_categorical_accuracy: 0.4335 - binary_accuracy: 0.8221 - loss: 113.2282 - regularization_loss: 0.0000e+00 - total_loss: 113.2282 - val_factorized_top_k/top_1_categorical_accuracy: 0.4385 - val_factorized_top_k/top_5_categorical_accuracy: 0.6892 - val_factorized_top_k/top_10_categorical_accuracy: 0.6892 - val_factorized_top_k/top_50_categorical_accuracy: 0.6892 - val_factorized_top_k/top_100_categorical_accuracy: 0.6892 - val_binary_accuracy: 0.8345 - val_loss: 29.1494 - val_regularization_loss: 0.0000e+00 - val_total_loss: 29.1494\n",
            "Epoch 29/100\n",
            "398/398 [==============================] - 59s 147ms/step - factorized_top_k/top_1_categorical_accuracy: 0.3033 - factorized_top_k/top_5_categorical_accuracy: 0.4466 - factorized_top_k/top_10_categorical_accuracy: 0.4466 - factorized_top_k/top_50_categorical_accuracy: 0.4466 - factorized_top_k/top_100_categorical_accuracy: 0.4466 - binary_accuracy: 0.8221 - loss: 113.2240 - regularization_loss: 0.0000e+00 - total_loss: 113.2240 - val_factorized_top_k/top_1_categorical_accuracy: 0.4511 - val_factorized_top_k/top_5_categorical_accuracy: 0.6813 - val_factorized_top_k/top_10_categorical_accuracy: 0.6813 - val_factorized_top_k/top_50_categorical_accuracy: 0.6813 - val_factorized_top_k/top_100_categorical_accuracy: 0.6813 - val_binary_accuracy: 0.8345 - val_loss: 29.1494 - val_regularization_loss: 0.0000e+00 - val_total_loss: 29.1494\n",
            "Epoch 30/100\n",
            "398/398 [==============================] - 59s 149ms/step - factorized_top_k/top_1_categorical_accuracy: 0.3448 - factorized_top_k/top_5_categorical_accuracy: 0.5257 - factorized_top_k/top_10_categorical_accuracy: 0.5257 - factorized_top_k/top_50_categorical_accuracy: 0.5257 - factorized_top_k/top_100_categorical_accuracy: 0.5257 - binary_accuracy: 0.8221 - loss: 113.2155 - regularization_loss: 0.0000e+00 - total_loss: 113.2155 - val_factorized_top_k/top_1_categorical_accuracy: 0.4442 - val_factorized_top_k/top_5_categorical_accuracy: 0.6719 - val_factorized_top_k/top_10_categorical_accuracy: 0.6719 - val_factorized_top_k/top_50_categorical_accuracy: 0.6719 - val_factorized_top_k/top_100_categorical_accuracy: 0.6719 - val_binary_accuracy: 0.8345 - val_loss: 29.1494 - val_regularization_loss: 0.0000e+00 - val_total_loss: 29.1494\n",
            "Epoch 31/100\n",
            "398/398 [==============================] - 59s 148ms/step - factorized_top_k/top_1_categorical_accuracy: 0.3795 - factorized_top_k/top_5_categorical_accuracy: 0.5885 - factorized_top_k/top_10_categorical_accuracy: 0.5885 - factorized_top_k/top_50_categorical_accuracy: 0.5885 - factorized_top_k/top_100_categorical_accuracy: 0.5885 - binary_accuracy: 0.8221 - loss: 113.2221 - regularization_loss: 0.0000e+00 - total_loss: 113.2221 - val_factorized_top_k/top_1_categorical_accuracy: 0.4218 - val_factorized_top_k/top_5_categorical_accuracy: 0.6612 - val_factorized_top_k/top_10_categorical_accuracy: 0.6612 - val_factorized_top_k/top_50_categorical_accuracy: 0.6612 - val_factorized_top_k/top_100_categorical_accuracy: 0.6612 - val_binary_accuracy: 0.8345 - val_loss: 29.1494 - val_regularization_loss: 0.0000e+00 - val_total_loss: 29.1494\n",
            "Epoch 32/100\n",
            "398/398 [==============================] - 58s 147ms/step - factorized_top_k/top_1_categorical_accuracy: 0.3149 - factorized_top_k/top_5_categorical_accuracy: 0.4916 - factorized_top_k/top_10_categorical_accuracy: 0.4916 - factorized_top_k/top_50_categorical_accuracy: 0.4916 - factorized_top_k/top_100_categorical_accuracy: 0.4916 - binary_accuracy: 0.8221 - loss: 113.2200 - regularization_loss: 0.0000e+00 - total_loss: 113.2200 - val_factorized_top_k/top_1_categorical_accuracy: 0.4017 - val_factorized_top_k/top_5_categorical_accuracy: 0.6342 - val_factorized_top_k/top_10_categorical_accuracy: 0.6342 - val_factorized_top_k/top_50_categorical_accuracy: 0.6342 - val_factorized_top_k/top_100_categorical_accuracy: 0.6342 - val_binary_accuracy: 0.8345 - val_loss: 29.1494 - val_regularization_loss: 0.0000e+00 - val_total_loss: 29.1494\n",
            "Epoch 33/100\n",
            "398/398 [==============================] - 58s 146ms/step - factorized_top_k/top_1_categorical_accuracy: 0.2679 - factorized_top_k/top_5_categorical_accuracy: 0.4001 - factorized_top_k/top_10_categorical_accuracy: 0.4001 - factorized_top_k/top_50_categorical_accuracy: 0.4001 - factorized_top_k/top_100_categorical_accuracy: 0.4001 - binary_accuracy: 0.8221 - loss: 113.2157 - regularization_loss: 0.0000e+00 - total_loss: 113.2157 - val_factorized_top_k/top_1_categorical_accuracy: 0.4234 - val_factorized_top_k/top_5_categorical_accuracy: 0.6861 - val_factorized_top_k/top_10_categorical_accuracy: 0.6861 - val_factorized_top_k/top_50_categorical_accuracy: 0.6861 - val_factorized_top_k/top_100_categorical_accuracy: 0.6861 - val_binary_accuracy: 0.8345 - val_loss: 29.1494 - val_regularization_loss: 0.0000e+00 - val_total_loss: 29.1494\n",
            "Epoch 34/100\n",
            "398/398 [==============================] - 58s 147ms/step - factorized_top_k/top_1_categorical_accuracy: 0.3123 - factorized_top_k/top_5_categorical_accuracy: 0.4956 - factorized_top_k/top_10_categorical_accuracy: 0.4956 - factorized_top_k/top_50_categorical_accuracy: 0.4956 - factorized_top_k/top_100_categorical_accuracy: 0.4956 - binary_accuracy: 0.8221 - loss: 113.2243 - regularization_loss: 0.0000e+00 - total_loss: 113.2243 - val_factorized_top_k/top_1_categorical_accuracy: 0.4039 - val_factorized_top_k/top_5_categorical_accuracy: 0.6835 - val_factorized_top_k/top_10_categorical_accuracy: 0.6835 - val_factorized_top_k/top_50_categorical_accuracy: 0.6835 - val_factorized_top_k/top_100_categorical_accuracy: 0.6835 - val_binary_accuracy: 0.8345 - val_loss: 29.1494 - val_regularization_loss: 0.0000e+00 - val_total_loss: 29.1494\n",
            "Epoch 35/100\n",
            "398/398 [==============================] - 58s 145ms/step - factorized_top_k/top_1_categorical_accuracy: 0.3576 - factorized_top_k/top_5_categorical_accuracy: 0.5548 - factorized_top_k/top_10_categorical_accuracy: 0.5548 - factorized_top_k/top_50_categorical_accuracy: 0.5548 - factorized_top_k/top_100_categorical_accuracy: 0.5548 - binary_accuracy: 0.8218 - loss: 113.2200 - regularization_loss: 0.0000e+00 - total_loss: 113.2200 - val_factorized_top_k/top_1_categorical_accuracy: 0.3813 - val_factorized_top_k/top_5_categorical_accuracy: 0.6373 - val_factorized_top_k/top_10_categorical_accuracy: 0.6373 - val_factorized_top_k/top_50_categorical_accuracy: 0.6373 - val_factorized_top_k/top_100_categorical_accuracy: 0.6373 - val_binary_accuracy: 0.8345 - val_loss: 29.1494 - val_regularization_loss: 0.0000e+00 - val_total_loss: 29.1494\n",
            "Epoch 36/100\n",
            "398/398 [==============================] - 58s 146ms/step - factorized_top_k/top_1_categorical_accuracy: 0.3411 - factorized_top_k/top_5_categorical_accuracy: 0.5315 - factorized_top_k/top_10_categorical_accuracy: 0.5315 - factorized_top_k/top_50_categorical_accuracy: 0.5315 - factorized_top_k/top_100_categorical_accuracy: 0.5315 - binary_accuracy: 0.8221 - loss: 113.2328 - regularization_loss: 0.0000e+00 - total_loss: 113.2328 - val_factorized_top_k/top_1_categorical_accuracy: 0.3907 - val_factorized_top_k/top_5_categorical_accuracy: 0.6656 - val_factorized_top_k/top_10_categorical_accuracy: 0.6656 - val_factorized_top_k/top_50_categorical_accuracy: 0.6656 - val_factorized_top_k/top_100_categorical_accuracy: 0.6656 - val_binary_accuracy: 0.8345 - val_loss: 29.1494 - val_regularization_loss: 0.0000e+00 - val_total_loss: 29.1494\n",
            "Epoch 37/100\n",
            "398/398 [==============================] - 59s 149ms/step - factorized_top_k/top_1_categorical_accuracy: 0.3260 - factorized_top_k/top_5_categorical_accuracy: 0.4880 - factorized_top_k/top_10_categorical_accuracy: 0.4880 - factorized_top_k/top_50_categorical_accuracy: 0.4880 - factorized_top_k/top_100_categorical_accuracy: 0.4880 - binary_accuracy: 0.8218 - loss: 113.2329 - regularization_loss: 0.0000e+00 - total_loss: 113.2329 - val_factorized_top_k/top_1_categorical_accuracy: 0.4159 - val_factorized_top_k/top_5_categorical_accuracy: 0.6521 - val_factorized_top_k/top_10_categorical_accuracy: 0.6521 - val_factorized_top_k/top_50_categorical_accuracy: 0.6521 - val_factorized_top_k/top_100_categorical_accuracy: 0.6521 - val_binary_accuracy: 0.8345 - val_loss: 29.1494 - val_regularization_loss: 0.0000e+00 - val_total_loss: 29.1494\n",
            "Epoch 38/100\n",
            "398/398 [==============================] - 59s 149ms/step - factorized_top_k/top_1_categorical_accuracy: 0.3387 - factorized_top_k/top_5_categorical_accuracy: 0.5281 - factorized_top_k/top_10_categorical_accuracy: 0.5281 - factorized_top_k/top_50_categorical_accuracy: 0.5281 - factorized_top_k/top_100_categorical_accuracy: 0.5281 - binary_accuracy: 0.8221 - loss: 113.2286 - regularization_loss: 0.0000e+00 - total_loss: 113.2286 - val_factorized_top_k/top_1_categorical_accuracy: 0.4039 - val_factorized_top_k/top_5_categorical_accuracy: 0.6603 - val_factorized_top_k/top_10_categorical_accuracy: 0.6603 - val_factorized_top_k/top_50_categorical_accuracy: 0.6603 - val_factorized_top_k/top_100_categorical_accuracy: 0.6603 - val_binary_accuracy: 0.8345 - val_loss: 29.1494 - val_regularization_loss: 0.0000e+00 - val_total_loss: 29.1494\n",
            "Epoch 39/100\n",
            "398/398 [==============================] - 59s 149ms/step - factorized_top_k/top_1_categorical_accuracy: 0.2837 - factorized_top_k/top_5_categorical_accuracy: 0.4193 - factorized_top_k/top_10_categorical_accuracy: 0.4193 - factorized_top_k/top_50_categorical_accuracy: 0.4193 - factorized_top_k/top_100_categorical_accuracy: 0.4193 - binary_accuracy: 0.8216 - loss: 113.2373 - regularization_loss: 0.0000e+00 - total_loss: 113.2373 - val_factorized_top_k/top_1_categorical_accuracy: 0.4253 - val_factorized_top_k/top_5_categorical_accuracy: 0.6920 - val_factorized_top_k/top_10_categorical_accuracy: 0.6920 - val_factorized_top_k/top_50_categorical_accuracy: 0.6920 - val_factorized_top_k/top_100_categorical_accuracy: 0.6920 - val_binary_accuracy: 0.8345 - val_loss: 29.1494 - val_regularization_loss: 0.0000e+00 - val_total_loss: 29.1494\n",
            "Epoch 40/100\n",
            "398/398 [==============================] - 60s 150ms/step - factorized_top_k/top_1_categorical_accuracy: 0.3214 - factorized_top_k/top_5_categorical_accuracy: 0.5120 - factorized_top_k/top_10_categorical_accuracy: 0.5120 - factorized_top_k/top_50_categorical_accuracy: 0.5120 - factorized_top_k/top_100_categorical_accuracy: 0.5120 - binary_accuracy: 0.8218 - loss: 113.2379 - regularization_loss: 0.0000e+00 - total_loss: 113.2379 - val_factorized_top_k/top_1_categorical_accuracy: 0.4080 - val_factorized_top_k/top_5_categorical_accuracy: 0.6672 - val_factorized_top_k/top_10_categorical_accuracy: 0.6672 - val_factorized_top_k/top_50_categorical_accuracy: 0.6672 - val_factorized_top_k/top_100_categorical_accuracy: 0.6672 - val_binary_accuracy: 0.8345 - val_loss: 29.1494 - val_regularization_loss: 0.0000e+00 - val_total_loss: 29.1494\n",
            "Epoch 41/100\n",
            "398/398 [==============================] - 61s 153ms/step - factorized_top_k/top_1_categorical_accuracy: 0.2791 - factorized_top_k/top_5_categorical_accuracy: 0.4462 - factorized_top_k/top_10_categorical_accuracy: 0.4462 - factorized_top_k/top_50_categorical_accuracy: 0.4462 - factorized_top_k/top_100_categorical_accuracy: 0.4462 - binary_accuracy: 0.8221 - loss: 113.2441 - regularization_loss: 0.0000e+00 - total_loss: 113.2441 - val_factorized_top_k/top_1_categorical_accuracy: 0.4467 - val_factorized_top_k/top_5_categorical_accuracy: 0.7125 - val_factorized_top_k/top_10_categorical_accuracy: 0.7125 - val_factorized_top_k/top_50_categorical_accuracy: 0.7125 - val_factorized_top_k/top_100_categorical_accuracy: 0.7125 - val_binary_accuracy: 0.8345 - val_loss: 29.1494 - val_regularization_loss: 0.0000e+00 - val_total_loss: 29.1494\n",
            "Epoch 42/100\n",
            "398/398 [==============================] - 60s 150ms/step - factorized_top_k/top_1_categorical_accuracy: 0.3053 - factorized_top_k/top_5_categorical_accuracy: 0.4710 - factorized_top_k/top_10_categorical_accuracy: 0.4710 - factorized_top_k/top_50_categorical_accuracy: 0.4710 - factorized_top_k/top_100_categorical_accuracy: 0.4710 - binary_accuracy: 0.8221 - loss: 113.2484 - regularization_loss: 0.0000e+00 - total_loss: 113.2484 - val_factorized_top_k/top_1_categorical_accuracy: 0.4350 - val_factorized_top_k/top_5_categorical_accuracy: 0.6949 - val_factorized_top_k/top_10_categorical_accuracy: 0.6949 - val_factorized_top_k/top_50_categorical_accuracy: 0.6949 - val_factorized_top_k/top_100_categorical_accuracy: 0.6949 - val_binary_accuracy: 0.8345 - val_loss: 29.1494 - val_regularization_loss: 0.0000e+00 - val_total_loss: 29.1494\n",
            "Epoch 43/100\n",
            "398/398 [==============================] - 60s 150ms/step - factorized_top_k/top_1_categorical_accuracy: 0.3203 - factorized_top_k/top_5_categorical_accuracy: 0.4961 - factorized_top_k/top_10_categorical_accuracy: 0.4961 - factorized_top_k/top_50_categorical_accuracy: 0.4961 - factorized_top_k/top_100_categorical_accuracy: 0.4961 - binary_accuracy: 0.8221 - loss: 113.2484 - regularization_loss: 0.0000e+00 - total_loss: 113.2484 - val_factorized_top_k/top_1_categorical_accuracy: 0.4369 - val_factorized_top_k/top_5_categorical_accuracy: 0.6817 - val_factorized_top_k/top_10_categorical_accuracy: 0.6817 - val_factorized_top_k/top_50_categorical_accuracy: 0.6817 - val_factorized_top_k/top_100_categorical_accuracy: 0.6817 - val_binary_accuracy: 0.8345 - val_loss: 29.1494 - val_regularization_loss: 0.0000e+00 - val_total_loss: 29.1494\n",
            "Epoch 44/100\n",
            "398/398 [==============================] - 60s 150ms/step - factorized_top_k/top_1_categorical_accuracy: 0.4196 - factorized_top_k/top_5_categorical_accuracy: 0.6253 - factorized_top_k/top_10_categorical_accuracy: 0.6253 - factorized_top_k/top_50_categorical_accuracy: 0.6253 - factorized_top_k/top_100_categorical_accuracy: 0.6253 - binary_accuracy: 0.8221 - loss: 113.2441 - regularization_loss: 0.0000e+00 - total_loss: 113.2441 - val_factorized_top_k/top_1_categorical_accuracy: 0.4187 - val_factorized_top_k/top_5_categorical_accuracy: 0.6694 - val_factorized_top_k/top_10_categorical_accuracy: 0.6694 - val_factorized_top_k/top_50_categorical_accuracy: 0.6694 - val_factorized_top_k/top_100_categorical_accuracy: 0.6694 - val_binary_accuracy: 0.8345 - val_loss: 29.1494 - val_regularization_loss: 0.0000e+00 - val_total_loss: 29.1494\n",
            "Epoch 45/100\n",
            "398/398 [==============================] - 59s 150ms/step - factorized_top_k/top_1_categorical_accuracy: 0.3007 - factorized_top_k/top_5_categorical_accuracy: 0.4624 - factorized_top_k/top_10_categorical_accuracy: 0.4624 - factorized_top_k/top_50_categorical_accuracy: 0.4624 - factorized_top_k/top_100_categorical_accuracy: 0.4624 - binary_accuracy: 0.8221 - loss: 113.2441 - regularization_loss: 0.0000e+00 - total_loss: 113.2441 - val_factorized_top_k/top_1_categorical_accuracy: 0.4316 - val_factorized_top_k/top_5_categorical_accuracy: 0.6845 - val_factorized_top_k/top_10_categorical_accuracy: 0.6845 - val_factorized_top_k/top_50_categorical_accuracy: 0.6845 - val_factorized_top_k/top_100_categorical_accuracy: 0.6845 - val_binary_accuracy: 0.8345 - val_loss: 29.1494 - val_regularization_loss: 0.0000e+00 - val_total_loss: 29.1494\n",
            "Epoch 46/100\n",
            "398/398 [==============================] - 60s 150ms/step - factorized_top_k/top_1_categorical_accuracy: 0.4027 - factorized_top_k/top_5_categorical_accuracy: 0.6168 - factorized_top_k/top_10_categorical_accuracy: 0.6168 - factorized_top_k/top_50_categorical_accuracy: 0.6168 - factorized_top_k/top_100_categorical_accuracy: 0.6168 - binary_accuracy: 0.8221 - loss: 113.2356 - regularization_loss: 0.0000e+00 - total_loss: 113.2356 - val_factorized_top_k/top_1_categorical_accuracy: 0.4300 - val_factorized_top_k/top_5_categorical_accuracy: 0.6659 - val_factorized_top_k/top_10_categorical_accuracy: 0.6659 - val_factorized_top_k/top_50_categorical_accuracy: 0.6659 - val_factorized_top_k/top_100_categorical_accuracy: 0.6659 - val_binary_accuracy: 0.8345 - val_loss: 29.1494 - val_regularization_loss: 0.0000e+00 - val_total_loss: 29.1494\n",
            "Epoch 47/100\n",
            "398/398 [==============================] - 60s 150ms/step - factorized_top_k/top_1_categorical_accuracy: 0.3943 - factorized_top_k/top_5_categorical_accuracy: 0.6141 - factorized_top_k/top_10_categorical_accuracy: 0.6141 - factorized_top_k/top_50_categorical_accuracy: 0.6141 - factorized_top_k/top_100_categorical_accuracy: 0.6141 - binary_accuracy: 0.8221 - loss: 113.2484 - regularization_loss: 0.0000e+00 - total_loss: 113.2484 - val_factorized_top_k/top_1_categorical_accuracy: 0.4243 - val_factorized_top_k/top_5_categorical_accuracy: 0.6848 - val_factorized_top_k/top_10_categorical_accuracy: 0.6848 - val_factorized_top_k/top_50_categorical_accuracy: 0.6848 - val_factorized_top_k/top_100_categorical_accuracy: 0.6848 - val_binary_accuracy: 0.8345 - val_loss: 29.1494 - val_regularization_loss: 0.0000e+00 - val_total_loss: 29.1494\n",
            "Epoch 48/100\n",
            "398/398 [==============================] - 60s 151ms/step - factorized_top_k/top_1_categorical_accuracy: 0.2711 - factorized_top_k/top_5_categorical_accuracy: 0.4454 - factorized_top_k/top_10_categorical_accuracy: 0.4454 - factorized_top_k/top_50_categorical_accuracy: 0.4454 - factorized_top_k/top_100_categorical_accuracy: 0.4454 - binary_accuracy: 0.8221 - loss: 113.2441 - regularization_loss: 0.0000e+00 - total_loss: 113.2441 - val_factorized_top_k/top_1_categorical_accuracy: 0.4149 - val_factorized_top_k/top_5_categorical_accuracy: 0.6647 - val_factorized_top_k/top_10_categorical_accuracy: 0.6647 - val_factorized_top_k/top_50_categorical_accuracy: 0.6647 - val_factorized_top_k/top_100_categorical_accuracy: 0.6647 - val_binary_accuracy: 0.8345 - val_loss: 29.1494 - val_regularization_loss: 0.0000e+00 - val_total_loss: 29.1494\n",
            "Epoch 49/100\n",
            "398/398 [==============================] - 60s 151ms/step - factorized_top_k/top_1_categorical_accuracy: 0.3259 - factorized_top_k/top_5_categorical_accuracy: 0.4870 - factorized_top_k/top_10_categorical_accuracy: 0.4870 - factorized_top_k/top_50_categorical_accuracy: 0.4870 - factorized_top_k/top_100_categorical_accuracy: 0.4870 - binary_accuracy: 0.8221 - loss: 113.2399 - regularization_loss: 0.0000e+00 - total_loss: 113.2399 - val_factorized_top_k/top_1_categorical_accuracy: 0.4152 - val_factorized_top_k/top_5_categorical_accuracy: 0.6543 - val_factorized_top_k/top_10_categorical_accuracy: 0.6543 - val_factorized_top_k/top_50_categorical_accuracy: 0.6543 - val_factorized_top_k/top_100_categorical_accuracy: 0.6543 - val_binary_accuracy: 0.8345 - val_loss: 29.1494 - val_regularization_loss: 0.0000e+00 - val_total_loss: 29.1494\n",
            "Epoch 50/100\n",
            "398/398 [==============================] - 59s 148ms/step - factorized_top_k/top_1_categorical_accuracy: 0.3131 - factorized_top_k/top_5_categorical_accuracy: 0.4701 - factorized_top_k/top_10_categorical_accuracy: 0.4701 - factorized_top_k/top_50_categorical_accuracy: 0.4701 - factorized_top_k/top_100_categorical_accuracy: 0.4701 - binary_accuracy: 0.8221 - loss: 113.2484 - regularization_loss: 0.0000e+00 - total_loss: 113.2484 - val_factorized_top_k/top_1_categorical_accuracy: 0.4445 - val_factorized_top_k/top_5_categorical_accuracy: 0.6880 - val_factorized_top_k/top_10_categorical_accuracy: 0.6880 - val_factorized_top_k/top_50_categorical_accuracy: 0.6880 - val_factorized_top_k/top_100_categorical_accuracy: 0.6880 - val_binary_accuracy: 0.8345 - val_loss: 29.1494 - val_regularization_loss: 0.0000e+00 - val_total_loss: 29.1494\n",
            "Epoch 51/100\n",
            "398/398 [==============================] - 59s 147ms/step - factorized_top_k/top_1_categorical_accuracy: 0.3164 - factorized_top_k/top_5_categorical_accuracy: 0.4826 - factorized_top_k/top_10_categorical_accuracy: 0.4826 - factorized_top_k/top_50_categorical_accuracy: 0.4826 - factorized_top_k/top_100_categorical_accuracy: 0.4826 - binary_accuracy: 0.8221 - loss: 113.2484 - regularization_loss: 0.0000e+00 - total_loss: 113.2484 - val_factorized_top_k/top_1_categorical_accuracy: 0.4495 - val_factorized_top_k/top_5_categorical_accuracy: 0.7122 - val_factorized_top_k/top_10_categorical_accuracy: 0.7122 - val_factorized_top_k/top_50_categorical_accuracy: 0.7122 - val_factorized_top_k/top_100_categorical_accuracy: 0.7122 - val_binary_accuracy: 0.8345 - val_loss: 29.1494 - val_regularization_loss: 0.0000e+00 - val_total_loss: 29.1494\n",
            "Epoch 52/100\n",
            "398/398 [==============================] - 58s 146ms/step - factorized_top_k/top_1_categorical_accuracy: 0.3193 - factorized_top_k/top_5_categorical_accuracy: 0.4755 - factorized_top_k/top_10_categorical_accuracy: 0.4755 - factorized_top_k/top_50_categorical_accuracy: 0.4755 - factorized_top_k/top_100_categorical_accuracy: 0.4755 - binary_accuracy: 0.8221 - loss: 113.2441 - regularization_loss: 0.0000e+00 - total_loss: 113.2441 - val_factorized_top_k/top_1_categorical_accuracy: 0.4228 - val_factorized_top_k/top_5_categorical_accuracy: 0.6854 - val_factorized_top_k/top_10_categorical_accuracy: 0.6854 - val_factorized_top_k/top_50_categorical_accuracy: 0.6854 - val_factorized_top_k/top_100_categorical_accuracy: 0.6854 - val_binary_accuracy: 0.8345 - val_loss: 29.1494 - val_regularization_loss: 0.0000e+00 - val_total_loss: 29.1494\n",
            "Epoch 53/100\n",
            "398/398 [==============================] - 59s 149ms/step - factorized_top_k/top_1_categorical_accuracy: 0.2526 - factorized_top_k/top_5_categorical_accuracy: 0.4063 - factorized_top_k/top_10_categorical_accuracy: 0.4063 - factorized_top_k/top_50_categorical_accuracy: 0.4063 - factorized_top_k/top_100_categorical_accuracy: 0.4063 - binary_accuracy: 0.8221 - loss: 113.2441 - regularization_loss: 0.0000e+00 - total_loss: 113.2441 - val_factorized_top_k/top_1_categorical_accuracy: 0.4168 - val_factorized_top_k/top_5_categorical_accuracy: 0.6757 - val_factorized_top_k/top_10_categorical_accuracy: 0.6757 - val_factorized_top_k/top_50_categorical_accuracy: 0.6757 - val_factorized_top_k/top_100_categorical_accuracy: 0.6757 - val_binary_accuracy: 0.8345 - val_loss: 29.1494 - val_regularization_loss: 0.0000e+00 - val_total_loss: 29.1494\n",
            "Epoch 54/100\n",
            "398/398 [==============================] - 59s 148ms/step - factorized_top_k/top_1_categorical_accuracy: 0.2775 - factorized_top_k/top_5_categorical_accuracy: 0.4514 - factorized_top_k/top_10_categorical_accuracy: 0.4514 - factorized_top_k/top_50_categorical_accuracy: 0.4514 - factorized_top_k/top_100_categorical_accuracy: 0.4514 - binary_accuracy: 0.8221 - loss: 113.2484 - regularization_loss: 0.0000e+00 - total_loss: 113.2484 - val_factorized_top_k/top_1_categorical_accuracy: 0.4448 - val_factorized_top_k/top_5_categorical_accuracy: 0.6873 - val_factorized_top_k/top_10_categorical_accuracy: 0.6873 - val_factorized_top_k/top_50_categorical_accuracy: 0.6873 - val_factorized_top_k/top_100_categorical_accuracy: 0.6873 - val_binary_accuracy: 0.8345 - val_loss: 29.1494 - val_regularization_loss: 0.0000e+00 - val_total_loss: 29.1494\n",
            "Epoch 55/100\n",
            "398/398 [==============================] - 59s 149ms/step - factorized_top_k/top_1_categorical_accuracy: 0.3172 - factorized_top_k/top_5_categorical_accuracy: 0.4932 - factorized_top_k/top_10_categorical_accuracy: 0.4932 - factorized_top_k/top_50_categorical_accuracy: 0.4932 - factorized_top_k/top_100_categorical_accuracy: 0.4932 - binary_accuracy: 0.8221 - loss: 113.2441 - regularization_loss: 0.0000e+00 - total_loss: 113.2441 - val_factorized_top_k/top_1_categorical_accuracy: 0.4199 - val_factorized_top_k/top_5_categorical_accuracy: 0.6574 - val_factorized_top_k/top_10_categorical_accuracy: 0.6574 - val_factorized_top_k/top_50_categorical_accuracy: 0.6574 - val_factorized_top_k/top_100_categorical_accuracy: 0.6574 - val_binary_accuracy: 0.8345 - val_loss: 29.1494 - val_regularization_loss: 0.0000e+00 - val_total_loss: 29.1494\n",
            "Epoch 56/100\n",
            "398/398 [==============================] - 59s 149ms/step - factorized_top_k/top_1_categorical_accuracy: 0.3450 - factorized_top_k/top_5_categorical_accuracy: 0.5459 - factorized_top_k/top_10_categorical_accuracy: 0.5459 - factorized_top_k/top_50_categorical_accuracy: 0.5459 - factorized_top_k/top_100_categorical_accuracy: 0.5459 - binary_accuracy: 0.8221 - loss: 113.2399 - regularization_loss: 0.0000e+00 - total_loss: 113.2399 - val_factorized_top_k/top_1_categorical_accuracy: 0.4140 - val_factorized_top_k/top_5_categorical_accuracy: 0.6590 - val_factorized_top_k/top_10_categorical_accuracy: 0.6590 - val_factorized_top_k/top_50_categorical_accuracy: 0.6590 - val_factorized_top_k/top_100_categorical_accuracy: 0.6590 - val_binary_accuracy: 0.8345 - val_loss: 29.1494 - val_regularization_loss: 0.0000e+00 - val_total_loss: 29.1494\n",
            "Epoch 57/100\n",
            "398/398 [==============================] - 59s 149ms/step - factorized_top_k/top_1_categorical_accuracy: 0.1188 - factorized_top_k/top_5_categorical_accuracy: 0.1940 - factorized_top_k/top_10_categorical_accuracy: 0.1940 - factorized_top_k/top_50_categorical_accuracy: 0.1940 - factorized_top_k/top_100_categorical_accuracy: 0.1940 - binary_accuracy: 0.8221 - loss: 113.2441 - regularization_loss: 0.0000e+00 - total_loss: 113.2441 - val_factorized_top_k/top_1_categorical_accuracy: 0.3885 - val_factorized_top_k/top_5_categorical_accuracy: 0.6647 - val_factorized_top_k/top_10_categorical_accuracy: 0.6647 - val_factorized_top_k/top_50_categorical_accuracy: 0.6647 - val_factorized_top_k/top_100_categorical_accuracy: 0.6647 - val_binary_accuracy: 0.8345 - val_loss: 29.1494 - val_regularization_loss: 0.0000e+00 - val_total_loss: 29.1494\n",
            "Epoch 58/100\n",
            "398/398 [==============================] - 59s 148ms/step - factorized_top_k/top_1_categorical_accuracy: 0.3495 - factorized_top_k/top_5_categorical_accuracy: 0.5581 - factorized_top_k/top_10_categorical_accuracy: 0.5581 - factorized_top_k/top_50_categorical_accuracy: 0.5581 - factorized_top_k/top_100_categorical_accuracy: 0.5581 - binary_accuracy: 0.8221 - loss: 113.2569 - regularization_loss: 0.0000e+00 - total_loss: 113.2569 - val_factorized_top_k/top_1_categorical_accuracy: 0.3888 - val_factorized_top_k/top_5_categorical_accuracy: 0.6622 - val_factorized_top_k/top_10_categorical_accuracy: 0.6622 - val_factorized_top_k/top_50_categorical_accuracy: 0.6622 - val_factorized_top_k/top_100_categorical_accuracy: 0.6622 - val_binary_accuracy: 0.8345 - val_loss: 29.1494 - val_regularization_loss: 0.0000e+00 - val_total_loss: 29.1494\n",
            "Epoch 59/100\n",
            "398/398 [==============================] - 68s 172ms/step - factorized_top_k/top_1_categorical_accuracy: 0.2513 - factorized_top_k/top_5_categorical_accuracy: 0.4420 - factorized_top_k/top_10_categorical_accuracy: 0.4420 - factorized_top_k/top_50_categorical_accuracy: 0.4420 - factorized_top_k/top_100_categorical_accuracy: 0.4420 - binary_accuracy: 0.8221 - loss: 113.2441 - regularization_loss: 0.0000e+00 - total_loss: 113.2441 - val_factorized_top_k/top_1_categorical_accuracy: 0.4155 - val_factorized_top_k/top_5_categorical_accuracy: 0.7053 - val_factorized_top_k/top_10_categorical_accuracy: 0.7053 - val_factorized_top_k/top_50_categorical_accuracy: 0.7053 - val_factorized_top_k/top_100_categorical_accuracy: 0.7053 - val_binary_accuracy: 0.8345 - val_loss: 29.1494 - val_regularization_loss: 0.0000e+00 - val_total_loss: 29.1494\n",
            "Epoch 60/100\n",
            "398/398 [==============================] - 69s 173ms/step - factorized_top_k/top_1_categorical_accuracy: 0.3133 - factorized_top_k/top_5_categorical_accuracy: 0.4950 - factorized_top_k/top_10_categorical_accuracy: 0.4950 - factorized_top_k/top_50_categorical_accuracy: 0.4950 - factorized_top_k/top_100_categorical_accuracy: 0.4950 - binary_accuracy: 0.8221 - loss: 113.2356 - regularization_loss: 0.0000e+00 - total_loss: 113.2356 - val_factorized_top_k/top_1_categorical_accuracy: 0.4127 - val_factorized_top_k/top_5_categorical_accuracy: 0.6637 - val_factorized_top_k/top_10_categorical_accuracy: 0.6637 - val_factorized_top_k/top_50_categorical_accuracy: 0.6637 - val_factorized_top_k/top_100_categorical_accuracy: 0.6637 - val_binary_accuracy: 0.8345 - val_loss: 29.1494 - val_regularization_loss: 0.0000e+00 - val_total_loss: 29.1494\n",
            "Epoch 61/100\n",
            "398/398 [==============================] - 59s 149ms/step - factorized_top_k/top_1_categorical_accuracy: 0.4320 - factorized_top_k/top_5_categorical_accuracy: 0.6288 - factorized_top_k/top_10_categorical_accuracy: 0.6288 - factorized_top_k/top_50_categorical_accuracy: 0.6288 - factorized_top_k/top_100_categorical_accuracy: 0.6288 - binary_accuracy: 0.8221 - loss: 113.2484 - regularization_loss: 0.0000e+00 - total_loss: 113.2484 - val_factorized_top_k/top_1_categorical_accuracy: 0.4615 - val_factorized_top_k/top_5_categorical_accuracy: 0.6751 - val_factorized_top_k/top_10_categorical_accuracy: 0.6751 - val_factorized_top_k/top_50_categorical_accuracy: 0.6751 - val_factorized_top_k/top_100_categorical_accuracy: 0.6751 - val_binary_accuracy: 0.8345 - val_loss: 29.1494 - val_regularization_loss: 0.0000e+00 - val_total_loss: 29.1494\n",
            "Epoch 62/100\n",
            "398/398 [==============================] - 60s 150ms/step - factorized_top_k/top_1_categorical_accuracy: 0.3713 - factorized_top_k/top_5_categorical_accuracy: 0.5237 - factorized_top_k/top_10_categorical_accuracy: 0.5237 - factorized_top_k/top_50_categorical_accuracy: 0.5237 - factorized_top_k/top_100_categorical_accuracy: 0.5237 - binary_accuracy: 0.8221 - loss: 113.2356 - regularization_loss: 0.0000e+00 - total_loss: 113.2356 - val_factorized_top_k/top_1_categorical_accuracy: 0.4690 - val_factorized_top_k/top_5_categorical_accuracy: 0.6719 - val_factorized_top_k/top_10_categorical_accuracy: 0.6719 - val_factorized_top_k/top_50_categorical_accuracy: 0.6719 - val_factorized_top_k/top_100_categorical_accuracy: 0.6719 - val_binary_accuracy: 0.8345 - val_loss: 29.1494 - val_regularization_loss: 0.0000e+00 - val_total_loss: 29.1494\n",
            "Epoch 63/100\n",
            "398/398 [==============================] - 60s 151ms/step - factorized_top_k/top_1_categorical_accuracy: 0.3563 - factorized_top_k/top_5_categorical_accuracy: 0.5061 - factorized_top_k/top_10_categorical_accuracy: 0.5061 - factorized_top_k/top_50_categorical_accuracy: 0.5061 - factorized_top_k/top_100_categorical_accuracy: 0.5061 - binary_accuracy: 0.8221 - loss: 113.2399 - regularization_loss: 0.0000e+00 - total_loss: 113.2399 - val_factorized_top_k/top_1_categorical_accuracy: 0.4514 - val_factorized_top_k/top_5_categorical_accuracy: 0.6977 - val_factorized_top_k/top_10_categorical_accuracy: 0.6977 - val_factorized_top_k/top_50_categorical_accuracy: 0.6977 - val_factorized_top_k/top_100_categorical_accuracy: 0.6977 - val_binary_accuracy: 0.8345 - val_loss: 29.1494 - val_regularization_loss: 0.0000e+00 - val_total_loss: 29.1494\n",
            "Epoch 64/100\n",
            "398/398 [==============================] - 60s 151ms/step - factorized_top_k/top_1_categorical_accuracy: 0.2966 - factorized_top_k/top_5_categorical_accuracy: 0.4307 - factorized_top_k/top_10_categorical_accuracy: 0.4307 - factorized_top_k/top_50_categorical_accuracy: 0.4307 - factorized_top_k/top_100_categorical_accuracy: 0.4307 - binary_accuracy: 0.8221 - loss: 113.2527 - regularization_loss: 0.0000e+00 - total_loss: 113.2527 - val_factorized_top_k/top_1_categorical_accuracy: 0.4879 - val_factorized_top_k/top_5_categorical_accuracy: 0.6927 - val_factorized_top_k/top_10_categorical_accuracy: 0.6927 - val_factorized_top_k/top_50_categorical_accuracy: 0.6927 - val_factorized_top_k/top_100_categorical_accuracy: 0.6927 - val_binary_accuracy: 0.8345 - val_loss: 29.1494 - val_regularization_loss: 0.0000e+00 - val_total_loss: 29.1494\n",
            "Epoch 65/100\n",
            "398/398 [==============================] - 59s 148ms/step - factorized_top_k/top_1_categorical_accuracy: 0.3523 - factorized_top_k/top_5_categorical_accuracy: 0.4825 - factorized_top_k/top_10_categorical_accuracy: 0.4825 - factorized_top_k/top_50_categorical_accuracy: 0.4825 - factorized_top_k/top_100_categorical_accuracy: 0.4825 - binary_accuracy: 0.8221 - loss: 113.2527 - regularization_loss: 0.0000e+00 - total_loss: 113.2527 - val_factorized_top_k/top_1_categorical_accuracy: 0.4209 - val_factorized_top_k/top_5_categorical_accuracy: 0.6864 - val_factorized_top_k/top_10_categorical_accuracy: 0.6864 - val_factorized_top_k/top_50_categorical_accuracy: 0.6864 - val_factorized_top_k/top_100_categorical_accuracy: 0.6864 - val_binary_accuracy: 0.8345 - val_loss: 29.1494 - val_regularization_loss: 0.0000e+00 - val_total_loss: 29.1494\n",
            "Epoch 66/100\n",
            "398/398 [==============================] - 58s 146ms/step - factorized_top_k/top_1_categorical_accuracy: 0.2789 - factorized_top_k/top_5_categorical_accuracy: 0.4499 - factorized_top_k/top_10_categorical_accuracy: 0.4499 - factorized_top_k/top_50_categorical_accuracy: 0.4499 - factorized_top_k/top_100_categorical_accuracy: 0.4499 - binary_accuracy: 0.8221 - loss: 113.2484 - regularization_loss: 0.0000e+00 - total_loss: 113.2484 - val_factorized_top_k/top_1_categorical_accuracy: 0.4206 - val_factorized_top_k/top_5_categorical_accuracy: 0.6732 - val_factorized_top_k/top_10_categorical_accuracy: 0.6732 - val_factorized_top_k/top_50_categorical_accuracy: 0.6732 - val_factorized_top_k/top_100_categorical_accuracy: 0.6732 - val_binary_accuracy: 0.8345 - val_loss: 29.1494 - val_regularization_loss: 0.0000e+00 - val_total_loss: 29.1494\n",
            "Epoch 67/100\n",
            "398/398 [==============================] - 57s 144ms/step - factorized_top_k/top_1_categorical_accuracy: 0.3156 - factorized_top_k/top_5_categorical_accuracy: 0.4704 - factorized_top_k/top_10_categorical_accuracy: 0.4704 - factorized_top_k/top_50_categorical_accuracy: 0.4704 - factorized_top_k/top_100_categorical_accuracy: 0.4704 - binary_accuracy: 0.8221 - loss: 113.2484 - regularization_loss: 0.0000e+00 - total_loss: 113.2484 - val_factorized_top_k/top_1_categorical_accuracy: 0.4137 - val_factorized_top_k/top_5_categorical_accuracy: 0.6807 - val_factorized_top_k/top_10_categorical_accuracy: 0.6807 - val_factorized_top_k/top_50_categorical_accuracy: 0.6807 - val_factorized_top_k/top_100_categorical_accuracy: 0.6807 - val_binary_accuracy: 0.8345 - val_loss: 29.1494 - val_regularization_loss: 0.0000e+00 - val_total_loss: 29.1494\n",
            "Epoch 68/100\n",
            "398/398 [==============================] - 59s 148ms/step - factorized_top_k/top_1_categorical_accuracy: 0.2279 - factorized_top_k/top_5_categorical_accuracy: 0.4990 - factorized_top_k/top_10_categorical_accuracy: 0.4990 - factorized_top_k/top_50_categorical_accuracy: 0.4990 - factorized_top_k/top_100_categorical_accuracy: 0.4990 - binary_accuracy: 0.8221 - loss: 113.2441 - regularization_loss: 0.0000e+00 - total_loss: 113.2441 - val_factorized_top_k/top_1_categorical_accuracy: 0.3190 - val_factorized_top_k/top_5_categorical_accuracy: 0.6596 - val_factorized_top_k/top_10_categorical_accuracy: 0.6596 - val_factorized_top_k/top_50_categorical_accuracy: 0.6596 - val_factorized_top_k/top_100_categorical_accuracy: 0.6596 - val_binary_accuracy: 0.8345 - val_loss: 29.1494 - val_regularization_loss: 0.0000e+00 - val_total_loss: 29.1494\n",
            "Epoch 69/100\n",
            "398/398 [==============================] - 60s 151ms/step - factorized_top_k/top_1_categorical_accuracy: 0.3201 - factorized_top_k/top_5_categorical_accuracy: 0.4764 - factorized_top_k/top_10_categorical_accuracy: 0.4764 - factorized_top_k/top_50_categorical_accuracy: 0.4764 - factorized_top_k/top_100_categorical_accuracy: 0.4764 - binary_accuracy: 0.8221 - loss: 113.2441 - regularization_loss: 0.0000e+00 - total_loss: 113.2441 - val_factorized_top_k/top_1_categorical_accuracy: 0.4888 - val_factorized_top_k/top_5_categorical_accuracy: 0.6889 - val_factorized_top_k/top_10_categorical_accuracy: 0.6889 - val_factorized_top_k/top_50_categorical_accuracy: 0.6889 - val_factorized_top_k/top_100_categorical_accuracy: 0.6889 - val_binary_accuracy: 0.8345 - val_loss: 29.1494 - val_regularization_loss: 0.0000e+00 - val_total_loss: 29.1494\n",
            "Epoch 70/100\n",
            "398/398 [==============================] - 61s 153ms/step - factorized_top_k/top_1_categorical_accuracy: 0.2938 - factorized_top_k/top_5_categorical_accuracy: 0.4380 - factorized_top_k/top_10_categorical_accuracy: 0.4380 - factorized_top_k/top_50_categorical_accuracy: 0.4380 - factorized_top_k/top_100_categorical_accuracy: 0.4380 - binary_accuracy: 0.8221 - loss: 113.2484 - regularization_loss: 0.0000e+00 - total_loss: 113.2484 - val_factorized_top_k/top_1_categorical_accuracy: 0.5024 - val_factorized_top_k/top_5_categorical_accuracy: 0.6974 - val_factorized_top_k/top_10_categorical_accuracy: 0.6974 - val_factorized_top_k/top_50_categorical_accuracy: 0.6974 - val_factorized_top_k/top_100_categorical_accuracy: 0.6974 - val_binary_accuracy: 0.8345 - val_loss: 29.1494 - val_regularization_loss: 0.0000e+00 - val_total_loss: 29.1494\n",
            "Epoch 71/100\n",
            "398/398 [==============================] - 60s 150ms/step - factorized_top_k/top_1_categorical_accuracy: 0.2795 - factorized_top_k/top_5_categorical_accuracy: 0.3976 - factorized_top_k/top_10_categorical_accuracy: 0.3976 - factorized_top_k/top_50_categorical_accuracy: 0.3976 - factorized_top_k/top_100_categorical_accuracy: 0.3976 - binary_accuracy: 0.8221 - loss: 113.2527 - regularization_loss: 0.0000e+00 - total_loss: 113.2527 - val_factorized_top_k/top_1_categorical_accuracy: 0.4800 - val_factorized_top_k/top_5_categorical_accuracy: 0.6930 - val_factorized_top_k/top_10_categorical_accuracy: 0.6930 - val_factorized_top_k/top_50_categorical_accuracy: 0.6930 - val_factorized_top_k/top_100_categorical_accuracy: 0.6930 - val_binary_accuracy: 0.8345 - val_loss: 29.1494 - val_regularization_loss: 0.0000e+00 - val_total_loss: 29.1494\n",
            "Epoch 72/100\n",
            "398/398 [==============================] - 59s 149ms/step - factorized_top_k/top_1_categorical_accuracy: 0.2620 - factorized_top_k/top_5_categorical_accuracy: 0.4050 - factorized_top_k/top_10_categorical_accuracy: 0.4050 - factorized_top_k/top_50_categorical_accuracy: 0.4050 - factorized_top_k/top_100_categorical_accuracy: 0.4050 - binary_accuracy: 0.8221 - loss: 113.2569 - regularization_loss: 0.0000e+00 - total_loss: 113.2569 - val_factorized_top_k/top_1_categorical_accuracy: 0.4146 - val_factorized_top_k/top_5_categorical_accuracy: 0.6710 - val_factorized_top_k/top_10_categorical_accuracy: 0.6710 - val_factorized_top_k/top_50_categorical_accuracy: 0.6710 - val_factorized_top_k/top_100_categorical_accuracy: 0.6710 - val_binary_accuracy: 0.8345 - val_loss: 29.1494 - val_regularization_loss: 0.0000e+00 - val_total_loss: 29.1494\n",
            "Epoch 73/100\n",
            "398/398 [==============================] - 59s 149ms/step - factorized_top_k/top_1_categorical_accuracy: 0.1827 - factorized_top_k/top_5_categorical_accuracy: 0.4674 - factorized_top_k/top_10_categorical_accuracy: 0.4674 - factorized_top_k/top_50_categorical_accuracy: 0.4674 - factorized_top_k/top_100_categorical_accuracy: 0.4674 - binary_accuracy: 0.8221 - loss: 113.2399 - regularization_loss: 0.0000e+00 - total_loss: 113.2399 - val_factorized_top_k/top_1_categorical_accuracy: 0.3183 - val_factorized_top_k/top_5_categorical_accuracy: 0.6798 - val_factorized_top_k/top_10_categorical_accuracy: 0.6798 - val_factorized_top_k/top_50_categorical_accuracy: 0.6798 - val_factorized_top_k/top_100_categorical_accuracy: 0.6798 - val_binary_accuracy: 0.8345 - val_loss: 29.1494 - val_regularization_loss: 0.0000e+00 - val_total_loss: 29.1494\n",
            "Epoch 74/100\n",
            "398/398 [==============================] - 59s 149ms/step - factorized_top_k/top_1_categorical_accuracy: 0.1724 - factorized_top_k/top_5_categorical_accuracy: 0.4142 - factorized_top_k/top_10_categorical_accuracy: 0.4142 - factorized_top_k/top_50_categorical_accuracy: 0.4142 - factorized_top_k/top_100_categorical_accuracy: 0.4142 - binary_accuracy: 0.8221 - loss: 113.2441 - regularization_loss: 0.0000e+00 - total_loss: 113.2441 - val_factorized_top_k/top_1_categorical_accuracy: 0.3627 - val_factorized_top_k/top_5_categorical_accuracy: 0.6707 - val_factorized_top_k/top_10_categorical_accuracy: 0.6707 - val_factorized_top_k/top_50_categorical_accuracy: 0.6707 - val_factorized_top_k/top_100_categorical_accuracy: 0.6707 - val_binary_accuracy: 0.8345 - val_loss: 29.1494 - val_regularization_loss: 0.0000e+00 - val_total_loss: 29.1494\n",
            "Epoch 75/100\n",
            "398/398 [==============================] - 60s 151ms/step - factorized_top_k/top_1_categorical_accuracy: 0.2710 - factorized_top_k/top_5_categorical_accuracy: 0.5106 - factorized_top_k/top_10_categorical_accuracy: 0.5106 - factorized_top_k/top_50_categorical_accuracy: 0.5106 - factorized_top_k/top_100_categorical_accuracy: 0.5106 - binary_accuracy: 0.8221 - loss: 113.2484 - regularization_loss: 0.0000e+00 - total_loss: 113.2484 - val_factorized_top_k/top_1_categorical_accuracy: 0.3237 - val_factorized_top_k/top_5_categorical_accuracy: 0.6763 - val_factorized_top_k/top_10_categorical_accuracy: 0.6763 - val_factorized_top_k/top_50_categorical_accuracy: 0.6763 - val_factorized_top_k/top_100_categorical_accuracy: 0.6763 - val_binary_accuracy: 0.8345 - val_loss: 29.1494 - val_regularization_loss: 0.0000e+00 - val_total_loss: 29.1494\n",
            "Epoch 76/100\n",
            "398/398 [==============================] - 59s 149ms/step - factorized_top_k/top_1_categorical_accuracy: 0.1396 - factorized_top_k/top_5_categorical_accuracy: 0.5141 - factorized_top_k/top_10_categorical_accuracy: 0.5141 - factorized_top_k/top_50_categorical_accuracy: 0.5141 - factorized_top_k/top_100_categorical_accuracy: 0.5141 - binary_accuracy: 0.8221 - loss: 113.2527 - regularization_loss: 0.0000e+00 - total_loss: 113.2527 - val_factorized_top_k/top_1_categorical_accuracy: 0.2554 - val_factorized_top_k/top_5_categorical_accuracy: 0.6713 - val_factorized_top_k/top_10_categorical_accuracy: 0.6713 - val_factorized_top_k/top_50_categorical_accuracy: 0.6713 - val_factorized_top_k/top_100_categorical_accuracy: 0.6713 - val_binary_accuracy: 0.8345 - val_loss: 29.1494 - val_regularization_loss: 0.0000e+00 - val_total_loss: 29.1494\n",
            "Epoch 77/100\n",
            "398/398 [==============================] - 60s 150ms/step - factorized_top_k/top_1_categorical_accuracy: 0.3245 - factorized_top_k/top_5_categorical_accuracy: 0.5644 - factorized_top_k/top_10_categorical_accuracy: 0.5644 - factorized_top_k/top_50_categorical_accuracy: 0.5644 - factorized_top_k/top_100_categorical_accuracy: 0.5644 - binary_accuracy: 0.8221 - loss: 113.2484 - regularization_loss: 0.0000e+00 - total_loss: 113.2484 - val_factorized_top_k/top_1_categorical_accuracy: 0.4420 - val_factorized_top_k/top_5_categorical_accuracy: 0.6924 - val_factorized_top_k/top_10_categorical_accuracy: 0.6924 - val_factorized_top_k/top_50_categorical_accuracy: 0.6924 - val_factorized_top_k/top_100_categorical_accuracy: 0.6924 - val_binary_accuracy: 0.8345 - val_loss: 29.1494 - val_regularization_loss: 0.0000e+00 - val_total_loss: 29.1494\n",
            "Epoch 78/100\n",
            "398/398 [==============================] - 60s 150ms/step - factorized_top_k/top_1_categorical_accuracy: 0.3940 - factorized_top_k/top_5_categorical_accuracy: 0.5421 - factorized_top_k/top_10_categorical_accuracy: 0.5421 - factorized_top_k/top_50_categorical_accuracy: 0.5421 - factorized_top_k/top_100_categorical_accuracy: 0.5421 - binary_accuracy: 0.8221 - loss: 113.2399 - regularization_loss: 0.0000e+00 - total_loss: 113.2399 - val_factorized_top_k/top_1_categorical_accuracy: 0.5360 - val_factorized_top_k/top_5_categorical_accuracy: 0.6801 - val_factorized_top_k/top_10_categorical_accuracy: 0.6801 - val_factorized_top_k/top_50_categorical_accuracy: 0.6801 - val_factorized_top_k/top_100_categorical_accuracy: 0.6801 - val_binary_accuracy: 0.8345 - val_loss: 29.1494 - val_regularization_loss: 0.0000e+00 - val_total_loss: 29.1494\n",
            "Epoch 79/100\n",
            "398/398 [==============================] - 59s 148ms/step - factorized_top_k/top_1_categorical_accuracy: 0.3769 - factorized_top_k/top_5_categorical_accuracy: 0.5023 - factorized_top_k/top_10_categorical_accuracy: 0.5023 - factorized_top_k/top_50_categorical_accuracy: 0.5023 - factorized_top_k/top_100_categorical_accuracy: 0.5023 - binary_accuracy: 0.8221 - loss: 113.2441 - regularization_loss: 0.0000e+00 - total_loss: 113.2441 - val_factorized_top_k/top_1_categorical_accuracy: 0.5200 - val_factorized_top_k/top_5_categorical_accuracy: 0.6684 - val_factorized_top_k/top_10_categorical_accuracy: 0.6684 - val_factorized_top_k/top_50_categorical_accuracy: 0.6684 - val_factorized_top_k/top_100_categorical_accuracy: 0.6684 - val_binary_accuracy: 0.8345 - val_loss: 29.1494 - val_regularization_loss: 0.0000e+00 - val_total_loss: 29.1494\n",
            "Epoch 80/100\n",
            "398/398 [==============================] - 59s 149ms/step - factorized_top_k/top_1_categorical_accuracy: 0.3166 - factorized_top_k/top_5_categorical_accuracy: 0.4395 - factorized_top_k/top_10_categorical_accuracy: 0.4395 - factorized_top_k/top_50_categorical_accuracy: 0.4395 - factorized_top_k/top_100_categorical_accuracy: 0.4395 - binary_accuracy: 0.8221 - loss: 113.2441 - regularization_loss: 0.0000e+00 - total_loss: 113.2441 - val_factorized_top_k/top_1_categorical_accuracy: 0.5527 - val_factorized_top_k/top_5_categorical_accuracy: 0.6983 - val_factorized_top_k/top_10_categorical_accuracy: 0.6983 - val_factorized_top_k/top_50_categorical_accuracy: 0.6983 - val_factorized_top_k/top_100_categorical_accuracy: 0.6983 - val_binary_accuracy: 0.8345 - val_loss: 29.1494 - val_regularization_loss: 0.0000e+00 - val_total_loss: 29.1494\n",
            "Epoch 81/100\n",
            "398/398 [==============================] - 60s 150ms/step - factorized_top_k/top_1_categorical_accuracy: 0.3814 - factorized_top_k/top_5_categorical_accuracy: 0.5294 - factorized_top_k/top_10_categorical_accuracy: 0.5294 - factorized_top_k/top_50_categorical_accuracy: 0.5294 - factorized_top_k/top_100_categorical_accuracy: 0.5294 - binary_accuracy: 0.8221 - loss: 113.2399 - regularization_loss: 0.0000e+00 - total_loss: 113.2399 - val_factorized_top_k/top_1_categorical_accuracy: 0.5313 - val_factorized_top_k/top_5_categorical_accuracy: 0.6964 - val_factorized_top_k/top_10_categorical_accuracy: 0.6964 - val_factorized_top_k/top_50_categorical_accuracy: 0.6964 - val_factorized_top_k/top_100_categorical_accuracy: 0.6964 - val_binary_accuracy: 0.8345 - val_loss: 29.1494 - val_regularization_loss: 0.0000e+00 - val_total_loss: 29.1494\n",
            "Epoch 82/100\n",
            "398/398 [==============================] - 60s 150ms/step - factorized_top_k/top_1_categorical_accuracy: 0.3511 - factorized_top_k/top_5_categorical_accuracy: 0.4640 - factorized_top_k/top_10_categorical_accuracy: 0.4640 - factorized_top_k/top_50_categorical_accuracy: 0.4640 - factorized_top_k/top_100_categorical_accuracy: 0.4640 - binary_accuracy: 0.8221 - loss: 113.2441 - regularization_loss: 0.0000e+00 - total_loss: 113.2441 - val_factorized_top_k/top_1_categorical_accuracy: 0.5813 - val_factorized_top_k/top_5_categorical_accuracy: 0.6933 - val_factorized_top_k/top_10_categorical_accuracy: 0.6933 - val_factorized_top_k/top_50_categorical_accuracy: 0.6933 - val_factorized_top_k/top_100_categorical_accuracy: 0.6933 - val_binary_accuracy: 0.8345 - val_loss: 29.1494 - val_regularization_loss: 0.0000e+00 - val_total_loss: 29.1494\n",
            "Epoch 83/100\n",
            "398/398 [==============================] - 60s 150ms/step - factorized_top_k/top_1_categorical_accuracy: 0.3821 - factorized_top_k/top_5_categorical_accuracy: 0.4447 - factorized_top_k/top_10_categorical_accuracy: 0.4447 - factorized_top_k/top_50_categorical_accuracy: 0.4447 - factorized_top_k/top_100_categorical_accuracy: 0.4447 - binary_accuracy: 0.8219 - loss: 113.2531 - regularization_loss: 0.0000e+00 - total_loss: 113.2531 - val_factorized_top_k/top_1_categorical_accuracy: 0.6530 - val_factorized_top_k/top_5_categorical_accuracy: 0.6905 - val_factorized_top_k/top_10_categorical_accuracy: 0.6905 - val_factorized_top_k/top_50_categorical_accuracy: 0.6905 - val_factorized_top_k/top_100_categorical_accuracy: 0.6905 - val_binary_accuracy: 0.8345 - val_loss: 29.1494 - val_regularization_loss: 0.0000e+00 - val_total_loss: 29.1494\n",
            "Epoch 84/100\n",
            "398/398 [==============================] - 60s 152ms/step - factorized_top_k/top_1_categorical_accuracy: 0.5352 - factorized_top_k/top_5_categorical_accuracy: 0.5719 - factorized_top_k/top_10_categorical_accuracy: 0.5719 - factorized_top_k/top_50_categorical_accuracy: 0.5719 - factorized_top_k/top_100_categorical_accuracy: 0.5719 - binary_accuracy: 0.8221 - loss: 113.2569 - regularization_loss: 0.0000e+00 - total_loss: 113.2569 - val_factorized_top_k/top_1_categorical_accuracy: 0.6436 - val_factorized_top_k/top_5_categorical_accuracy: 0.6732 - val_factorized_top_k/top_10_categorical_accuracy: 0.6732 - val_factorized_top_k/top_50_categorical_accuracy: 0.6732 - val_factorized_top_k/top_100_categorical_accuracy: 0.6732 - val_binary_accuracy: 0.8345 - val_loss: 29.1494 - val_regularization_loss: 0.0000e+00 - val_total_loss: 29.1494\n",
            "Epoch 85/100\n",
            "398/398 [==============================] - 60s 151ms/step - factorized_top_k/top_1_categorical_accuracy: 0.4925 - factorized_top_k/top_5_categorical_accuracy: 0.5272 - factorized_top_k/top_10_categorical_accuracy: 0.5272 - factorized_top_k/top_50_categorical_accuracy: 0.5272 - factorized_top_k/top_100_categorical_accuracy: 0.5272 - binary_accuracy: 0.8221 - loss: 113.2441 - regularization_loss: 0.0000e+00 - total_loss: 113.2441 - val_factorized_top_k/top_1_categorical_accuracy: 0.6445 - val_factorized_top_k/top_5_categorical_accuracy: 0.6845 - val_factorized_top_k/top_10_categorical_accuracy: 0.6845 - val_factorized_top_k/top_50_categorical_accuracy: 0.6845 - val_factorized_top_k/top_100_categorical_accuracy: 0.6845 - val_binary_accuracy: 0.8345 - val_loss: 29.1494 - val_regularization_loss: 0.0000e+00 - val_total_loss: 29.1494\n",
            "Epoch 86/100\n",
            "398/398 [==============================] - 60s 150ms/step - factorized_top_k/top_1_categorical_accuracy: 0.5568 - factorized_top_k/top_5_categorical_accuracy: 0.6286 - factorized_top_k/top_10_categorical_accuracy: 0.6286 - factorized_top_k/top_50_categorical_accuracy: 0.6286 - factorized_top_k/top_100_categorical_accuracy: 0.6286 - binary_accuracy: 0.8216 - loss: 113.2451 - regularization_loss: 0.0000e+00 - total_loss: 113.2451 - val_factorized_top_k/top_1_categorical_accuracy: 0.6103 - val_factorized_top_k/top_5_categorical_accuracy: 0.6719 - val_factorized_top_k/top_10_categorical_accuracy: 0.6719 - val_factorized_top_k/top_50_categorical_accuracy: 0.6719 - val_factorized_top_k/top_100_categorical_accuracy: 0.6719 - val_binary_accuracy: 0.8345 - val_loss: 29.1494 - val_regularization_loss: 0.0000e+00 - val_total_loss: 29.1494\n",
            "Epoch 87/100\n",
            "398/398 [==============================] - 59s 148ms/step - factorized_top_k/top_1_categorical_accuracy: 0.4684 - factorized_top_k/top_5_categorical_accuracy: 0.5251 - factorized_top_k/top_10_categorical_accuracy: 0.5251 - factorized_top_k/top_50_categorical_accuracy: 0.5251 - factorized_top_k/top_100_categorical_accuracy: 0.5251 - binary_accuracy: 0.8221 - loss: 113.2441 - regularization_loss: 0.0000e+00 - total_loss: 113.2441 - val_factorized_top_k/top_1_categorical_accuracy: 0.6291 - val_factorized_top_k/top_5_categorical_accuracy: 0.6870 - val_factorized_top_k/top_10_categorical_accuracy: 0.6870 - val_factorized_top_k/top_50_categorical_accuracy: 0.6870 - val_factorized_top_k/top_100_categorical_accuracy: 0.6870 - val_binary_accuracy: 0.8345 - val_loss: 29.1494 - val_regularization_loss: 0.0000e+00 - val_total_loss: 29.1494\n",
            "Epoch 88/100\n",
            "398/398 [==============================] - 60s 151ms/step - factorized_top_k/top_1_categorical_accuracy: 0.3917 - factorized_top_k/top_5_categorical_accuracy: 0.4436 - factorized_top_k/top_10_categorical_accuracy: 0.4436 - factorized_top_k/top_50_categorical_accuracy: 0.4436 - factorized_top_k/top_100_categorical_accuracy: 0.4436 - binary_accuracy: 0.8221 - loss: 113.2569 - regularization_loss: 0.0000e+00 - total_loss: 113.2569 - val_factorized_top_k/top_1_categorical_accuracy: 0.6313 - val_factorized_top_k/top_5_categorical_accuracy: 0.6933 - val_factorized_top_k/top_10_categorical_accuracy: 0.6933 - val_factorized_top_k/top_50_categorical_accuracy: 0.6933 - val_factorized_top_k/top_100_categorical_accuracy: 0.6933 - val_binary_accuracy: 0.8345 - val_loss: 29.1494 - val_regularization_loss: 0.0000e+00 - val_total_loss: 29.1494\n",
            "Epoch 89/100\n",
            "398/398 [==============================] - 60s 151ms/step - factorized_top_k/top_1_categorical_accuracy: 0.4349 - factorized_top_k/top_5_categorical_accuracy: 0.4738 - factorized_top_k/top_10_categorical_accuracy: 0.4738 - factorized_top_k/top_50_categorical_accuracy: 0.4738 - factorized_top_k/top_100_categorical_accuracy: 0.4738 - binary_accuracy: 0.8219 - loss: 113.2443 - regularization_loss: 0.0000e+00 - total_loss: 113.2443 - val_factorized_top_k/top_1_categorical_accuracy: 0.6659 - val_factorized_top_k/top_5_categorical_accuracy: 0.6996 - val_factorized_top_k/top_10_categorical_accuracy: 0.6996 - val_factorized_top_k/top_50_categorical_accuracy: 0.6996 - val_factorized_top_k/top_100_categorical_accuracy: 0.6996 - val_binary_accuracy: 0.8345 - val_loss: 29.1494 - val_regularization_loss: 0.0000e+00 - val_total_loss: 29.1494\n",
            "Epoch 90/100\n",
            "398/398 [==============================] - 60s 151ms/step - factorized_top_k/top_1_categorical_accuracy: 0.4619 - factorized_top_k/top_5_categorical_accuracy: 0.4978 - factorized_top_k/top_10_categorical_accuracy: 0.4978 - factorized_top_k/top_50_categorical_accuracy: 0.4978 - factorized_top_k/top_100_categorical_accuracy: 0.4978 - binary_accuracy: 0.8221 - loss: 113.2569 - regularization_loss: 0.0000e+00 - total_loss: 113.2569 - val_factorized_top_k/top_1_categorical_accuracy: 0.6559 - val_factorized_top_k/top_5_categorical_accuracy: 0.6911 - val_factorized_top_k/top_10_categorical_accuracy: 0.6911 - val_factorized_top_k/top_50_categorical_accuracy: 0.6911 - val_factorized_top_k/top_100_categorical_accuracy: 0.6911 - val_binary_accuracy: 0.8345 - val_loss: 29.1494 - val_regularization_loss: 0.0000e+00 - val_total_loss: 29.1494\n",
            "Epoch 91/100\n",
            "398/398 [==============================] - 60s 151ms/step - factorized_top_k/top_1_categorical_accuracy: 0.4696 - factorized_top_k/top_5_categorical_accuracy: 0.4958 - factorized_top_k/top_10_categorical_accuracy: 0.4958 - factorized_top_k/top_50_categorical_accuracy: 0.4958 - factorized_top_k/top_100_categorical_accuracy: 0.4958 - binary_accuracy: 0.8221 - loss: 113.2441 - regularization_loss: 0.0000e+00 - total_loss: 113.2441 - val_factorized_top_k/top_1_categorical_accuracy: 0.6540 - val_factorized_top_k/top_5_categorical_accuracy: 0.6703 - val_factorized_top_k/top_10_categorical_accuracy: 0.6703 - val_factorized_top_k/top_50_categorical_accuracy: 0.6703 - val_factorized_top_k/top_100_categorical_accuracy: 0.6703 - val_binary_accuracy: 0.8345 - val_loss: 29.1494 - val_regularization_loss: 0.0000e+00 - val_total_loss: 29.1494\n",
            "Epoch 92/100\n",
            "398/398 [==============================] - 60s 150ms/step - factorized_top_k/top_1_categorical_accuracy: 0.4125 - factorized_top_k/top_5_categorical_accuracy: 0.4277 - factorized_top_k/top_10_categorical_accuracy: 0.4277 - factorized_top_k/top_50_categorical_accuracy: 0.4277 - factorized_top_k/top_100_categorical_accuracy: 0.4277 - binary_accuracy: 0.8221 - loss: 113.2612 - regularization_loss: 0.0000e+00 - total_loss: 113.2612 - val_factorized_top_k/top_1_categorical_accuracy: 0.6898 - val_factorized_top_k/top_5_categorical_accuracy: 0.7053 - val_factorized_top_k/top_10_categorical_accuracy: 0.7053 - val_factorized_top_k/top_50_categorical_accuracy: 0.7053 - val_factorized_top_k/top_100_categorical_accuracy: 0.7053 - val_binary_accuracy: 0.8345 - val_loss: 29.1494 - val_regularization_loss: 0.0000e+00 - val_total_loss: 29.1494\n",
            "Epoch 93/100\n",
            "398/398 [==============================] - 59s 149ms/step - factorized_top_k/top_1_categorical_accuracy: 0.5421 - factorized_top_k/top_5_categorical_accuracy: 0.5548 - factorized_top_k/top_10_categorical_accuracy: 0.5548 - factorized_top_k/top_50_categorical_accuracy: 0.5548 - factorized_top_k/top_100_categorical_accuracy: 0.5548 - binary_accuracy: 0.8221 - loss: 113.2527 - regularization_loss: 0.0000e+00 - total_loss: 113.2527 - val_factorized_top_k/top_1_categorical_accuracy: 0.6751 - val_factorized_top_k/top_5_categorical_accuracy: 0.6851 - val_factorized_top_k/top_10_categorical_accuracy: 0.6851 - val_factorized_top_k/top_50_categorical_accuracy: 0.6851 - val_factorized_top_k/top_100_categorical_accuracy: 0.6851 - val_binary_accuracy: 0.8345 - val_loss: 29.1494 - val_regularization_loss: 0.0000e+00 - val_total_loss: 29.1494\n",
            "Epoch 94/100\n",
            "398/398 [==============================] - 60s 150ms/step - factorized_top_k/top_1_categorical_accuracy: 0.6536 - factorized_top_k/top_5_categorical_accuracy: 0.6593 - factorized_top_k/top_10_categorical_accuracy: 0.6593 - factorized_top_k/top_50_categorical_accuracy: 0.6593 - factorized_top_k/top_100_categorical_accuracy: 0.6593 - binary_accuracy: 0.8221 - loss: 113.2569 - regularization_loss: 0.0000e+00 - total_loss: 113.2569 - val_factorized_top_k/top_1_categorical_accuracy: 0.6908 - val_factorized_top_k/top_5_categorical_accuracy: 0.6936 - val_factorized_top_k/top_10_categorical_accuracy: 0.6936 - val_factorized_top_k/top_50_categorical_accuracy: 0.6936 - val_factorized_top_k/top_100_categorical_accuracy: 0.6936 - val_binary_accuracy: 0.8345 - val_loss: 29.1494 - val_regularization_loss: 0.0000e+00 - val_total_loss: 29.1494\n",
            "Epoch 95/100\n",
            "398/398 [==============================] - 61s 152ms/step - factorized_top_k/top_1_categorical_accuracy: 0.6503 - factorized_top_k/top_5_categorical_accuracy: 0.6546 - factorized_top_k/top_10_categorical_accuracy: 0.6546 - factorized_top_k/top_50_categorical_accuracy: 0.6546 - factorized_top_k/top_100_categorical_accuracy: 0.6546 - binary_accuracy: 0.8221 - loss: 113.2484 - regularization_loss: 0.0000e+00 - total_loss: 113.2484 - val_factorized_top_k/top_1_categorical_accuracy: 0.6785 - val_factorized_top_k/top_5_categorical_accuracy: 0.6801 - val_factorized_top_k/top_10_categorical_accuracy: 0.6801 - val_factorized_top_k/top_50_categorical_accuracy: 0.6801 - val_factorized_top_k/top_100_categorical_accuracy: 0.6801 - val_binary_accuracy: 0.8345 - val_loss: 29.1494 - val_regularization_loss: 0.0000e+00 - val_total_loss: 29.1494\n",
            "Epoch 96/100\n",
            "398/398 [==============================] - 61s 153ms/step - factorized_top_k/top_1_categorical_accuracy: 0.5307 - factorized_top_k/top_5_categorical_accuracy: 0.5342 - factorized_top_k/top_10_categorical_accuracy: 0.5342 - factorized_top_k/top_50_categorical_accuracy: 0.5342 - factorized_top_k/top_100_categorical_accuracy: 0.5342 - binary_accuracy: 0.8221 - loss: 113.2484 - regularization_loss: 0.0000e+00 - total_loss: 113.2484 - val_factorized_top_k/top_1_categorical_accuracy: 0.6688 - val_factorized_top_k/top_5_categorical_accuracy: 0.6773 - val_factorized_top_k/top_10_categorical_accuracy: 0.6773 - val_factorized_top_k/top_50_categorical_accuracy: 0.6773 - val_factorized_top_k/top_100_categorical_accuracy: 0.6773 - val_binary_accuracy: 0.8345 - val_loss: 29.1494 - val_regularization_loss: 0.0000e+00 - val_total_loss: 29.1494\n",
            "Epoch 97/100\n",
            "398/398 [==============================] - 60s 152ms/step - factorized_top_k/top_1_categorical_accuracy: 0.5598 - factorized_top_k/top_5_categorical_accuracy: 0.5642 - factorized_top_k/top_10_categorical_accuracy: 0.5642 - factorized_top_k/top_50_categorical_accuracy: 0.5642 - factorized_top_k/top_100_categorical_accuracy: 0.5642 - binary_accuracy: 0.8221 - loss: 113.2441 - regularization_loss: 0.0000e+00 - total_loss: 113.2441 - val_factorized_top_k/top_1_categorical_accuracy: 0.6785 - val_factorized_top_k/top_5_categorical_accuracy: 0.6839 - val_factorized_top_k/top_10_categorical_accuracy: 0.6839 - val_factorized_top_k/top_50_categorical_accuracy: 0.6839 - val_factorized_top_k/top_100_categorical_accuracy: 0.6839 - val_binary_accuracy: 0.8345 - val_loss: 29.1494 - val_regularization_loss: 0.0000e+00 - val_total_loss: 29.1494\n",
            "Epoch 98/100\n",
            "398/398 [==============================] - 60s 151ms/step - factorized_top_k/top_1_categorical_accuracy: 0.5951 - factorized_top_k/top_5_categorical_accuracy: 0.5984 - factorized_top_k/top_10_categorical_accuracy: 0.5984 - factorized_top_k/top_50_categorical_accuracy: 0.5984 - factorized_top_k/top_100_categorical_accuracy: 0.5984 - binary_accuracy: 0.8221 - loss: 113.2441 - regularization_loss: 0.0000e+00 - total_loss: 113.2441 - val_factorized_top_k/top_1_categorical_accuracy: 0.6955 - val_factorized_top_k/top_5_categorical_accuracy: 0.6964 - val_factorized_top_k/top_10_categorical_accuracy: 0.6964 - val_factorized_top_k/top_50_categorical_accuracy: 0.6964 - val_factorized_top_k/top_100_categorical_accuracy: 0.6964 - val_binary_accuracy: 0.8345 - val_loss: 29.1494 - val_regularization_loss: 0.0000e+00 - val_total_loss: 29.1494\n",
            "Epoch 99/100\n",
            "398/398 [==============================] - 60s 152ms/step - factorized_top_k/top_1_categorical_accuracy: 0.3666 - factorized_top_k/top_5_categorical_accuracy: 0.3699 - factorized_top_k/top_10_categorical_accuracy: 0.3699 - factorized_top_k/top_50_categorical_accuracy: 0.3699 - factorized_top_k/top_100_categorical_accuracy: 0.3699 - binary_accuracy: 0.8221 - loss: 113.2569 - regularization_loss: 0.0000e+00 - total_loss: 113.2569 - val_factorized_top_k/top_1_categorical_accuracy: 0.6810 - val_factorized_top_k/top_5_categorical_accuracy: 0.6848 - val_factorized_top_k/top_10_categorical_accuracy: 0.6848 - val_factorized_top_k/top_50_categorical_accuracy: 0.6848 - val_factorized_top_k/top_100_categorical_accuracy: 0.6848 - val_binary_accuracy: 0.8345 - val_loss: 29.1494 - val_regularization_loss: 0.0000e+00 - val_total_loss: 29.1494\n",
            "Epoch 100/100\n",
            "398/398 [==============================] - 60s 152ms/step - factorized_top_k/top_1_categorical_accuracy: 0.3984 - factorized_top_k/top_5_categorical_accuracy: 0.4034 - factorized_top_k/top_10_categorical_accuracy: 0.4034 - factorized_top_k/top_50_categorical_accuracy: 0.4034 - factorized_top_k/top_100_categorical_accuracy: 0.4034 - binary_accuracy: 0.8221 - loss: 113.2441 - regularization_loss: 0.0000e+00 - total_loss: 113.2441 - val_factorized_top_k/top_1_categorical_accuracy: 0.6744 - val_factorized_top_k/top_5_categorical_accuracy: 0.6839 - val_factorized_top_k/top_10_categorical_accuracy: 0.6839 - val_factorized_top_k/top_50_categorical_accuracy: 0.6839 - val_factorized_top_k/top_100_categorical_accuracy: 0.6839 - val_binary_accuracy: 0.8345 - val_loss: 29.1494 - val_regularization_loss: 0.0000e+00 - val_total_loss: 29.1494\n"
          ]
        }
      ],
      "source": [
        "best_model = tuner.hypermodel.build(best_hyperparams)\n",
        "best_history = best_model.fit(train, validation_data=val, epochs=100)"
      ]
    },
    {
      "cell_type": "code",
      "execution_count": null,
      "metadata": {
        "colab": {
          "base_uri": "https://localhost:8080/",
          "height": 927
        },
        "id": "20H3hZ5FbXQF",
        "outputId": "6bc09a6b-1cd3-4ebc-d148-64821148ee9a"
      },
      "outputs": [
        {
          "data": {
            "image/png": "[encoded data removed]",
            "text/plain": [
              "<Figure size 640x480 with 1 Axes>"
            ]
          },
          "metadata": {},
          "output_type": "display_data"
        },
        {
          "data": {
            "image/png": "[encoded data removed]",
            "text/plain": [
              "<Figure size 640x480 with 1 Axes>"
            ]
          },
          "metadata": {},
          "output_type": "display_data"
        }
      ],
      "source": [
        "metrics = best_history.history\n",
        "plt.plot(metrics['loss'], label='Training Loss')\n",
        "plt.plot(metrics['val_loss'], label='Validation Loss')\n",
        "plt.title('Loss over Epochs')\n",
        "plt.xlabel('Epochs')\n",
        "plt.ylabel('Loss')\n",
        "plt.legend()\n",
        "plt.show()\n",
        "\n",
        "# Plotta l'accuracy di training\n",
        "plt.plot(metrics['factorized_top_k/top_1_categorical_accuracy'], label='Top_1 Training Accuracy')\n",
        "plt.plot(metrics['val_factorized_top_k/top_1_categorical_accuracy'], label='Top_1 Validation Accuracy')\n",
        "plt.title('Accuracy over Epochs')\n",
        "plt.xlabel('Epochs')\n",
        "plt.ylabel('Accuracy')\n",
        "plt.legend()\n",
        "plt.show()"
      ]
    },
    {
      "cell_type": "code",
      "execution_count": null,
      "metadata": {
        "colab": {
          "base_uri": "https://localhost:8080/"
        },
        "id": "FuIUpvd0uvl4",
        "outputId": "aea5811a-5108-497a-b61b-89f100e38398"
      },
      "outputs": [
        {
          "name": "stdout",
          "output_type": "stream",
          "text": [
            "125/125 [==============================] - 14s 114ms/step - factorized_top_k/top_1_categorical_accuracy: 0.0058 - factorized_top_k/top_5_categorical_accuracy: 0.1361 - factorized_top_k/top_10_categorical_accuracy: 0.1361 - factorized_top_k/top_50_categorical_accuracy: 0.1376 - factorized_top_k/top_100_categorical_accuracy: 0.1401 - binary_accuracy: 0.8179 - loss: 116.1739 - regularization_loss: 0.0000e+00 - total_loss: 116.1739\n"
          ]
        },
        {
          "data": {
            "text/plain": [
              "[0.005786163732409477,\n",
              " 0.136100634932518,\n",
              " 0.136100634932518,\n",
              " 0.13761006295681,\n",
              " 0.14012578129768372,\n",
              " 0.8178616166114807,\n",
              " 20.72789764404297,\n",
              " 0,\n",
              " 20.72789764404297]"
            ]
          },
          "execution_count": 59,
          "metadata": {},
          "output_type": "execute_result"
        }
      ],
      "source": [
        "recommender.evaluate(test)"
      ]
    },
    {
      "cell_type": "markdown",
      "metadata": {
        "id": "BLO2KxvkB9f3"
      },
      "source": [
        "\n",
        "#Raccomandazioni per utente e per articolo"
      ]
    },
    {
      "cell_type": "code",
      "execution_count": null,
      "metadata": {
        "id": "jCO7pdfS7xHl"
      },
      "outputs": [],
      "source": [
        "def user_recommendations(user_id, brute_force, k=5):\n",
        "  user_id_tensor = tf.convert_to_tensor([[user_id]])\n",
        "  _, item_ids = brute_force(user_id_tensor, k)\n",
        "  return item_ids.numpy().flatten()"
      ]
    },
    {
      "cell_type": "code",
      "execution_count": null,
      "metadata": {
        "id": "XK4t8OXR70ct"
      },
      "outputs": [],
      "source": [
        "def similar_items(item_id, item_model, candidates_embeddings,candidates_ids,embedding_dim, k=5):\n",
        "  input = df_embeddings.iloc[item_id].values[:embedding_dim].reshape(1, -1)\n",
        "  item_embedding = item_model.predict(input)\n",
        "  scores = tf.matmul(item_embedding, candidates_embeddings.T)\n",
        "  top_k_indices = tf.math.top_k(scores, k=k+1).indices.numpy().flatten()\n",
        "  top_k_indices = top_k_indices[top_k_indices != item_id]\n",
        "  return [candidates_ids[i] for i in top_k_indices[:k]]"
      ]
    },
    {
      "cell_type": "code",
      "execution_count": null,
      "metadata": {
        "colab": {
          "base_uri": "https://localhost:8080/"
        },
        "id": "JDepdEVn7kva",
        "outputId": "d965810e-b8f6-4607-b3ba-db93bbfe8c97"
      },
      "outputs": [
        {
          "name": "stdout",
          "output_type": "stream",
          "text": [
            "110/110 [==============================] - 0s 1ms/step\n"
          ]
        },
        {
          "data": {
            "text/plain": [
              "<tensorflow_recommenders.layers.factorized_top_k.BruteForce at 0x7da5006b0a60>"
            ]
          },
          "execution_count": 37,
          "metadata": {},
          "output_type": "execute_result"
        }
      ],
      "source": [
        "candidates_embeddings = item_model.predict(df_embeddings.values[:, :-1])\n",
        "candidate_ids = full_items['ItemId'].values\n",
        "\n",
        "brute_force = tfrs.layers.factorized_top_k.BruteForce(user_model)\n",
        "brute_force.index(candidates_embeddings, identifiers=candidate_ids)"
      ]
    },
    {
      "cell_type": "code",
      "execution_count": null,
      "metadata": {
        "colab": {
          "base_uri": "https://localhost:8080/",
          "height": 1000
        },
        "id": "7GpoaMrX7zn2",
        "outputId": "cf7d7183-a8e2-4cca-89b3-c15111009e43"
      },
      "outputs": [
        {
          "name": "stdout",
          "output_type": "stream",
          "text": [
            "User bought\n",
            "                      Sku                     ItemName  \\\n",
            "5246   A20215810122793607    VINTAGE MERINOS CARDIGAN    \n",
            "5259   A20215810122793012    VINTAGE MERINOS CARDIGAN    \n",
            "8815   P20225516718190266           COTTON CREW NECK     \n",
            "9317   P20225712820607598            STRIPED KNIT POLO   \n",
            "9616   P20225713621810040  ORGANIC COTTON KNIT T-SHIRT   \n",
            "11596  A20225516714290140       MERINOS WOOL CREW NECK   \n",
            "13490  P20236013374002001    MERCERIZED COTTON T-SHIRT   \n",
            "16117  P20235516718190001           COTTON CREW NECK     \n",
            "\n",
            "                                                Category  UnitPrice  ItemId  \\\n",
            "5246                            ['Maglieria', 'Giacche']     343.64     969   \n",
            "5259                            ['Maglieria', 'Giacche']     343.64     970   \n",
            "8815                                       ['Maglieria']     125.00    1541   \n",
            "9317   ['Polo, Camicie e T-shirt', 'Polo, Camicie e T...     399.36    1605   \n",
            "9616              ['Polo, Camicie e T-shirt', 'Vintage']     150.00    1679   \n",
            "11596                                      ['Maglieria']     130.00    1938   \n",
            "13490                        ['Polo, Camicie e T-shirt']      90.16    2168   \n",
            "16117                             ['Maglieria, Giacche']     135.00    2623   \n",
            "\n",
            "          Collection  Availability  Color Gender  \\\n",
            "5246     Fall-Winter             0    607    Men   \n",
            "5259     Fall-Winter             0     12    Men   \n",
            "8815   Spring-Summer             0    266    Men   \n",
            "9317   Spring-Summer             0    598    Men   \n",
            "9616   Spring-Summer             0     40    Men   \n",
            "11596    Fall-Winter             0    140    Men   \n",
            "13490  Spring-Summer             1      1    Men   \n",
            "16117  Spring-Summer             1      1    Men   \n",
            "\n",
            "                                             Description  ... embedding_764  \\\n",
            "5246   cardigan in 100 extra fine merino wool featuri...  ...     -0.055354   \n",
            "5259   cardigan in 100 extra fine merino wool featuri...  ...     -0.055354   \n",
            "8815   pure cotton crew neck an essential every man s...  ...     -0.103326   \n",
            "9317   fresh cotton shortsleeved polo shirt with deta...  ...     -0.054676   \n",
            "9616   vintage effect organic fine cotton tshirt the ...  ...     -0.197580   \n",
            "11596  crew neck in extrafine merino wool its warm an...  ...     -0.101533   \n",
            "13490  mercerized cotton thread tshirt this cotton je...  ...     -0.093536   \n",
            "16117  pure cotton crew neck an essential every man s...  ...     -0.103326   \n",
            "\n",
            "      embedding_765 embedding_766  embedding_767     Id  UserId  \\\n",
            "5246      -0.204596      0.126875      -0.111216  11299    1540   \n",
            "5259      -0.204596      0.126875      -0.111216  11299    1540   \n",
            "8815      -0.141415      0.252591       0.012175  13483    1540   \n",
            "9317      -0.243899      0.132508      -0.172970  13483    1540   \n",
            "9616      -0.396577      0.231776      -0.008691  13483    1540   \n",
            "11596     -0.205030      0.219959       0.178563  15346    1540   \n",
            "13490     -0.280294      0.134717      -0.269296  17570    1540   \n",
            "16117     -0.141415      0.252591       0.012175  17570    1540   \n",
            "\n",
            "                      CreatedOnUtc  RefundedEUR  UnitPriceTaxEUR  Interaction  \n",
            "5246   2021-11-12 10:19:12.9068491          0.0            180.0            1  \n",
            "5259   2021-11-12 10:19:12.9068491          0.0            180.0            1  \n",
            "8815   2022-05-05 07:00:43.1010894          0.0            125.0            1  \n",
            "9317   2022-05-05 07:00:43.1010894          0.0            210.0            1  \n",
            "9616   2022-05-05 07:00:43.1010894          0.0            150.0            1  \n",
            "11596  2022-11-23 10:15:56.9783497          0.0            130.0            1  \n",
            "13490  2023-03-27 07:46:29.2343064          0.0            110.0            1  \n",
            "16117  2023-03-27 07:46:29.2343064          0.0            135.0            1  \n",
            "\n",
            "[8 rows x 787 columns]\n"
          ]
        },
        {
          "data": {
            "text/html": [
              "\n",
              "  <div id=\"df-5a2471e2-2bd7-43dc-a30f-2c4e4f84e908\" class=\"colab-df-container\">\n",
              "    <div>\n",
              "<style scoped>\n",
              "    .dataframe tbody tr th:only-of-type {\n",
              "        vertical-align: middle;\n",
              "    }\n",
              "\n",
              "    .dataframe tbody tr th {\n",
              "        vertical-align: top;\n",
              "    }\n",
              "\n",
              "    .dataframe thead th {\n",
              "        text-align: right;\n",
              "    }\n",
              "</style>\n",
              "<table border=\"1\" class=\"dataframe\">\n",
              "  <thead>\n",
              "    <tr style=\"text-align: right;\">\n",
              "      <th></th>\n",
              "      <th>Sku</th>\n",
              "      <th>ItemName</th>\n",
              "      <th>Category</th>\n",
              "      <th>UnitPrice</th>\n",
              "      <th>ItemId</th>\n",
              "      <th>Collection</th>\n",
              "      <th>Availability</th>\n",
              "      <th>Color</th>\n",
              "      <th>Gender</th>\n",
              "      <th>Description</th>\n",
              "      <th>Composition</th>\n",
              "      <th>TextInfo</th>\n",
              "      <th>Category_combined</th>\n",
              "    </tr>\n",
              "  </thead>\n",
              "  <tbody>\n",
              "    <tr>\n",
              "      <th>1702</th>\n",
              "      <td>P20226028471213598</td>\n",
              "      <td>SHORT-SLEEVED SWEATSHIRT</td>\n",
              "      <td>['Maglieria']</td>\n",
              "      <td>155.00</td>\n",
              "      <td>1702</td>\n",
              "      <td>Spring-Summer</td>\n",
              "      <td>0</td>\n",
              "      <td>598</td>\n",
              "      <td>Women</td>\n",
              "      <td>cotton sweatshirtstyle shortsleeved sweater fe...</td>\n",
              "      <td>cotton</td>\n",
              "      <td>short-sleeved sweatshirt cotton sweatshirtstyl...</td>\n",
              "      <td>[ ' M a g l i e r i a ' ]</td>\n",
              "    </tr>\n",
              "    <tr>\n",
              "      <th>2853</th>\n",
              "      <td>P20235719720654110</td>\n",
              "      <td>RAGLAN KNIT BOMBER</td>\n",
              "      <td>['Maglieria, Giacche']</td>\n",
              "      <td>327.95</td>\n",
              "      <td>2853</td>\n",
              "      <td>Spring-Summer</td>\n",
              "      <td>1</td>\n",
              "      <td>110</td>\n",
              "      <td>Men</td>\n",
              "      <td>fresh cotton raglan sleeve bomberstyle jacket ...</td>\n",
              "      <td>cotton</td>\n",
              "      <td>raglan knit bomber fresh cotton raglan sleeve ...</td>\n",
              "      <td>[ ' M a g l i e r i a ,   G i a c c h e ' ]</td>\n",
              "    </tr>\n",
              "    <tr>\n",
              "      <th>2880</th>\n",
              "      <td>P20235719720654598</td>\n",
              "      <td>RAGLAN KNIT BOMBER</td>\n",
              "      <td>['Maglieria, Giacche']</td>\n",
              "      <td>327.95</td>\n",
              "      <td>2880</td>\n",
              "      <td>Spring-Summer</td>\n",
              "      <td>1</td>\n",
              "      <td>598</td>\n",
              "      <td>Men</td>\n",
              "      <td>fresh cotton raglan sleeve bomberstyle jacket ...</td>\n",
              "      <td>cotton</td>\n",
              "      <td>raglan knit bomber fresh cotton raglan sleeve ...</td>\n",
              "      <td>[ ' M a g l i e r i a ,   G i a c c h e ' ]</td>\n",
              "    </tr>\n",
              "    <tr>\n",
              "      <th>2892</th>\n",
              "      <td>P20231313518626120</td>\n",
              "      <td>CELLULAR STITCH RAGLAN FULL ZIP</td>\n",
              "      <td>['Maglieria, Giacche']</td>\n",
              "      <td>254.98</td>\n",
              "      <td>2892</td>\n",
              "      <td>Spring-Summer</td>\n",
              "      <td>1</td>\n",
              "      <td>120</td>\n",
              "      <td>Men</td>\n",
              "      <td>cellular stitch 3ply linen and cotton raglan s...</td>\n",
              "      <td>linen</td>\n",
              "      <td>cellular stitch raglan full zip cellular stitc...</td>\n",
              "      <td>[ ' M a g l i e r i a ,   G i a c c h e ' ]</td>\n",
              "    </tr>\n",
              "    <tr>\n",
              "      <th>2904</th>\n",
              "      <td>P20235716669312598</td>\n",
              "      <td>ORGANIC COTTON DOUBLE-FACE GILET</td>\n",
              "      <td>['Maglieria, Giacche']</td>\n",
              "      <td>370.00</td>\n",
              "      <td>2904</td>\n",
              "      <td>Spring-Summer</td>\n",
              "      <td>1</td>\n",
              "      <td>598</td>\n",
              "      <td>Men</td>\n",
              "      <td>reversible sleeveless jacket with hood doubles...</td>\n",
              "      <td>nylon</td>\n",
              "      <td>organic cotton double-face gilet reversible sl...</td>\n",
              "      <td>[ ' M a g l i e r i a ,   G i a c c h e ' ]</td>\n",
              "    </tr>\n",
              "  </tbody>\n",
              "</table>\n",
              "</div>\n",
              "    <div class=\"colab-df-buttons\">\n",
              "\n",
              "  <div class=\"colab-df-container\">\n",
              "    <button class=\"colab-df-convert\" onclick=\"convertToInteractive('df-5a2471e2-2bd7-43dc-a30f-2c4e4f84e908')\"\n",
              "            title=\"Convert this dataframe to an interactive table.\"\n",
              "            style=\"display:none;\">\n",
              "\n",
              "  <svg xmlns=\"http://www.w3.org/2000/svg\" height=\"24px\" viewBox=\"0 -960 960 960\">\n",
              "    <path d=\"M120-120v-720h720v720H120Zm60-500h600v-160H180v160Zm220 220h160v-160H400v160Zm0 220h160v-160H400v160ZM180-400h160v-160H180v160Zm440 0h160v-160H620v160ZM180-180h160v-160H180v160Zm440 0h160v-160H620v160Z\"/>\n",
              "  </svg>\n",
              "    </button>\n",
              "\n",
              "  <style>\n",
              "    .colab-df-container {\n",
              "      display:flex;\n",
              "      gap: 12px;\n",
              "    }\n",
              "\n",
              "    .colab-df-convert {\n",
              "      background-color: #E8F0FE;\n",
              "      border: none;\n",
              "      border-radius: 50%;\n",
              "      cursor: pointer;\n",
              "      display: none;\n",
              "      fill: #1967D2;\n",
              "      height: 32px;\n",
              "      padding: 0 0 0 0;\n",
              "      width: 32px;\n",
              "    }\n",
              "\n",
              "    .colab-df-convert:hover {\n",
              "      background-color: #E2EBFA;\n",
              "      box-shadow: 0px 1px 2px rgba(60, 64, 67, 0.3), 0px 1px 3px 1px rgba(60, 64, 67, 0.15);\n",
              "      fill: #174EA6;\n",
              "    }\n",
              "\n",
              "    .colab-df-buttons div {\n",
              "      margin-bottom: 4px;\n",
              "    }\n",
              "\n",
              "    [theme=dark] .colab-df-convert {\n",
              "      background-color: #3B4455;\n",
              "      fill: #D2E3FC;\n",
              "    }\n",
              "\n",
              "    [theme=dark] .colab-df-convert:hover {\n",
              "      background-color: #434B5C;\n",
              "      box-shadow: 0px 1px 3px 1px rgba(0, 0, 0, 0.15);\n",
              "      filter: drop-shadow(0px 1px 2px rgba(0, 0, 0, 0.3));\n",
              "      fill: #FFFFFF;\n",
              "    }\n",
              "  </style>\n",
              "\n",
              "    <script>\n",
              "      const buttonEl =\n",
              "        document.querySelector('#df-5a2471e2-2bd7-43dc-a30f-2c4e4f84e908 button.colab-df-convert');\n",
              "      buttonEl.style.display =\n",
              "        google.colab.kernel.accessAllowed ? 'block' : 'none';\n",
              "\n",
              "      async function convertToInteractive(key) {\n",
              "        const element = document.querySelector('#df-5a2471e2-2bd7-43dc-a30f-2c4e4f84e908');\n",
              "        const dataTable =\n",
              "          await google.colab.kernel.invokeFunction('convertToInteractive',\n",
              "                                                    [key], {});\n",
              "        if (!dataTable) return;\n",
              "\n",
              "        const docLinkHtml = 'Like what you see? Visit the ' +\n",
              "          '<a target=\"_blank\" href=https://colab.research.google.com/notebooks/data_table.ipynb>data table notebook</a>'\n",
              "          + ' to learn more about interactive tables.';\n",
              "        element.innerHTML = '';\n",
              "        dataTable['output_type'] = 'display_data';\n",
              "        await google.colab.output.renderOutput(dataTable, element);\n",
              "        const docLink = document.createElement('div');\n",
              "        docLink.innerHTML = docLinkHtml;\n",
              "        element.appendChild(docLink);\n",
              "      }\n",
              "    </script>\n",
              "  </div>\n",
              "\n",
              "\n",
              "<div id=\"df-87d7d2f1-6d94-4324-8d74-4e6766cf723d\">\n",
              "  <button class=\"colab-df-quickchart\" onclick=\"quickchart('df-87d7d2f1-6d94-4324-8d74-4e6766cf723d')\"\n",
              "            title=\"Suggest charts\"\n",
              "            style=\"display:none;\">\n",
              "\n",
              "<svg xmlns=\"http://www.w3.org/2000/svg\" height=\"24px\"viewBox=\"0 0 24 24\"\n",
              "     width=\"24px\">\n",
              "    <g>\n",
              "        <path d=\"M19 3H5c-1.1 0-2 .9-2 2v14c0 1.1.9 2 2 2h14c1.1 0 2-.9 2-2V5c0-1.1-.9-2-2-2zM9 17H7v-7h2v7zm4 0h-2V7h2v10zm4 0h-2v-4h2v4z\"/>\n",
              "    </g>\n",
              "</svg>\n",
              "  </button>\n",
              "\n",
              "<style>\n",
              "  .colab-df-quickchart {\n",
              "      --bg-color: #E8F0FE;\n",
              "      --fill-color: #1967D2;\n",
              "      --hover-bg-color: #E2EBFA;\n",
              "      --hover-fill-color: #174EA6;\n",
              "      --disabled-fill-color: #AAA;\n",
              "      --disabled-bg-color: #DDD;\n",
              "  }\n",
              "\n",
              "  [theme=dark] .colab-df-quickchart {\n",
              "      --bg-color: #3B4455;\n",
              "      --fill-color: #D2E3FC;\n",
              "      --hover-bg-color: #434B5C;\n",
              "      --hover-fill-color: #FFFFFF;\n",
              "      --disabled-bg-color: #3B4455;\n",
              "      --disabled-fill-color: #666;\n",
              "  }\n",
              "\n",
              "  .colab-df-quickchart {\n",
              "    background-color: var(--bg-color);\n",
              "    border: none;\n",
              "    border-radius: 50%;\n",
              "    cursor: pointer;\n",
              "    display: none;\n",
              "    fill: var(--fill-color);\n",
              "    height: 32px;\n",
              "    padding: 0;\n",
              "    width: 32px;\n",
              "  }\n",
              "\n",
              "  .colab-df-quickchart:hover {\n",
              "    background-color: var(--hover-bg-color);\n",
              "    box-shadow: 0 1px 2px rgba(60, 64, 67, 0.3), 0 1px 3px 1px rgba(60, 64, 67, 0.15);\n",
              "    fill: var(--button-hover-fill-color);\n",
              "  }\n",
              "\n",
              "  .colab-df-quickchart-complete:disabled,\n",
              "  .colab-df-quickchart-complete:disabled:hover {\n",
              "    background-color: var(--disabled-bg-color);\n",
              "    fill: var(--disabled-fill-color);\n",
              "    box-shadow: none;\n",
              "  }\n",
              "\n",
              "  .colab-df-spinner {\n",
              "    border: 2px solid var(--fill-color);\n",
              "    border-color: transparent;\n",
              "    border-bottom-color: var(--fill-color);\n",
              "    animation:\n",
              "      spin 1s steps(1) infinite;\n",
              "  }\n",
              "\n",
              "  @keyframes spin {\n",
              "    0% {\n",
              "      border-color: transparent;\n",
              "      border-bottom-color: var(--fill-color);\n",
              "      border-left-color: var(--fill-color);\n",
              "    }\n",
              "    20% {\n",
              "      border-color: transparent;\n",
              "      border-left-color: var(--fill-color);\n",
              "      border-top-color: var(--fill-color);\n",
              "    }\n",
              "    30% {\n",
              "      border-color: transparent;\n",
              "      border-left-color: var(--fill-color);\n",
              "      border-top-color: var(--fill-color);\n",
              "      border-right-color: var(--fill-color);\n",
              "    }\n",
              "    40% {\n",
              "      border-color: transparent;\n",
              "      border-right-color: var(--fill-color);\n",
              "      border-top-color: var(--fill-color);\n",
              "    }\n",
              "    60% {\n",
              "      border-color: transparent;\n",
              "      border-right-color: var(--fill-color);\n",
              "    }\n",
              "    80% {\n",
              "      border-color: transparent;\n",
              "      border-right-color: var(--fill-color);\n",
              "      border-bottom-color: var(--fill-color);\n",
              "    }\n",
              "    90% {\n",
              "      border-color: transparent;\n",
              "      border-bottom-color: var(--fill-color);\n",
              "    }\n",
              "  }\n",
              "</style>\n",
              "\n",
              "  <script>\n",
              "    async function quickchart(key) {\n",
              "      const quickchartButtonEl =\n",
              "        document.querySelector('#' + key + ' button');\n",
              "      quickchartButtonEl.disabled = true;  // To prevent multiple clicks.\n",
              "      quickchartButtonEl.classList.add('colab-df-spinner');\n",
              "      try {\n",
              "        const charts = await google.colab.kernel.invokeFunction(\n",
              "            'suggestCharts', [key], {});\n",
              "      } catch (error) {\n",
              "        console.error('Error during call to suggestCharts:', error);\n",
              "      }\n",
              "      quickchartButtonEl.classList.remove('colab-df-spinner');\n",
              "      quickchartButtonEl.classList.add('colab-df-quickchart-complete');\n",
              "    }\n",
              "    (() => {\n",
              "      let quickchartButtonEl =\n",
              "        document.querySelector('#df-87d7d2f1-6d94-4324-8d74-4e6766cf723d button');\n",
              "      quickchartButtonEl.style.display =\n",
              "        google.colab.kernel.accessAllowed ? 'block' : 'none';\n",
              "    })();\n",
              "  </script>\n",
              "</div>\n",
              "    </div>\n",
              "  </div>\n"
            ],
            "text/plain": [
              "                     Sku                          ItemName  \\\n",
              "1702  P20226028471213598          SHORT-SLEEVED SWEATSHIRT   \n",
              "2853  P20235719720654110                RAGLAN KNIT BOMBER   \n",
              "2880  P20235719720654598                RAGLAN KNIT BOMBER   \n",
              "2892  P20231313518626120   CELLULAR STITCH RAGLAN FULL ZIP   \n",
              "2904  P20235716669312598  ORGANIC COTTON DOUBLE-FACE GILET   \n",
              "\n",
              "                    Category  UnitPrice  ItemId     Collection  Availability  \\\n",
              "1702           ['Maglieria']     155.00    1702  Spring-Summer             0   \n",
              "2853  ['Maglieria, Giacche']     327.95    2853  Spring-Summer             1   \n",
              "2880  ['Maglieria, Giacche']     327.95    2880  Spring-Summer             1   \n",
              "2892  ['Maglieria, Giacche']     254.98    2892  Spring-Summer             1   \n",
              "2904  ['Maglieria, Giacche']     370.00    2904  Spring-Summer             1   \n",
              "\n",
              "      Color Gender                                        Description  \\\n",
              "1702    598  Women  cotton sweatshirtstyle shortsleeved sweater fe...   \n",
              "2853    110    Men  fresh cotton raglan sleeve bomberstyle jacket ...   \n",
              "2880    598    Men  fresh cotton raglan sleeve bomberstyle jacket ...   \n",
              "2892    120    Men  cellular stitch 3ply linen and cotton raglan s...   \n",
              "2904    598    Men  reversible sleeveless jacket with hood doubles...   \n",
              "\n",
              "     Composition                                           TextInfo  \\\n",
              "1702      cotton  short-sleeved sweatshirt cotton sweatshirtstyl...   \n",
              "2853      cotton  raglan knit bomber fresh cotton raglan sleeve ...   \n",
              "2880      cotton  raglan knit bomber fresh cotton raglan sleeve ...   \n",
              "2892       linen  cellular stitch raglan full zip cellular stitc...   \n",
              "2904       nylon  organic cotton double-face gilet reversible sl...   \n",
              "\n",
              "                                Category_combined  \n",
              "1702                    [ ' M a g l i e r i a ' ]  \n",
              "2853  [ ' M a g l i e r i a ,   G i a c c h e ' ]  \n",
              "2880  [ ' M a g l i e r i a ,   G i a c c h e ' ]  \n",
              "2892  [ ' M a g l i e r i a ,   G i a c c h e ' ]  \n",
              "2904  [ ' M a g l i e r i a ,   G i a c c h e ' ]  "
            ]
          },
          "execution_count": 38,
          "metadata": {},
          "output_type": "execute_result"
        }
      ],
      "source": [
        "uid = customers[customers['CustomerId']== 91311]['UserId']\n",
        "print(\"User bought\")\n",
        "print(df_full[df_full['UserId']==uid.iloc[0]])\n",
        "recommendation_ids = user_recommendations(uid.iloc[0], brute_force)\n",
        "items[items['ItemId'].isin(recommendation_ids)]"
      ]
    },
    {
      "cell_type": "code",
      "execution_count": null,
      "metadata": {
        "id": "dSuxqX1o77W4"
      },
      "outputs": [],
      "source": [
        "item_id = 0\n",
        "similar_to = similar_items(item_id, item_model, candidates_embeddings, candidate_ids,embedding_dim, k=5)\n",
        "items[items['ItemId'].isin(similar_to)]"
      ]
    }
  ],
  "metadata": {
    "accelerator": "GPU",
    "colab": {
      "collapsed_sections": [
        "mY_WEC4-cMJc"
      ],
      "gpuType": "V100",
      "machine_shape": "hm",
      "provenance": [],
      "include_colab_link": true
    },
    "kernelspec": {
      "display_name": "Python 3",
      "name": "python3"
    },
    "language_info": {
      "name": "python"
    },
    "widgets": {
      "application/vnd.jupyter.widget-state+json": {
        "7353ce5501104cc689a38da56e20365b": {
          "model_module": "@jupyter-widgets/controls",
          "model_name": "HBoxModel",
          "model_module_version": "1.5.0",
          "state": {
            "_dom_classes": [],
            "_model_module": "@jupyter-widgets/controls",
            "_model_module_version": "1.5.0",
            "_model_name": "HBoxModel",
            "_view_count": null,
            "_view_module": "@jupyter-widgets/controls",
            "_view_module_version": "1.5.0",
            "_view_name": "HBoxView",
            "box_style": "",
            "children": [
              "IPY_MODEL_7fb87f7006c3495d97f83c6b3821c885",
              "IPY_MODEL_427af81225e8409aa706ad98002169ad",
              "IPY_MODEL_df8112a4ea094f739591b968f65391fc"
            ],
            "layout": "IPY_MODEL_5ed655003aec4b309497e91d797af229"
          }
        },
        "7fb87f7006c3495d97f83c6b3821c885": {
          "model_module": "@jupyter-widgets/controls",
          "model_name": "HTMLModel",
          "model_module_version": "1.5.0",
          "state": {
            "_dom_classes": [],
            "_model_module": "@jupyter-widgets/controls",
            "_model_module_version": "1.5.0",
            "_model_name": "HTMLModel",
            "_view_count": null,
            "_view_module": "@jupyter-widgets/controls",
            "_view_module_version": "1.5.0",
            "_view_name": "HTMLView",
            "description": "",
            "description_tooltip": null,
            "layout": "IPY_MODEL_dd5876bffdf94674b7a090e4e8bdea0d",
            "placeholder": "​",
            "style": "IPY_MODEL_230f227c468b49dba95299c0095ee3c1",
            "value": "tokenizer_config.json: 100%"
          }
        },
        "427af81225e8409aa706ad98002169ad": {
          "model_module": "@jupyter-widgets/controls",
          "model_name": "FloatProgressModel",
          "model_module_version": "1.5.0",
          "state": {
            "_dom_classes": [],
            "_model_module": "@jupyter-widgets/controls",
            "_model_module_version": "1.5.0",
            "_model_name": "FloatProgressModel",
            "_view_count": null,
            "_view_module": "@jupyter-widgets/controls",
            "_view_module_version": "1.5.0",
            "_view_name": "ProgressView",
            "bar_style": "success",
            "description": "",
            "description_tooltip": null,
            "layout": "IPY_MODEL_b04e586287c84a0296912da6538f944c",
            "max": 28,
            "min": 0,
            "orientation": "horizontal",
            "style": "IPY_MODEL_6a1d3175f9674e4db21aa40cf5efdf4f",
            "value": 28
          }
        },
        "df8112a4ea094f739591b968f65391fc": {
          "model_module": "@jupyter-widgets/controls",
          "model_name": "HTMLModel",
          "model_module_version": "1.5.0",
          "state": {
            "_dom_classes": [],
            "_model_module": "@jupyter-widgets/controls",
            "_model_module_version": "1.5.0",
            "_model_name": "HTMLModel",
            "_view_count": null,
            "_view_module": "@jupyter-widgets/controls",
            "_view_module_version": "1.5.0",
            "_view_name": "HTMLView",
            "description": "",
            "description_tooltip": null,
            "layout": "IPY_MODEL_efcbbcc89dee4e8b9ef18565cc927851",
            "placeholder": "​",
            "style": "IPY_MODEL_9606a9afe0de406896eaa378b23982c6",
            "value": " 28.0/28.0 [00:00&lt;00:00, 2.07kB/s]"
          }
        },
        "5ed655003aec4b309497e91d797af229": {
          "model_module": "@jupyter-widgets/base",
          "model_name": "LayoutModel",
          "model_module_version": "1.2.0",
          "state": {
            "_model_module": "@jupyter-widgets/base",
            "_model_module_version": "1.2.0",
            "_model_name": "LayoutModel",
            "_view_count": null,
            "_view_module": "@jupyter-widgets/base",
            "_view_module_version": "1.2.0",
            "_view_name": "LayoutView",
            "align_content": null,
            "align_items": null,
            "align_self": null,
            "border": null,
            "bottom": null,
            "display": null,
            "flex": null,
            "flex_flow": null,
            "grid_area": null,
            "grid_auto_columns": null,
            "grid_auto_flow": null,
            "grid_auto_rows": null,
            "grid_column": null,
            "grid_gap": null,
            "grid_row": null,
            "grid_template_areas": null,
            "grid_template_columns": null,
            "grid_template_rows": null,
            "height": null,
            "justify_content": null,
            "justify_items": null,
            "left": null,
            "margin": null,
            "max_height": null,
            "max_width": null,
            "min_height": null,
            "min_width": null,
            "object_fit": null,
            "object_position": null,
            "order": null,
            "overflow": null,
            "overflow_x": null,
            "overflow_y": null,
            "padding": null,
            "right": null,
            "top": null,
            "visibility": null,
            "width": null
          }
        },
        "dd5876bffdf94674b7a090e4e8bdea0d": {
          "model_module": "@jupyter-widgets/base",
          "model_name": "LayoutModel",
          "model_module_version": "1.2.0",
          "state": {
            "_model_module": "@jupyter-widgets/base",
            "_model_module_version": "1.2.0",
            "_model_name": "LayoutModel",
            "_view_count": null,
            "_view_module": "@jupyter-widgets/base",
            "_view_module_version": "1.2.0",
            "_view_name": "LayoutView",
            "align_content": null,
            "align_items": null,
            "align_self": null,
            "border": null,
            "bottom": null,
            "display": null,
            "flex": null,
            "flex_flow": null,
            "grid_area": null,
            "grid_auto_columns": null,
            "grid_auto_flow": null,
            "grid_auto_rows": null,
            "grid_column": null,
            "grid_gap": null,
            "grid_row": null,
            "grid_template_areas": null,
            "grid_template_columns": null,
            "grid_template_rows": null,
            "height": null,
            "justify_content": null,
            "justify_items": null,
            "left": null,
            "margin": null,
            "max_height": null,
            "max_width": null,
            "min_height": null,
            "min_width": null,
            "object_fit": null,
            "object_position": null,
            "order": null,
            "overflow": null,
            "overflow_x": null,
            "overflow_y": null,
            "padding": null,
            "right": null,
            "top": null,
            "visibility": null,
            "width": null
          }
        },
        "230f227c468b49dba95299c0095ee3c1": {
          "model_module": "@jupyter-widgets/controls",
          "model_name": "DescriptionStyleModel",
          "model_module_version": "1.5.0",
          "state": {
            "_model_module": "@jupyter-widgets/controls",
            "_model_module_version": "1.5.0",
            "_model_name": "DescriptionStyleModel",
            "_view_count": null,
            "_view_module": "@jupyter-widgets/base",
            "_view_module_version": "1.2.0",
            "_view_name": "StyleView",
            "description_width": ""
          }
        },
        "b04e586287c84a0296912da6538f944c": {
          "model_module": "@jupyter-widgets/base",
          "model_name": "LayoutModel",
          "model_module_version": "1.2.0",
          "state": {
            "_model_module": "@jupyter-widgets/base",
            "_model_module_version": "1.2.0",
            "_model_name": "LayoutModel",
            "_view_count": null,
            "_view_module": "@jupyter-widgets/base",
            "_view_module_version": "1.2.0",
            "_view_name": "LayoutView",
            "align_content": null,
            "align_items": null,
            "align_self": null,
            "border": null,
            "bottom": null,
            "display": null,
            "flex": null,
            "flex_flow": null,
            "grid_area": null,
            "grid_auto_columns": null,
            "grid_auto_flow": null,
            "grid_auto_rows": null,
            "grid_column": null,
            "grid_gap": null,
            "grid_row": null,
            "grid_template_areas": null,
            "grid_template_columns": null,
            "grid_template_rows": null,
            "height": null,
            "justify_content": null,
            "justify_items": null,
            "left": null,
            "margin": null,
            "max_height": null,
            "max_width": null,
            "min_height": null,
            "min_width": null,
            "object_fit": null,
            "object_position": null,
            "order": null,
            "overflow": null,
            "overflow_x": null,
            "overflow_y": null,
            "padding": null,
            "right": null,
            "top": null,
            "visibility": null,
            "width": null
          }
        },
        "6a1d3175f9674e4db21aa40cf5efdf4f": {
          "model_module": "@jupyter-widgets/controls",
          "model_name": "ProgressStyleModel",
          "model_module_version": "1.5.0",
          "state": {
            "_model_module": "@jupyter-widgets/controls",
            "_model_module_version": "1.5.0",
            "_model_name": "ProgressStyleModel",
            "_view_count": null,
            "_view_module": "@jupyter-widgets/base",
            "_view_module_version": "1.2.0",
            "_view_name": "StyleView",
            "bar_color": null,
            "description_width": ""
          }
        },
        "efcbbcc89dee4e8b9ef18565cc927851": {
          "model_module": "@jupyter-widgets/base",
          "model_name": "LayoutModel",
          "model_module_version": "1.2.0",
          "state": {
            "_model_module": "@jupyter-widgets/base",
            "_model_module_version": "1.2.0",
            "_model_name": "LayoutModel",
            "_view_count": null,
            "_view_module": "@jupyter-widgets/base",
            "_view_module_version": "1.2.0",
            "_view_name": "LayoutView",
            "align_content": null,
            "align_items": null,
            "align_self": null,
            "border": null,
            "bottom": null,
            "display": null,
            "flex": null,
            "flex_flow": null,
            "grid_area": null,
            "grid_auto_columns": null,
            "grid_auto_flow": null,
            "grid_auto_rows": null,
            "grid_column": null,
            "grid_gap": null,
            "grid_row": null,
            "grid_template_areas": null,
            "grid_template_columns": null,
            "grid_template_rows": null,
            "height": null,
            "justify_content": null,
            "justify_items": null,
            "left": null,
            "margin": null,
            "max_height": null,
            "max_width": null,
            "min_height": null,
            "min_width": null,
            "object_fit": null,
            "object_position": null,
            "order": null,
            "overflow": null,
            "overflow_x": null,
            "overflow_y": null,
            "padding": null,
            "right": null,
            "top": null,
            "visibility": null,
            "width": null
          }
        },
        "9606a9afe0de406896eaa378b23982c6": {
          "model_module": "@jupyter-widgets/controls",
          "model_name": "DescriptionStyleModel",
          "model_module_version": "1.5.0",
          "state": {
            "_model_module": "@jupyter-widgets/controls",
            "_model_module_version": "1.5.0",
            "_model_name": "DescriptionStyleModel",
            "_view_count": null,
            "_view_module": "@jupyter-widgets/base",
            "_view_module_version": "1.2.0",
            "_view_name": "StyleView",
            "description_width": ""
          }
        },
        "4b200003b465487d87b6a72c65e626ab": {
          "model_module": "@jupyter-widgets/controls",
          "model_name": "HBoxModel",
          "model_module_version": "1.5.0",
          "state": {
            "_dom_classes": [],
            "_model_module": "@jupyter-widgets/controls",
            "_model_module_version": "1.5.0",
            "_model_name": "HBoxModel",
            "_view_count": null,
            "_view_module": "@jupyter-widgets/controls",
            "_view_module_version": "1.5.0",
            "_view_name": "HBoxView",
            "box_style": "",
            "children": [
              "IPY_MODEL_b48f9d2e94604148a6e797ba38b715f3",
              "IPY_MODEL_24f95478e64942eeb7b6f39d873ab968",
              "IPY_MODEL_df6bb262cb1b46cebd0d9e666abf9f07"
            ],
            "layout": "IPY_MODEL_117407065e08448994689936a81245c3"
          }
        },
        "b48f9d2e94604148a6e797ba38b715f3": {
          "model_module": "@jupyter-widgets/controls",
          "model_name": "HTMLModel",
          "model_module_version": "1.5.0",
          "state": {
            "_dom_classes": [],
            "_model_module": "@jupyter-widgets/controls",
            "_model_module_version": "1.5.0",
            "_model_name": "HTMLModel",
            "_view_count": null,
            "_view_module": "@jupyter-widgets/controls",
            "_view_module_version": "1.5.0",
            "_view_name": "HTMLView",
            "description": "",
            "description_tooltip": null,
            "layout": "IPY_MODEL_7796830c0ae846dda1542d1eef36bc36",
            "placeholder": "​",
            "style": "IPY_MODEL_08f6991a2c26451d8c2da6c66f9dbd9f",
            "value": "vocab.txt: 100%"
          }
        },
        "24f95478e64942eeb7b6f39d873ab968": {
          "model_module": "@jupyter-widgets/controls",
          "model_name": "FloatProgressModel",
          "model_module_version": "1.5.0",
          "state": {
            "_dom_classes": [],
            "_model_module": "@jupyter-widgets/controls",
            "_model_module_version": "1.5.0",
            "_model_name": "FloatProgressModel",
            "_view_count": null,
            "_view_module": "@jupyter-widgets/controls",
            "_view_module_version": "1.5.0",
            "_view_name": "ProgressView",
            "bar_style": "success",
            "description": "",
            "description_tooltip": null,
            "layout": "IPY_MODEL_0a01b93100dc415c95d2cb4c9e503d2e",
            "max": 231508,
            "min": 0,
            "orientation": "horizontal",
            "style": "IPY_MODEL_65b92bc239ff4195b4ec23e0eb9ada9f",
            "value": 231508
          }
        },
        "df6bb262cb1b46cebd0d9e666abf9f07": {
          "model_module": "@jupyter-widgets/controls",
          "model_name": "HTMLModel",
          "model_module_version": "1.5.0",
          "state": {
            "_dom_classes": [],
            "_model_module": "@jupyter-widgets/controls",
            "_model_module_version": "1.5.0",
            "_model_name": "HTMLModel",
            "_view_count": null,
            "_view_module": "@jupyter-widgets/controls",
            "_view_module_version": "1.5.0",
            "_view_name": "HTMLView",
            "description": "",
            "description_tooltip": null,
            "layout": "IPY_MODEL_4e37dfd401634233a85a794377fcb0ed",
            "placeholder": "​",
            "style": "IPY_MODEL_3a83d003997248269163e5b7c9b645b5",
            "value": " 232k/232k [00:00&lt;00:00, 1.40MB/s]"
          }
        },
        "117407065e08448994689936a81245c3": {
          "model_module": "@jupyter-widgets/base",
          "model_name": "LayoutModel",
          "model_module_version": "1.2.0",
          "state": {
            "_model_module": "@jupyter-widgets/base",
            "_model_module_version": "1.2.0",
            "_model_name": "LayoutModel",
            "_view_count": null,
            "_view_module": "@jupyter-widgets/base",
            "_view_module_version": "1.2.0",
            "_view_name": "LayoutView",
            "align_content": null,
            "align_items": null,
            "align_self": null,
            "border": null,
            "bottom": null,
            "display": null,
            "flex": null,
            "flex_flow": null,
            "grid_area": null,
            "grid_auto_columns": null,
            "grid_auto_flow": null,
            "grid_auto_rows": null,
            "grid_column": null,
            "grid_gap": null,
            "grid_row": null,
            "grid_template_areas": null,
            "grid_template_columns": null,
            "grid_template_rows": null,
            "height": null,
            "justify_content": null,
            "justify_items": null,
            "left": null,
            "margin": null,
            "max_height": null,
            "max_width": null,
            "min_height": null,
            "min_width": null,
            "object_fit": null,
            "object_position": null,
            "order": null,
            "overflow": null,
            "overflow_x": null,
            "overflow_y": null,
            "padding": null,
            "right": null,
            "top": null,
            "visibility": null,
            "width": null
          }
        },
        "7796830c0ae846dda1542d1eef36bc36": {
          "model_module": "@jupyter-widgets/base",
          "model_name": "LayoutModel",
          "model_module_version": "1.2.0",
          "state": {
            "_model_module": "@jupyter-widgets/base",
            "_model_module_version": "1.2.0",
            "_model_name": "LayoutModel",
            "_view_count": null,
            "_view_module": "@jupyter-widgets/base",
            "_view_module_version": "1.2.0",
            "_view_name": "LayoutView",
            "align_content": null,
            "align_items": null,
            "align_self": null,
            "border": null,
            "bottom": null,
            "display": null,
            "flex": null,
            "flex_flow": null,
            "grid_area": null,
            "grid_auto_columns": null,
            "grid_auto_flow": null,
            "grid_auto_rows": null,
            "grid_column": null,
            "grid_gap": null,
            "grid_row": null,
            "grid_template_areas": null,
            "grid_template_columns": null,
            "grid_template_rows": null,
            "height": null,
            "justify_content": null,
            "justify_items": null,
            "left": null,
            "margin": null,
            "max_height": null,
            "max_width": null,
            "min_height": null,
            "min_width": null,
            "object_fit": null,
            "object_position": null,
            "order": null,
            "overflow": null,
            "overflow_x": null,
            "overflow_y": null,
            "padding": null,
            "right": null,
            "top": null,
            "visibility": null,
            "width": null
          }
        },
        "08f6991a2c26451d8c2da6c66f9dbd9f": {
          "model_module": "@jupyter-widgets/controls",
          "model_name": "DescriptionStyleModel",
          "model_module_version": "1.5.0",
          "state": {
            "_model_module": "@jupyter-widgets/controls",
            "_model_module_version": "1.5.0",
            "_model_name": "DescriptionStyleModel",
            "_view_count": null,
            "_view_module": "@jupyter-widgets/base",
            "_view_module_version": "1.2.0",
            "_view_name": "StyleView",
            "description_width": ""
          }
        },
        "0a01b93100dc415c95d2cb4c9e503d2e": {
          "model_module": "@jupyter-widgets/base",
          "model_name": "LayoutModel",
          "model_module_version": "1.2.0",
          "state": {
            "_model_module": "@jupyter-widgets/base",
            "_model_module_version": "1.2.0",
            "_model_name": "LayoutModel",
            "_view_count": null,
            "_view_module": "@jupyter-widgets/base",
            "_view_module_version": "1.2.0",
            "_view_name": "LayoutView",
            "align_content": null,
            "align_items": null,
            "align_self": null,
            "border": null,
            "bottom": null,
            "display": null,
            "flex": null,
            "flex_flow": null,
            "grid_area": null,
            "grid_auto_columns": null,
            "grid_auto_flow": null,
            "grid_auto_rows": null,
            "grid_column": null,
            "grid_gap": null,
            "grid_row": null,
            "grid_template_areas": null,
            "grid_template_columns": null,
            "grid_template_rows": null,
            "height": null,
            "justify_content": null,
            "justify_items": null,
            "left": null,
            "margin": null,
            "max_height": null,
            "max_width": null,
            "min_height": null,
            "min_width": null,
            "object_fit": null,
            "object_position": null,
            "order": null,
            "overflow": null,
            "overflow_x": null,
            "overflow_y": null,
            "padding": null,
            "right": null,
            "top": null,
            "visibility": null,
            "width": null
          }
        },
        "65b92bc239ff4195b4ec23e0eb9ada9f": {
          "model_module": "@jupyter-widgets/controls",
          "model_name": "ProgressStyleModel",
          "model_module_version": "1.5.0",
          "state": {
            "_model_module": "@jupyter-widgets/controls",
            "_model_module_version": "1.5.0",
            "_model_name": "ProgressStyleModel",
            "_view_count": null,
            "_view_module": "@jupyter-widgets/base",
            "_view_module_version": "1.2.0",
            "_view_name": "StyleView",
            "bar_color": null,
            "description_width": ""
          }
        },
        "4e37dfd401634233a85a794377fcb0ed": {
          "model_module": "@jupyter-widgets/base",
          "model_name": "LayoutModel",
          "model_module_version": "1.2.0",
          "state": {
            "_model_module": "@jupyter-widgets/base",
            "_model_module_version": "1.2.0",
            "_model_name": "LayoutModel",
            "_view_count": null,
            "_view_module": "@jupyter-widgets/base",
            "_view_module_version": "1.2.0",
            "_view_name": "LayoutView",
            "align_content": null,
            "align_items": null,
            "align_self": null,
            "border": null,
            "bottom": null,
            "display": null,
            "flex": null,
            "flex_flow": null,
            "grid_area": null,
            "grid_auto_columns": null,
            "grid_auto_flow": null,
            "grid_auto_rows": null,
            "grid_column": null,
            "grid_gap": null,
            "grid_row": null,
            "grid_template_areas": null,
            "grid_template_columns": null,
            "grid_template_rows": null,
            "height": null,
            "justify_content": null,
            "justify_items": null,
            "left": null,
            "margin": null,
            "max_height": null,
            "max_width": null,
            "min_height": null,
            "min_width": null,
            "object_fit": null,
            "object_position": null,
            "order": null,
            "overflow": null,
            "overflow_x": null,
            "overflow_y": null,
            "padding": null,
            "right": null,
            "top": null,
            "visibility": null,
            "width": null
          }
        },
        "3a83d003997248269163e5b7c9b645b5": {
          "model_module": "@jupyter-widgets/controls",
          "model_name": "DescriptionStyleModel",
          "model_module_version": "1.5.0",
          "state": {
            "_model_module": "@jupyter-widgets/controls",
            "_model_module_version": "1.5.0",
            "_model_name": "DescriptionStyleModel",
            "_view_count": null,
            "_view_module": "@jupyter-widgets/base",
            "_view_module_version": "1.2.0",
            "_view_name": "StyleView",
            "description_width": ""
          }
        },
        "4f7158403645486f97e4543ac0976cc7": {
          "model_module": "@jupyter-widgets/controls",
          "model_name": "HBoxModel",
          "model_module_version": "1.5.0",
          "state": {
            "_dom_classes": [],
            "_model_module": "@jupyter-widgets/controls",
            "_model_module_version": "1.5.0",
            "_model_name": "HBoxModel",
            "_view_count": null,
            "_view_module": "@jupyter-widgets/controls",
            "_view_module_version": "1.5.0",
            "_view_name": "HBoxView",
            "box_style": "",
            "children": [
              "IPY_MODEL_1fbc56375c6940279e12ad1cde136669",
              "IPY_MODEL_7118115c11754eb589570b6dd451aac8",
              "IPY_MODEL_b8035c45a498448da6962266fb6e036c"
            ],
            "layout": "IPY_MODEL_479367dac8924be0af72bd453715eb87"
          }
        },
        "1fbc56375c6940279e12ad1cde136669": {
          "model_module": "@jupyter-widgets/controls",
          "model_name": "HTMLModel",
          "model_module_version": "1.5.0",
          "state": {
            "_dom_classes": [],
            "_model_module": "@jupyter-widgets/controls",
            "_model_module_version": "1.5.0",
            "_model_name": "HTMLModel",
            "_view_count": null,
            "_view_module": "@jupyter-widgets/controls",
            "_view_module_version": "1.5.0",
            "_view_name": "HTMLView",
            "description": "",
            "description_tooltip": null,
            "layout": "IPY_MODEL_3bf4c9093f3c457687cced2d00ec9ba3",
            "placeholder": "​",
            "style": "IPY_MODEL_21569e3b606c4e77af4b45eefb620edd",
            "value": "tokenizer.json: 100%"
          }
        },
        "7118115c11754eb589570b6dd451aac8": {
          "model_module": "@jupyter-widgets/controls",
          "model_name": "FloatProgressModel",
          "model_module_version": "1.5.0",
          "state": {
            "_dom_classes": [],
            "_model_module": "@jupyter-widgets/controls",
            "_model_module_version": "1.5.0",
            "_model_name": "FloatProgressModel",
            "_view_count": null,
            "_view_module": "@jupyter-widgets/controls",
            "_view_module_version": "1.5.0",
            "_view_name": "ProgressView",
            "bar_style": "success",
            "description": "",
            "description_tooltip": null,
            "layout": "IPY_MODEL_22c6992ec8fa44748cf2138afca9f541",
            "max": 466062,
            "min": 0,
            "orientation": "horizontal",
            "style": "IPY_MODEL_14fc703f0f6240988a69c4ad7fef9f05",
            "value": 466062
          }
        },
        "b8035c45a498448da6962266fb6e036c": {
          "model_module": "@jupyter-widgets/controls",
          "model_name": "HTMLModel",
          "model_module_version": "1.5.0",
          "state": {
            "_dom_classes": [],
            "_model_module": "@jupyter-widgets/controls",
            "_model_module_version": "1.5.0",
            "_model_name": "HTMLModel",
            "_view_count": null,
            "_view_module": "@jupyter-widgets/controls",
            "_view_module_version": "1.5.0",
            "_view_name": "HTMLView",
            "description": "",
            "description_tooltip": null,
            "layout": "IPY_MODEL_25bac0b2721244f7a1322e763a5a5332",
            "placeholder": "​",
            "style": "IPY_MODEL_101c0570fe7944b9a4ab45e427a7896d",
            "value": " 466k/466k [00:00&lt;00:00, 1.88MB/s]"
          }
        },
        "479367dac8924be0af72bd453715eb87": {
          "model_module": "@jupyter-widgets/base",
          "model_name": "LayoutModel",
          "model_module_version": "1.2.0",
          "state": {
            "_model_module": "@jupyter-widgets/base",
            "_model_module_version": "1.2.0",
            "_model_name": "LayoutModel",
            "_view_count": null,
            "_view_module": "@jupyter-widgets/base",
            "_view_module_version": "1.2.0",
            "_view_name": "LayoutView",
            "align_content": null,
            "align_items": null,
            "align_self": null,
            "border": null,
            "bottom": null,
            "display": null,
            "flex": null,
            "flex_flow": null,
            "grid_area": null,
            "grid_auto_columns": null,
            "grid_auto_flow": null,
            "grid_auto_rows": null,
            "grid_column": null,
            "grid_gap": null,
            "grid_row": null,
            "grid_template_areas": null,
            "grid_template_columns": null,
            "grid_template_rows": null,
            "height": null,
            "justify_content": null,
            "justify_items": null,
            "left": null,
            "margin": null,
            "max_height": null,
            "max_width": null,
            "min_height": null,
            "min_width": null,
            "object_fit": null,
            "object_position": null,
            "order": null,
            "overflow": null,
            "overflow_x": null,
            "overflow_y": null,
            "padding": null,
            "right": null,
            "top": null,
            "visibility": null,
            "width": null
          }
        },
        "3bf4c9093f3c457687cced2d00ec9ba3": {
          "model_module": "@jupyter-widgets/base",
          "model_name": "LayoutModel",
          "model_module_version": "1.2.0",
          "state": {
            "_model_module": "@jupyter-widgets/base",
            "_model_module_version": "1.2.0",
            "_model_name": "LayoutModel",
            "_view_count": null,
            "_view_module": "@jupyter-widgets/base",
            "_view_module_version": "1.2.0",
            "_view_name": "LayoutView",
            "align_content": null,
            "align_items": null,
            "align_self": null,
            "border": null,
            "bottom": null,
            "display": null,
            "flex": null,
            "flex_flow": null,
            "grid_area": null,
            "grid_auto_columns": null,
            "grid_auto_flow": null,
            "grid_auto_rows": null,
            "grid_column": null,
            "grid_gap": null,
            "grid_row": null,
            "grid_template_areas": null,
            "grid_template_columns": null,
            "grid_template_rows": null,
            "height": null,
            "justify_content": null,
            "justify_items": null,
            "left": null,
            "margin": null,
            "max_height": null,
            "max_width": null,
            "min_height": null,
            "min_width": null,
            "object_fit": null,
            "object_position": null,
            "order": null,
            "overflow": null,
            "overflow_x": null,
            "overflow_y": null,
            "padding": null,
            "right": null,
            "top": null,
            "visibility": null,
            "width": null
          }
        },
        "21569e3b606c4e77af4b45eefb620edd": {
          "model_module": "@jupyter-widgets/controls",
          "model_name": "DescriptionStyleModel",
          "model_module_version": "1.5.0",
          "state": {
            "_model_module": "@jupyter-widgets/controls",
            "_model_module_version": "1.5.0",
            "_model_name": "DescriptionStyleModel",
            "_view_count": null,
            "_view_module": "@jupyter-widgets/base",
            "_view_module_version": "1.2.0",
            "_view_name": "StyleView",
            "description_width": ""
          }
        },
        "22c6992ec8fa44748cf2138afca9f541": {
          "model_module": "@jupyter-widgets/base",
          "model_name": "LayoutModel",
          "model_module_version": "1.2.0",
          "state": {
            "_model_module": "@jupyter-widgets/base",
            "_model_module_version": "1.2.0",
            "_model_name": "LayoutModel",
            "_view_count": null,
            "_view_module": "@jupyter-widgets/base",
            "_view_module_version": "1.2.0",
            "_view_name": "LayoutView",
            "align_content": null,
            "align_items": null,
            "align_self": null,
            "border": null,
            "bottom": null,
            "display": null,
            "flex": null,
            "flex_flow": null,
            "grid_area": null,
            "grid_auto_columns": null,
            "grid_auto_flow": null,
            "grid_auto_rows": null,
            "grid_column": null,
            "grid_gap": null,
            "grid_row": null,
            "grid_template_areas": null,
            "grid_template_columns": null,
            "grid_template_rows": null,
            "height": null,
            "justify_content": null,
            "justify_items": null,
            "left": null,
            "margin": null,
            "max_height": null,
            "max_width": null,
            "min_height": null,
            "min_width": null,
            "object_fit": null,
            "object_position": null,
            "order": null,
            "overflow": null,
            "overflow_x": null,
            "overflow_y": null,
            "padding": null,
            "right": null,
            "top": null,
            "visibility": null,
            "width": null
          }
        },
        "14fc703f0f6240988a69c4ad7fef9f05": {
          "model_module": "@jupyter-widgets/controls",
          "model_name": "ProgressStyleModel",
          "model_module_version": "1.5.0",
          "state": {
            "_model_module": "@jupyter-widgets/controls",
            "_model_module_version": "1.5.0",
            "_model_name": "ProgressStyleModel",
            "_view_count": null,
            "_view_module": "@jupyter-widgets/base",
            "_view_module_version": "1.2.0",
            "_view_name": "StyleView",
            "bar_color": null,
            "description_width": ""
          }
        },
        "25bac0b2721244f7a1322e763a5a5332": {
          "model_module": "@jupyter-widgets/base",
          "model_name": "LayoutModel",
          "model_module_version": "1.2.0",
          "state": {
            "_model_module": "@jupyter-widgets/base",
            "_model_module_version": "1.2.0",
            "_model_name": "LayoutModel",
            "_view_count": null,
            "_view_module": "@jupyter-widgets/base",
            "_view_module_version": "1.2.0",
            "_view_name": "LayoutView",
            "align_content": null,
            "align_items": null,
            "align_self": null,
            "border": null,
            "bottom": null,
            "display": null,
            "flex": null,
            "flex_flow": null,
            "grid_area": null,
            "grid_auto_columns": null,
            "grid_auto_flow": null,
            "grid_auto_rows": null,
            "grid_column": null,
            "grid_gap": null,
            "grid_row": null,
            "grid_template_areas": null,
            "grid_template_columns": null,
            "grid_template_rows": null,
            "height": null,
            "justify_content": null,
            "justify_items": null,
            "left": null,
            "margin": null,
            "max_height": null,
            "max_width": null,
            "min_height": null,
            "min_width": null,
            "object_fit": null,
            "object_position": null,
            "order": null,
            "overflow": null,
            "overflow_x": null,
            "overflow_y": null,
            "padding": null,
            "right": null,
            "top": null,
            "visibility": null,
            "width": null
          }
        },
        "101c0570fe7944b9a4ab45e427a7896d": {
          "model_module": "@jupyter-widgets/controls",
          "model_name": "DescriptionStyleModel",
          "model_module_version": "1.5.0",
          "state": {
            "_model_module": "@jupyter-widgets/controls",
            "_model_module_version": "1.5.0",
            "_model_name": "DescriptionStyleModel",
            "_view_count": null,
            "_view_module": "@jupyter-widgets/base",
            "_view_module_version": "1.2.0",
            "_view_name": "StyleView",
            "description_width": ""
          }
        },
        "5dedbcb314094f258921dfab13b01e54": {
          "model_module": "@jupyter-widgets/controls",
          "model_name": "HBoxModel",
          "model_module_version": "1.5.0",
          "state": {
            "_dom_classes": [],
            "_model_module": "@jupyter-widgets/controls",
            "_model_module_version": "1.5.0",
            "_model_name": "HBoxModel",
            "_view_count": null,
            "_view_module": "@jupyter-widgets/controls",
            "_view_module_version": "1.5.0",
            "_view_name": "HBoxView",
            "box_style": "",
            "children": [
              "IPY_MODEL_c99114508d6e42d882874de141b3d41a",
              "IPY_MODEL_a1e5e168909743a7908e41396d61918d",
              "IPY_MODEL_e6a62182a2a940f39b33379cc795f57a"
            ],
            "layout": "IPY_MODEL_c2fe0c323ee24026ace2d38037e5f627"
          }
        },
        "c99114508d6e42d882874de141b3d41a": {
          "model_module": "@jupyter-widgets/controls",
          "model_name": "HTMLModel",
          "model_module_version": "1.5.0",
          "state": {
            "_dom_classes": [],
            "_model_module": "@jupyter-widgets/controls",
            "_model_module_version": "1.5.0",
            "_model_name": "HTMLModel",
            "_view_count": null,
            "_view_module": "@jupyter-widgets/controls",
            "_view_module_version": "1.5.0",
            "_view_name": "HTMLView",
            "description": "",
            "description_tooltip": null,
            "layout": "IPY_MODEL_08e73abfd7c24b8db9e6e70ffa5b1bd6",
            "placeholder": "​",
            "style": "IPY_MODEL_1b764721c7d742c9a11d4b371df0e053",
            "value": "config.json: 100%"
          }
        },
        "a1e5e168909743a7908e41396d61918d": {
          "model_module": "@jupyter-widgets/controls",
          "model_name": "FloatProgressModel",
          "model_module_version": "1.5.0",
          "state": {
            "_dom_classes": [],
            "_model_module": "@jupyter-widgets/controls",
            "_model_module_version": "1.5.0",
            "_model_name": "FloatProgressModel",
            "_view_count": null,
            "_view_module": "@jupyter-widgets/controls",
            "_view_module_version": "1.5.0",
            "_view_name": "ProgressView",
            "bar_style": "success",
            "description": "",
            "description_tooltip": null,
            "layout": "IPY_MODEL_23bb96b7aa03445eb8c487e161464295",
            "max": 483,
            "min": 0,
            "orientation": "horizontal",
            "style": "IPY_MODEL_cab0b4d347f0459eac4b2773c42ba209",
            "value": 483
          }
        },
        "e6a62182a2a940f39b33379cc795f57a": {
          "model_module": "@jupyter-widgets/controls",
          "model_name": "HTMLModel",
          "model_module_version": "1.5.0",
          "state": {
            "_dom_classes": [],
            "_model_module": "@jupyter-widgets/controls",
            "_model_module_version": "1.5.0",
            "_model_name": "HTMLModel",
            "_view_count": null,
            "_view_module": "@jupyter-widgets/controls",
            "_view_module_version": "1.5.0",
            "_view_name": "HTMLView",
            "description": "",
            "description_tooltip": null,
            "layout": "IPY_MODEL_893195c833c54f11ae218a53a550ac21",
            "placeholder": "​",
            "style": "IPY_MODEL_aa8f6ec7b76d49caa31284010a853cdd",
            "value": " 483/483 [00:00&lt;00:00, 38.1kB/s]"
          }
        },
        "c2fe0c323ee24026ace2d38037e5f627": {
          "model_module": "@jupyter-widgets/base",
          "model_name": "LayoutModel",
          "model_module_version": "1.2.0",
          "state": {
            "_model_module": "@jupyter-widgets/base",
            "_model_module_version": "1.2.0",
            "_model_name": "LayoutModel",
            "_view_count": null,
            "_view_module": "@jupyter-widgets/base",
            "_view_module_version": "1.2.0",
            "_view_name": "LayoutView",
            "align_content": null,
            "align_items": null,
            "align_self": null,
            "border": null,
            "bottom": null,
            "display": null,
            "flex": null,
            "flex_flow": null,
            "grid_area": null,
            "grid_auto_columns": null,
            "grid_auto_flow": null,
            "grid_auto_rows": null,
            "grid_column": null,
            "grid_gap": null,
            "grid_row": null,
            "grid_template_areas": null,
            "grid_template_columns": null,
            "grid_template_rows": null,
            "height": null,
            "justify_content": null,
            "justify_items": null,
            "left": null,
            "margin": null,
            "max_height": null,
            "max_width": null,
            "min_height": null,
            "min_width": null,
            "object_fit": null,
            "object_position": null,
            "order": null,
            "overflow": null,
            "overflow_x": null,
            "overflow_y": null,
            "padding": null,
            "right": null,
            "top": null,
            "visibility": null,
            "width": null
          }
        },
        "08e73abfd7c24b8db9e6e70ffa5b1bd6": {
          "model_module": "@jupyter-widgets/base",
          "model_name": "LayoutModel",
          "model_module_version": "1.2.0",
          "state": {
            "_model_module": "@jupyter-widgets/base",
            "_model_module_version": "1.2.0",
            "_model_name": "LayoutModel",
            "_view_count": null,
            "_view_module": "@jupyter-widgets/base",
            "_view_module_version": "1.2.0",
            "_view_name": "LayoutView",
            "align_content": null,
            "align_items": null,
            "align_self": null,
            "border": null,
            "bottom": null,
            "display": null,
            "flex": null,
            "flex_flow": null,
            "grid_area": null,
            "grid_auto_columns": null,
            "grid_auto_flow": null,
            "grid_auto_rows": null,
            "grid_column": null,
            "grid_gap": null,
            "grid_row": null,
            "grid_template_areas": null,
            "grid_template_columns": null,
            "grid_template_rows": null,
            "height": null,
            "justify_content": null,
            "justify_items": null,
            "left": null,
            "margin": null,
            "max_height": null,
            "max_width": null,
            "min_height": null,
            "min_width": null,
            "object_fit": null,
            "object_position": null,
            "order": null,
            "overflow": null,
            "overflow_x": null,
            "overflow_y": null,
            "padding": null,
            "right": null,
            "top": null,
            "visibility": null,
            "width": null
          }
        },
        "1b764721c7d742c9a11d4b371df0e053": {
          "model_module": "@jupyter-widgets/controls",
          "model_name": "DescriptionStyleModel",
          "model_module_version": "1.5.0",
          "state": {
            "_model_module": "@jupyter-widgets/controls",
            "_model_module_version": "1.5.0",
            "_model_name": "DescriptionStyleModel",
            "_view_count": null,
            "_view_module": "@jupyter-widgets/base",
            "_view_module_version": "1.2.0",
            "_view_name": "StyleView",
            "description_width": ""
          }
        },
        "23bb96b7aa03445eb8c487e161464295": {
          "model_module": "@jupyter-widgets/base",
          "model_name": "LayoutModel",
          "model_module_version": "1.2.0",
          "state": {
            "_model_module": "@jupyter-widgets/base",
            "_model_module_version": "1.2.0",
            "_model_name": "LayoutModel",
            "_view_count": null,
            "_view_module": "@jupyter-widgets/base",
            "_view_module_version": "1.2.0",
            "_view_name": "LayoutView",
            "align_content": null,
            "align_items": null,
            "align_self": null,
            "border": null,
            "bottom": null,
            "display": null,
            "flex": null,
            "flex_flow": null,
            "grid_area": null,
            "grid_auto_columns": null,
            "grid_auto_flow": null,
            "grid_auto_rows": null,
            "grid_column": null,
            "grid_gap": null,
            "grid_row": null,
            "grid_template_areas": null,
            "grid_template_columns": null,
            "grid_template_rows": null,
            "height": null,
            "justify_content": null,
            "justify_items": null,
            "left": null,
            "margin": null,
            "max_height": null,
            "max_width": null,
            "min_height": null,
            "min_width": null,
            "object_fit": null,
            "object_position": null,
            "order": null,
            "overflow": null,
            "overflow_x": null,
            "overflow_y": null,
            "padding": null,
            "right": null,
            "top": null,
            "visibility": null,
            "width": null
          }
        },
        "cab0b4d347f0459eac4b2773c42ba209": {
          "model_module": "@jupyter-widgets/controls",
          "model_name": "ProgressStyleModel",
          "model_module_version": "1.5.0",
          "state": {
            "_model_module": "@jupyter-widgets/controls",
            "_model_module_version": "1.5.0",
            "_model_name": "ProgressStyleModel",
            "_view_count": null,
            "_view_module": "@jupyter-widgets/base",
            "_view_module_version": "1.2.0",
            "_view_name": "StyleView",
            "bar_color": null,
            "description_width": ""
          }
        },
        "893195c833c54f11ae218a53a550ac21": {
          "model_module": "@jupyter-widgets/base",
          "model_name": "LayoutModel",
          "model_module_version": "1.2.0",
          "state": {
            "_model_module": "@jupyter-widgets/base",
            "_model_module_version": "1.2.0",
            "_model_name": "LayoutModel",
            "_view_count": null,
            "_view_module": "@jupyter-widgets/base",
            "_view_module_version": "1.2.0",
            "_view_name": "LayoutView",
            "align_content": null,
            "align_items": null,
            "align_self": null,
            "border": null,
            "bottom": null,
            "display": null,
            "flex": null,
            "flex_flow": null,
            "grid_area": null,
            "grid_auto_columns": null,
            "grid_auto_flow": null,
            "grid_auto_rows": null,
            "grid_column": null,
            "grid_gap": null,
            "grid_row": null,
            "grid_template_areas": null,
            "grid_template_columns": null,
            "grid_template_rows": null,
            "height": null,
            "justify_content": null,
            "justify_items": null,
            "left": null,
            "margin": null,
            "max_height": null,
            "max_width": null,
            "min_height": null,
            "min_width": null,
            "object_fit": null,
            "object_position": null,
            "order": null,
            "overflow": null,
            "overflow_x": null,
            "overflow_y": null,
            "padding": null,
            "right": null,
            "top": null,
            "visibility": null,
            "width": null
          }
        },
        "aa8f6ec7b76d49caa31284010a853cdd": {
          "model_module": "@jupyter-widgets/controls",
          "model_name": "DescriptionStyleModel",
          "model_module_version": "1.5.0",
          "state": {
            "_model_module": "@jupyter-widgets/controls",
            "_model_module_version": "1.5.0",
            "_model_name": "DescriptionStyleModel",
            "_view_count": null,
            "_view_module": "@jupyter-widgets/base",
            "_view_module_version": "1.2.0",
            "_view_name": "StyleView",
            "description_width": ""
          }
        },
        "524f0d9247e44cd4a76b4abe2f93e74f": {
          "model_module": "@jupyter-widgets/controls",
          "model_name": "HBoxModel",
          "model_module_version": "1.5.0",
          "state": {
            "_dom_classes": [],
            "_model_module": "@jupyter-widgets/controls",
            "_model_module_version": "1.5.0",
            "_model_name": "HBoxModel",
            "_view_count": null,
            "_view_module": "@jupyter-widgets/controls",
            "_view_module_version": "1.5.0",
            "_view_name": "HBoxView",
            "box_style": "",
            "children": [
              "IPY_MODEL_7638a196844e45b58c52db3a86ebb48c",
              "IPY_MODEL_43d4f32ccbc849e3bc1694f9c5426db3",
              "IPY_MODEL_f863f81555694b0cba4a3c70f8fa3397"
            ],
            "layout": "IPY_MODEL_c8e6f6deca104ac9acded3d63e4a2523"
          }
        },
        "7638a196844e45b58c52db3a86ebb48c": {
          "model_module": "@jupyter-widgets/controls",
          "model_name": "HTMLModel",
          "model_module_version": "1.5.0",
          "state": {
            "_dom_classes": [],
            "_model_module": "@jupyter-widgets/controls",
            "_model_module_version": "1.5.0",
            "_model_name": "HTMLModel",
            "_view_count": null,
            "_view_module": "@jupyter-widgets/controls",
            "_view_module_version": "1.5.0",
            "_view_name": "HTMLView",
            "description": "",
            "description_tooltip": null,
            "layout": "IPY_MODEL_92f0ccaf9c9848488c866503b18e5e34",
            "placeholder": "​",
            "style": "IPY_MODEL_6a037ebae3ba4b16b8540e40ea8fa067",
            "value": "model.safetensors: 100%"
          }
        },
        "43d4f32ccbc849e3bc1694f9c5426db3": {
          "model_module": "@jupyter-widgets/controls",
          "model_name": "FloatProgressModel",
          "model_module_version": "1.5.0",
          "state": {
            "_dom_classes": [],
            "_model_module": "@jupyter-widgets/controls",
            "_model_module_version": "1.5.0",
            "_model_name": "FloatProgressModel",
            "_view_count": null,
            "_view_module": "@jupyter-widgets/controls",
            "_view_module_version": "1.5.0",
            "_view_name": "ProgressView",
            "bar_style": "success",
            "description": "",
            "description_tooltip": null,
            "layout": "IPY_MODEL_122ffdf2049545058d80c17da4a7d53d",
            "max": 267954768,
            "min": 0,
            "orientation": "horizontal",
            "style": "IPY_MODEL_38e218320e0d4b8aa71852d35cdf52b8",
            "value": 267954768
          }
        },
        "f863f81555694b0cba4a3c70f8fa3397": {
          "model_module": "@jupyter-widgets/controls",
          "model_name": "HTMLModel",
          "model_module_version": "1.5.0",
          "state": {
            "_dom_classes": [],
            "_model_module": "@jupyter-widgets/controls",
            "_model_module_version": "1.5.0",
            "_model_name": "HTMLModel",
            "_view_count": null,
            "_view_module": "@jupyter-widgets/controls",
            "_view_module_version": "1.5.0",
            "_view_name": "HTMLView",
            "description": "",
            "description_tooltip": null,
            "layout": "IPY_MODEL_6b19e18c1f1f4e7cb543b65d89d04581",
            "placeholder": "​",
            "style": "IPY_MODEL_7dccab00cb5f4881bac828731f50f34b",
            "value": " 268M/268M [00:00&lt;00:00, 364MB/s]"
          }
        },
        "c8e6f6deca104ac9acded3d63e4a2523": {
          "model_module": "@jupyter-widgets/base",
          "model_name": "LayoutModel",
          "model_module_version": "1.2.0",
          "state": {
            "_model_module": "@jupyter-widgets/base",
            "_model_module_version": "1.2.0",
            "_model_name": "LayoutModel",
            "_view_count": null,
            "_view_module": "@jupyter-widgets/base",
            "_view_module_version": "1.2.0",
            "_view_name": "LayoutView",
            "align_content": null,
            "align_items": null,
            "align_self": null,
            "border": null,
            "bottom": null,
            "display": null,
            "flex": null,
            "flex_flow": null,
            "grid_area": null,
            "grid_auto_columns": null,
            "grid_auto_flow": null,
            "grid_auto_rows": null,
            "grid_column": null,
            "grid_gap": null,
            "grid_row": null,
            "grid_template_areas": null,
            "grid_template_columns": null,
            "grid_template_rows": null,
            "height": null,
            "justify_content": null,
            "justify_items": null,
            "left": null,
            "margin": null,
            "max_height": null,
            "max_width": null,
            "min_height": null,
            "min_width": null,
            "object_fit": null,
            "object_position": null,
            "order": null,
            "overflow": null,
            "overflow_x": null,
            "overflow_y": null,
            "padding": null,
            "right": null,
            "top": null,
            "visibility": null,
            "width": null
          }
        },
        "92f0ccaf9c9848488c866503b18e5e34": {
          "model_module": "@jupyter-widgets/base",
          "model_name": "LayoutModel",
          "model_module_version": "1.2.0",
          "state": {
            "_model_module": "@jupyter-widgets/base",
            "_model_module_version": "1.2.0",
            "_model_name": "LayoutModel",
            "_view_count": null,
            "_view_module": "@jupyter-widgets/base",
            "_view_module_version": "1.2.0",
            "_view_name": "LayoutView",
            "align_content": null,
            "align_items": null,
            "align_self": null,
            "border": null,
            "bottom": null,
            "display": null,
            "flex": null,
            "flex_flow": null,
            "grid_area": null,
            "grid_auto_columns": null,
            "grid_auto_flow": null,
            "grid_auto_rows": null,
            "grid_column": null,
            "grid_gap": null,
            "grid_row": null,
            "grid_template_areas": null,
            "grid_template_columns": null,
            "grid_template_rows": null,
            "height": null,
            "justify_content": null,
            "justify_items": null,
            "left": null,
            "margin": null,
            "max_height": null,
            "max_width": null,
            "min_height": null,
            "min_width": null,
            "object_fit": null,
            "object_position": null,
            "order": null,
            "overflow": null,
            "overflow_x": null,
            "overflow_y": null,
            "padding": null,
            "right": null,
            "top": null,
            "visibility": null,
            "width": null
          }
        },
        "6a037ebae3ba4b16b8540e40ea8fa067": {
          "model_module": "@jupyter-widgets/controls",
          "model_name": "DescriptionStyleModel",
          "model_module_version": "1.5.0",
          "state": {
            "_model_module": "@jupyter-widgets/controls",
            "_model_module_version": "1.5.0",
            "_model_name": "DescriptionStyleModel",
            "_view_count": null,
            "_view_module": "@jupyter-widgets/base",
            "_view_module_version": "1.2.0",
            "_view_name": "StyleView",
            "description_width": ""
          }
        },
        "122ffdf2049545058d80c17da4a7d53d": {
          "model_module": "@jupyter-widgets/base",
          "model_name": "LayoutModel",
          "model_module_version": "1.2.0",
          "state": {
            "_model_module": "@jupyter-widgets/base",
            "_model_module_version": "1.2.0",
            "_model_name": "LayoutModel",
            "_view_count": null,
            "_view_module": "@jupyter-widgets/base",
            "_view_module_version": "1.2.0",
            "_view_name": "LayoutView",
            "align_content": null,
            "align_items": null,
            "align_self": null,
            "border": null,
            "bottom": null,
            "display": null,
            "flex": null,
            "flex_flow": null,
            "grid_area": null,
            "grid_auto_columns": null,
            "grid_auto_flow": null,
            "grid_auto_rows": null,
            "grid_column": null,
            "grid_gap": null,
            "grid_row": null,
            "grid_template_areas": null,
            "grid_template_columns": null,
            "grid_template_rows": null,
            "height": null,
            "justify_content": null,
            "justify_items": null,
            "left": null,
            "margin": null,
            "max_height": null,
            "max_width": null,
            "min_height": null,
            "min_width": null,
            "object_fit": null,
            "object_position": null,
            "order": null,
            "overflow": null,
            "overflow_x": null,
            "overflow_y": null,
            "padding": null,
            "right": null,
            "top": null,
            "visibility": null,
            "width": null
          }
        },
        "38e218320e0d4b8aa71852d35cdf52b8": {
          "model_module": "@jupyter-widgets/controls",
          "model_name": "ProgressStyleModel",
          "model_module_version": "1.5.0",
          "state": {
            "_model_module": "@jupyter-widgets/controls",
            "_model_module_version": "1.5.0",
            "_model_name": "ProgressStyleModel",
            "_view_count": null,
            "_view_module": "@jupyter-widgets/base",
            "_view_module_version": "1.2.0",
            "_view_name": "StyleView",
            "bar_color": null,
            "description_width": ""
          }
        },
        "6b19e18c1f1f4e7cb543b65d89d04581": {
          "model_module": "@jupyter-widgets/base",
          "model_name": "LayoutModel",
          "model_module_version": "1.2.0",
          "state": {
            "_model_module": "@jupyter-widgets/base",
            "_model_module_version": "1.2.0",
            "_model_name": "LayoutModel",
            "_view_count": null,
            "_view_module": "@jupyter-widgets/base",
            "_view_module_version": "1.2.0",
            "_view_name": "LayoutView",
            "align_content": null,
            "align_items": null,
            "align_self": null,
            "border": null,
            "bottom": null,
            "display": null,
            "flex": null,
            "flex_flow": null,
            "grid_area": null,
            "grid_auto_columns": null,
            "grid_auto_flow": null,
            "grid_auto_rows": null,
            "grid_column": null,
            "grid_gap": null,
            "grid_row": null,
            "grid_template_areas": null,
            "grid_template_columns": null,
            "grid_template_rows": null,
            "height": null,
            "justify_content": null,
            "justify_items": null,
            "left": null,
            "margin": null,
            "max_height": null,
            "max_width": null,
            "min_height": null,
            "min_width": null,
            "object_fit": null,
            "object_position": null,
            "order": null,
            "overflow": null,
            "overflow_x": null,
            "overflow_y": null,
            "padding": null,
            "right": null,
            "top": null,
            "visibility": null,
            "width": null
          }
        },
        "7dccab00cb5f4881bac828731f50f34b": {
          "model_module": "@jupyter-widgets/controls",
          "model_name": "DescriptionStyleModel",
          "model_module_version": "1.5.0",
          "state": {
            "_model_module": "@jupyter-widgets/controls",
            "_model_module_version": "1.5.0",
            "_model_name": "DescriptionStyleModel",
            "_view_count": null,
            "_view_module": "@jupyter-widgets/base",
            "_view_module_version": "1.2.0",
            "_view_name": "StyleView",
            "description_width": ""
          }
        }
      }
    }
  },
  "nbformat": 4,
  "nbformat_minor": 0
}